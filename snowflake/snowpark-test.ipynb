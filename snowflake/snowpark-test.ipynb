{
 "cells": [
  {
   "cell_type": "code",
   "execution_count": 9,
   "metadata": {},
   "outputs": [
    {
     "name": "stdout",
     "output_type": "stream",
     "text": [
      "PawcharzDemo27\n",
      "PawcharzDemo\n"
     ]
    }
   ],
   "source": [
    "import config\n",
    "from snowflake.snowpark import Session\n",
    "\n",
    "print(config.password[0])\n",
    "print(config.username)"
   ]
  },
  {
   "cell_type": "code",
   "execution_count": 11,
   "metadata": {},
   "outputs": [],
   "source": [
    "connection_parameters = {\n",
    "  \"account\": config.account,\n",
    "  \"user\": config.username,\n",
    "  \"password\": config.password[0],\n",
    "  # \"role\": config.role,\n",
    "  \"warehouse\": config.warehouse,\n",
    "}\n",
    "\n",
    "session = Session.builder.configs(connection_parameters).create()"
   ]
  }
 ],
 "metadata": {
  "kernelspec": {
   "display_name": "tf_gpu_2",
   "language": "python",
   "name": "python3"
  },
  "language_info": {
   "codemirror_mode": {
    "name": "ipython",
    "version": 3
   },
   "file_extension": ".py",
   "mimetype": "text/x-python",
   "name": "python",
   "nbconvert_exporter": "python",
   "pygments_lexer": "ipython3",
   "version": "3.10.13"
  }
 },
 "nbformat": 4,
 "nbformat_minor": 2
}
