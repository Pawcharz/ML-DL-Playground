{
 "cells": [
  {
   "cell_type": "code",
   "execution_count": 6,
   "metadata": {},
   "outputs": [
    {
     "name": "stdout",
     "output_type": "stream",
     "text": [
      "PawcharzDemo27\n",
      "TEST_DB\n"
     ]
    }
   ],
   "source": [
    "import config\n",
    "from snowflake.snowpark import Session\n",
    "\n",
    "print(config.password)\n",
    "print(config.database)"
   ]
  },
  {
   "cell_type": "code",
   "execution_count": 7,
   "metadata": {},
   "outputs": [],
   "source": [
    "connection_parameters = {\n",
    "  \"account\": config.account,\n",
    "  \"user\": config.username,\n",
    "  \"password\": config.password,\n",
    "  # \"role\": config.role,\n",
    "  \"warehouse\": config.warehouse,\n",
    "  \"database\": config.database,\n",
    "  \"schema\": config.schema,\n",
    "}\n",
    "\n",
    "session = Session.builder.configs(connection_parameters).create()"
   ]
  },
  {
   "cell_type": "code",
   "execution_count": 8,
   "metadata": {},
   "outputs": [
    {
     "data": {
      "text/plain": [
       "[Row(number of rows inserted=12)]"
      ]
     },
     "execution_count": 8,
     "metadata": {},
     "output_type": "execute_result"
    }
   ],
   "source": [
    "session.sql('CREATE OR REPLACE TABLE sample_product_data (id INT, parent_id INT, category_id INT, name VARCHAR, serial_number VARCHAR, key INT, \"3rd\" INT)').collect()\n",
    "# [Row(status='Table SAMPLE_PRODUCT_DATA successfully created.')]\n",
    "session.sql(\"\"\"\n",
    "  INSERT INTO sample_product_data VALUES\n",
    "  (1, 0, 5, 'Product 1', 'prod-1', 1, 10),\n",
    "  (2, 1, 5, 'Product 1A', 'prod-1-A', 1, 20),\n",
    "  (3, 1, 5, 'Product 1B', 'prod-1-B', 1, 30),\n",
    "  (4, 0, 10, 'Product 2', 'prod-2', 2, 40),\n",
    "  (5, 4, 10, 'Product 2A', 'prod-2-A', 2, 50),\n",
    "  (6, 4, 10, 'Product 2B', 'prod-2-B', 2, 60),\n",
    "  (7, 0, 20, 'Product 3', 'prod-3', 3, 70),\n",
    "  (8, 7, 20, 'Product 3A', 'prod-3-A', 3, 80),\n",
    "  (9, 7, 20, 'Product 3B', 'prod-3-B', 3, 90),\n",
    "  (10, 0, 50, 'Product 4', 'prod-4', 4, 100),\n",
    "  (11, 10, 50, 'Product 4A', 'prod-4-A', 4, 100),\n",
    "  (12, 10, 50, 'Product 4B', 'prod-4-B', 4, 100)\n",
    "  \"\"\").collect()"
   ]
  }
 ],
 "metadata": {
  "kernelspec": {
   "display_name": "tf_gpu_2",
   "language": "python",
   "name": "python3"
  },
  "language_info": {
   "codemirror_mode": {
    "name": "ipython",
    "version": 3
   },
   "file_extension": ".py",
   "mimetype": "text/x-python",
   "name": "python",
   "nbconvert_exporter": "python",
   "pygments_lexer": "ipython3",
   "version": "3.10.13"
  }
 },
 "nbformat": 4,
 "nbformat_minor": 2
}
