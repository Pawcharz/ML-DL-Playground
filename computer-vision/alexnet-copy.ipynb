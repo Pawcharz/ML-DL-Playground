{
 "cells": [
  {
   "cell_type": "code",
   "execution_count": null,
   "metadata": {},
   "outputs": [],
   "source": [
    "import numpy as np\n",
    "import tensorflow as tf\n",
    "from tensorflow import keras\n",
    "from keras import layers\n",
    "\n",
    "from keras import backend as K \n",
    "\n",
    "import matplotlib.pyplot as plt\n",
    "\n",
    "K.clear_session()"
   ]
  },
  {
   "cell_type": "code",
   "execution_count": null,
   "metadata": {},
   "outputs": [],
   "source": [
    "from keras import backend as K\n",
    "K.clear_session()"
   ]
  },
  {
   "cell_type": "markdown",
   "metadata": {},
   "source": [
    "### Setting Up GPU as a training device"
   ]
  },
  {
   "cell_type": "code",
   "execution_count": null,
   "metadata": {},
   "outputs": [],
   "source": [
    "physical_devices = tf.config.list_physical_devices()\n",
    "\n",
    "print(physical_devices)"
   ]
  },
  {
   "cell_type": "code",
   "execution_count": null,
   "metadata": {},
   "outputs": [],
   "source": [
    "tf.config.set_visible_devices(physical_devices[1], 'GPU')"
   ]
  },
  {
   "cell_type": "markdown",
   "metadata": {
    "tags": []
   },
   "source": [
    "### Loading Data"
   ]
  },
  {
   "cell_type": "code",
   "execution_count": null,
   "metadata": {},
   "outputs": [],
   "source": [
    "N_TRAIN_EXAMPLES = 20000\n",
    "N_TEST_EXAMPLES = 5000\n",
    "\n",
    "CLASSES=10"
   ]
  },
  {
   "cell_type": "code",
   "execution_count": null,
   "metadata": {},
   "outputs": [],
   "source": [
    "from sklearn.model_selection import train_test_split\n",
    "\n",
    "(X_train, Y_train), (X_test, Y_test) = keras.datasets.cifar10.load_data()\n",
    "\n",
    "# Concatenate train and test images\n",
    "X = np.concatenate((X_train, X_test))\n",
    "y = np.concatenate((Y_train, Y_test))\n",
    "\n",
    "X_train, X_test, y_train, y_test = train_test_split(X, y, train_size=N_TRAIN_EXAMPLES, test_size=N_TEST_EXAMPLES, random_state=1)\n",
    "\n",
    "# Getting dummy variables\n",
    "y_train_fixed = np.zeros((y_train.shape[0], 10))\n",
    "y_test_fixed = np.zeros((y_test.shape[0], 10))\n",
    "\n",
    "i = 0\n",
    "for [val] in y_train:\n",
    "  y_train_fixed[i][val] = 1\n",
    "  i += 1\n",
    "  \n",
    "i = 0\n",
    "for [val] in y_test:\n",
    "  y_test_fixed[i][val] = 1\n",
    "  i += 1"
   ]
  },
  {
   "cell_type": "markdown",
   "metadata": {
    "tags": []
   },
   "source": [
    "### Setting up the model"
   ]
  },
  {
   "cell_type": "markdown",
   "metadata": {},
   "source": [
    "AlexNet implementation in keras:\n",
    "\n",
    "```py\n",
    "  keras.Input(shape=(227, 227, 3)),\n",
    "  layers.Conv2D(96, kernel_size=11, strides=4, padding='same', activation=\"relu\"),\n",
    "  layers.MaxPooling2D(pool_size=3, strides=2),\n",
    "  layers.Conv2D(256, kernel_size=5, padding='same', activation=\"relu\"),\n",
    "  layers.MaxPooling2D(pool_size=3, strides=2),\n",
    "  layers.Conv2D(384, kernel_size=3, padding='same', activation=\"relu\"),\n",
    "  layers.Conv2D(384, kernel_size=3, padding='same', activation=\"relu\"),\n",
    "  layers.Conv2D(256, kernel_size=3, padding='same', activation=\"relu\"),\n",
    "  layers.MaxPooling2D(pool_size=3, strides=2),\n",
    "  layers.Dropout(0.5),\n",
    "  layers.Dense(4096, activation=\"relu\"),\n",
    "  layers.Dropout(0.5),\n",
    "  layers.Dense(4096, activation=\"relu\"),\n",
    "  layers.Dense(CLASSES, activation=\"softmax\")\n",
    "```"
   ]
  },
  {
   "cell_type": "code",
   "execution_count": null,
   "metadata": {},
   "outputs": [],
   "source": [
    "model = keras.Sequential(\n",
    "  [\n",
    "    keras.Input(shape=(32, 32, 3)),\n",
    "    layers.Conv2D(48, kernel_size=4, strides=2, padding='same', activation=\"relu\"),\n",
    "    layers.MaxPooling2D(pool_size=3, strides=2),\n",
    "    layers.Conv2D(128, kernel_size=5, padding='same', activation=\"relu\"),\n",
    "    layers.MaxPooling2D(pool_size=3, strides=2),\n",
    "    layers.Conv2D(192, kernel_size=3, padding='same', activation=\"relu\"),\n",
    "    layers.Conv2D(192, kernel_size=3, padding='same', activation=\"relu\"),\n",
    "    layers.Conv2D(128, kernel_size=3, padding='same', activation=\"relu\"),\n",
    "    layers.MaxPooling2D(pool_size=3, strides=2),\n",
    "    layers.Dropout(0.5),\n",
    "    layers.Dense(2048, activation=\"relu\"),\n",
    "    layers.Dropout(0.5),\n",
    "    layers.Dense(2048, activation=\"relu\"),\n",
    "    layers.Dense(CLASSES, activation=\"softmax\"),\n",
    "    layers.Flatten()\n",
    "  ]\n",
    ")\n",
    "\n",
    "model.summary()"
   ]
  },
  {
   "cell_type": "code",
   "execution_count": null,
   "metadata": {},
   "outputs": [],
   "source": [
    "model.compile(loss=\"categorical_crossentropy\", optimizer=\"adam\", metrics=[\"accuracy\"])"
   ]
  },
  {
   "cell_type": "markdown",
   "metadata": {},
   "source": [
    "### Training model"
   ]
  },
  {
   "cell_type": "code",
   "execution_count": null,
   "metadata": {},
   "outputs": [],
   "source": [
    "%%time\n",
    "batch_size = 256 # Training data will be split in chunks of this size that will be passed through the network at the same time\n",
    "epochs = 80 # During one epoch the model 'sees' all of the training data, with this parameter we determine how many times the model will be allowed to see them\n",
    "validation_split = 0.2 # Determines what percentage of training data will be used to validate the model after each epoch\n",
    "history = model.fit(X_train, y_train_fixed, batch_size=batch_size, epochs=epochs, validation_split=validation_split)"
   ]
  },
  {
   "cell_type": "code",
   "execution_count": null,
   "metadata": {},
   "outputs": [],
   "source": [
    "# Plotting the loss curve\n",
    "plt.figure(figsize=[6, 4])\n",
    "plt.plot(history.history['loss'], 'black', linewidth=2.0)\n",
    "plt.plot(history.history['val_loss'], 'blue', linewidth=2.0)\n",
    "plt.legend(['Training Loss', 'Validation Loss'], fontsize=12)\n",
    "plt.xlabel('Epochs', fontsize=10)\n",
    "plt.ylabel('Loss', fontsize=10)\n",
    "plt.title('Loss Curves', fontsize=12)"
   ]
  },
  {
   "cell_type": "code",
   "execution_count": null,
   "metadata": {},
   "outputs": [],
   "source": [
    "# Plotting the accuracy curve\n",
    "plt.figure(figsize=[6, 4])\n",
    "plt.plot(history.history['accuracy'], 'black', linewidth=2.0)\n",
    "plt.plot(history.history['val_accuracy'], 'blue', linewidth=2.0)\n",
    "plt.legend(['Training Accuracy', 'Validation Accuracy'], fontsize=12)\n",
    "plt.xlabel('Epochs', fontsize=10)\n",
    "plt.ylabel('Accuracy', fontsize=10)\n",
    "plt.title('Accuracy Curves', fontsize=12)"
   ]
  },
  {
   "cell_type": "markdown",
   "metadata": {},
   "source": [
    "### Saving model to file"
   ]
  },
  {
   "cell_type": "code",
   "execution_count": null,
   "metadata": {},
   "outputs": [],
   "source": [
    "model.save(\"models/cifar10_test_model.keras\")"
   ]
  }
 ],
 "metadata": {
  "kernelspec": {
   "display_name": "Python 3 (ipykernel)",
   "language": "python",
   "name": "python3"
  },
  "language_info": {
   "codemirror_mode": {
    "name": "ipython",
    "version": 3
   },
   "file_extension": ".py",
   "mimetype": "text/x-python",
   "name": "python",
   "nbconvert_exporter": "python",
   "pygments_lexer": "ipython3",
   "version": "3.10.13"
  }
 },
 "nbformat": 4,
 "nbformat_minor": 4
}
