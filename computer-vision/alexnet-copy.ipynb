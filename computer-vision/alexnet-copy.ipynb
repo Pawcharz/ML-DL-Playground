{
 "cells": [
  {
   "cell_type": "code",
   "execution_count": 7,
   "metadata": {},
   "outputs": [],
   "source": [
    "import numpy as np\n",
    "import tensorflow as tf\n",
    "from tensorflow import keras\n",
    "from keras import layers\n",
    "from keras import regularizers\n",
    "\n",
    "from keras import backend as K \n",
    "\n",
    "import matplotlib.pyplot as plt\n",
    "\n",
    "K.clear_session()"
   ]
  },
  {
   "cell_type": "code",
   "execution_count": 8,
   "metadata": {},
   "outputs": [],
   "source": [
    "from keras import backend as K\n",
    "K.clear_session()"
   ]
  },
  {
   "cell_type": "markdown",
   "metadata": {},
   "source": [
    "### Setting Up GPU as a training device"
   ]
  },
  {
   "cell_type": "code",
   "execution_count": 9,
   "metadata": {},
   "outputs": [
    {
     "name": "stdout",
     "output_type": "stream",
     "text": [
      "[PhysicalDevice(name='/physical_device:CPU:0', device_type='CPU'), PhysicalDevice(name='/physical_device:GPU:0', device_type='GPU')]\n"
     ]
    }
   ],
   "source": [
    "physical_devices = tf.config.list_physical_devices()\n",
    "\n",
    "print(physical_devices)"
   ]
  },
  {
   "cell_type": "code",
   "execution_count": 10,
   "metadata": {},
   "outputs": [],
   "source": [
    "tf.config.set_visible_devices(physical_devices[1], 'GPU')"
   ]
  },
  {
   "cell_type": "markdown",
   "metadata": {
    "tags": []
   },
   "source": [
    "### Loading Data"
   ]
  },
  {
   "cell_type": "code",
   "execution_count": 11,
   "metadata": {},
   "outputs": [],
   "source": [
    "N_TRAIN_EXAMPLES = 20000\n",
    "N_VALIDATION_EXAMPLES = 5000\n",
    "N_TEST_EXAMPLES = 5000\n",
    "\n",
    "CLASSES=10"
   ]
  },
  {
   "cell_type": "code",
   "execution_count": 12,
   "metadata": {},
   "outputs": [],
   "source": [
    "from sklearn.model_selection import train_test_split\n",
    "\n",
    "(X_train, Y_train), (X_test, Y_test) = keras.datasets.cifar10.load_data()\n",
    "\n",
    "# Concatenate train and test images\n",
    "X = np.concatenate((X_train, X_test))\n",
    "y = np.concatenate((Y_train, Y_test))\n",
    "\n",
    "X_train, X_test, y_train, y_test = train_test_split(X, y, train_size=N_TRAIN_EXAMPLES+N_VALIDATION_EXAMPLES, test_size=N_TEST_EXAMPLES, random_state=1)\n",
    "X_train, X_valid, y_train, y_valid = train_test_split(X_train, y_train, train_size=N_TRAIN_EXAMPLES, test_size=N_VALIDATION_EXAMPLES, random_state=1)\n",
    "\n",
    "# Getting dummy variables\n",
    "y_train_fixed = np.zeros((y_train.shape[0], 10))\n",
    "y_valid_fixed = np.zeros((y_valid.shape[0], 10))\n",
    "y_test_fixed = np.zeros((y_test.shape[0], 10))\n",
    "\n",
    "i = 0\n",
    "for [val] in y_train:\n",
    "  y_train_fixed[i][val] = 1\n",
    "  i += 1\n",
    "  \n",
    "i = 0\n",
    "for [val] in y_valid:\n",
    "  y_valid_fixed[i][val] = 1\n",
    "  i += 1\n",
    "  \n",
    "  \n",
    "i = 0\n",
    "for [val] in y_test:\n",
    "  y_test_fixed[i][val] = 1\n",
    "  i += 1"
   ]
  },
  {
   "cell_type": "markdown",
   "metadata": {
    "tags": []
   },
   "source": [
    "### Setting up the model"
   ]
  },
  {
   "cell_type": "markdown",
   "metadata": {},
   "source": [
    "AlexNet implementation in keras:\n",
    "\n",
    "```py\n",
    "  keras.Input(shape=(227, 227, 3)),\n",
    "  layers.Conv2D(96, kernel_size=11, strides=4, padding='same', activation=\"relu\"),\n",
    "  layers.MaxPooling2D(pool_size=3, strides=2),\n",
    "  layers.Conv2D(256, kernel_size=5, padding='same', activation=\"relu\"),\n",
    "  layers.MaxPooling2D(pool_size=3, strides=2),\n",
    "  layers.Conv2D(384, kernel_size=3, padding='same', activation=\"relu\"),\n",
    "  layers.Conv2D(384, kernel_size=3, padding='same', activation=\"relu\"),\n",
    "  layers.Conv2D(256, kernel_size=3, padding='same', activation=\"relu\"),\n",
    "  layers.MaxPooling2D(pool_size=3, strides=2),\n",
    "  layers.Dropout(0.5),\n",
    "  layers.Dense(4096, activation=\"relu\"),\n",
    "  layers.Dropout(0.5),\n",
    "  layers.Dense(4096, activation=\"relu\"),\n",
    "  layers.Dense(CLASSES, activation=\"softmax\")\n",
    "```"
   ]
  },
  {
   "cell_type": "code",
   "execution_count": 13,
   "metadata": {},
   "outputs": [
    {
     "name": "stdout",
     "output_type": "stream",
     "text": [
      "Model: \"sequential\"\n",
      "_________________________________________________________________\n",
      " Layer (type)                Output Shape              Param #   \n",
      "=================================================================\n",
      " conv2d (Conv2D)             (None, 32, 32, 80)        2240      \n",
      "                                                                 \n",
      " max_pooling2d (MaxPooling2D  (None, 31, 31, 80)       0         \n",
      " )                                                               \n",
      "                                                                 \n",
      " conv2d_1 (Conv2D)           (None, 31, 31, 112)       224112    \n",
      "                                                                 \n",
      " max_pooling2d_1 (MaxPooling  (None, 15, 15, 112)      0         \n",
      " 2D)                                                             \n",
      "                                                                 \n",
      " conv2d_2 (Conv2D)           (None, 15, 15, 160)       161440    \n",
      "                                                                 \n",
      " conv2d_3 (Conv2D)           (None, 15, 15, 160)       230560    \n",
      "                                                                 \n",
      " conv2d_4 (Conv2D)           (None, 15, 15, 112)       161392    \n",
      "                                                                 \n",
      " max_pooling2d_2 (MaxPooling  (None, 7, 7, 112)        0         \n",
      " 2D)                                                             \n",
      "                                                                 \n",
      " flatten (Flatten)           (None, 5488)              0         \n",
      "                                                                 \n",
      " dropout (Dropout)           (None, 5488)              0         \n",
      "                                                                 \n",
      " dense (Dense)               (None, 768)               4215552   \n",
      "                                                                 \n",
      " dropout_1 (Dropout)         (None, 768)               0         \n",
      "                                                                 \n",
      " dense_1 (Dense)             (None, 768)               590592    \n",
      "                                                                 \n",
      " dense_2 (Dense)             (None, 10)                7690      \n",
      "                                                                 \n",
      "=================================================================\n",
      "Total params: 5,593,578\n",
      "Trainable params: 5,593,578\n",
      "Non-trainable params: 0\n",
      "_________________________________________________________________\n"
     ]
    }
   ],
   "source": [
    "conv_regularizer = regularizers.l2(l=0.01)\n",
    "dense_regularizer = regularizers.l2(l=0.01)\n",
    "\n",
    "model = keras.Sequential(\n",
    "  [\n",
    "    keras.Input(shape=(32, 32, 3)),\n",
    "    layers.Conv2D(80, kernel_size=3, strides=1, padding='same', activation=\"relu\", kernel_regularizer=conv_regularizer),\n",
    "    layers.MaxPooling2D(pool_size=2, strides=1),\n",
    "    layers.Conv2D(112, kernel_size=5, padding='same', activation=\"relu\", kernel_regularizer=conv_regularizer),\n",
    "    layers.MaxPooling2D(pool_size=3, strides=2),\n",
    "    layers.Conv2D(160, kernel_size=3, padding='same', activation=\"relu\", kernel_regularizer=conv_regularizer),\n",
    "    layers.Conv2D(160, kernel_size=3, padding='same', activation=\"relu\", kernel_regularizer=conv_regularizer),\n",
    "    layers.Conv2D(112, kernel_size=3, padding='same', activation=\"relu\", kernel_regularizer=conv_regularizer),\n",
    "    layers.MaxPooling2D(pool_size=3, strides=2),\n",
    "    layers.Flatten(),\n",
    "    layers.Dropout(0.4),\n",
    "    layers.Dense(768, activation=\"relu\", kernel_regularizer=dense_regularizer),\n",
    "    layers.Dropout(0.4),\n",
    "    layers.Dense(768, activation=\"relu\", kernel_regularizer=dense_regularizer),\n",
    "    layers.Dense(CLASSES, activation=\"softmax\"),\n",
    "    \n",
    "  ]\n",
    ")\n",
    "\n",
    "model.summary()"
   ]
  },
  {
   "cell_type": "code",
   "execution_count": 14,
   "metadata": {},
   "outputs": [],
   "source": [
    "model.compile(loss=\"categorical_crossentropy\", optimizer=\"adam\", metrics=[\"accuracy\"])"
   ]
  },
  {
   "cell_type": "markdown",
   "metadata": {},
   "source": [
    "### Training model"
   ]
  },
  {
   "cell_type": "code",
   "execution_count": 15,
   "metadata": {},
   "outputs": [
    {
     "name": "stdout",
     "output_type": "stream",
     "text": [
      "Epoch 1/100\n",
      "79/79 [==============================] - 16s 118ms/step - loss: 21.6220 - accuracy: 0.1263 - val_loss: 15.2312 - val_accuracy: 0.1312\n",
      "Epoch 2/100\n",
      "79/79 [==============================] - 8s 101ms/step - loss: 12.4151 - accuracy: 0.2096 - val_loss: 10.2321 - val_accuracy: 0.2370\n",
      "Epoch 3/100\n",
      "79/79 [==============================] - 8s 103ms/step - loss: 8.6024 - accuracy: 0.3435 - val_loss: 7.2439 - val_accuracy: 0.3960\n",
      "Epoch 4/100\n",
      "79/79 [==============================] - 8s 101ms/step - loss: 6.4339 - accuracy: 0.4157 - val_loss: 5.5870 - val_accuracy: 0.4580\n",
      "Epoch 5/100\n",
      "79/79 [==============================] - 8s 100ms/step - loss: 5.0828 - accuracy: 0.4626 - val_loss: 5.1381 - val_accuracy: 0.3612\n",
      "Epoch 6/100\n",
      "79/79 [==============================] - 8s 100ms/step - loss: 4.3461 - accuracy: 0.4433 - val_loss: 3.8309 - val_accuracy: 0.5208\n",
      "Epoch 7/100\n",
      "79/79 [==============================] - 8s 101ms/step - loss: 3.6042 - accuracy: 0.5075 - val_loss: 3.4325 - val_accuracy: 0.4894\n",
      "Epoch 8/100\n",
      "79/79 [==============================] - 8s 101ms/step - loss: 3.1271 - accuracy: 0.5349 - val_loss: 2.9048 - val_accuracy: 0.5670\n",
      "Epoch 9/100\n",
      "79/79 [==============================] - 8s 101ms/step - loss: 2.8079 - accuracy: 0.5461 - val_loss: 2.6485 - val_accuracy: 0.5680\n",
      "Epoch 10/100\n",
      "79/79 [==============================] - 8s 101ms/step - loss: 2.5624 - accuracy: 0.5665 - val_loss: 2.4869 - val_accuracy: 0.5472\n",
      "Epoch 11/100\n",
      "79/79 [==============================] - 8s 103ms/step - loss: 2.3617 - accuracy: 0.5815 - val_loss: 2.3376 - val_accuracy: 0.5640\n",
      "Epoch 12/100\n",
      "79/79 [==============================] - 9s 108ms/step - loss: 2.1915 - accuracy: 0.5960 - val_loss: 2.0513 - val_accuracy: 0.6176\n",
      "Epoch 13/100\n",
      "79/79 [==============================] - 8s 104ms/step - loss: 2.0528 - accuracy: 0.6162 - val_loss: 2.1360 - val_accuracy: 0.5494\n",
      "Epoch 14/100\n",
      "79/79 [==============================] - 8s 104ms/step - loss: 1.9855 - accuracy: 0.6080 - val_loss: 1.8602 - val_accuracy: 0.6318\n",
      "Epoch 15/100\n",
      "79/79 [==============================] - 8s 104ms/step - loss: 1.8608 - accuracy: 0.6316 - val_loss: 1.8450 - val_accuracy: 0.6190\n",
      "Epoch 16/100\n",
      "79/79 [==============================] - 8s 104ms/step - loss: 1.8325 - accuracy: 0.6267 - val_loss: 1.7945 - val_accuracy: 0.6362\n",
      "Epoch 17/100\n",
      "79/79 [==============================] - 8s 104ms/step - loss: 1.7531 - accuracy: 0.6421 - val_loss: 1.7138 - val_accuracy: 0.6436\n",
      "Epoch 18/100\n",
      "79/79 [==============================] - 8s 104ms/step - loss: 1.6953 - accuracy: 0.6464 - val_loss: 1.7074 - val_accuracy: 0.6250\n",
      "Epoch 19/100\n",
      "79/79 [==============================] - 8s 104ms/step - loss: 1.6265 - accuracy: 0.6661 - val_loss: 1.6281 - val_accuracy: 0.6552\n",
      "Epoch 20/100\n",
      "79/79 [==============================] - 8s 104ms/step - loss: 1.6098 - accuracy: 0.6666 - val_loss: 1.6096 - val_accuracy: 0.6426\n",
      "Epoch 21/100\n",
      "79/79 [==============================] - 8s 102ms/step - loss: 1.5965 - accuracy: 0.6553 - val_loss: 1.5239 - val_accuracy: 0.6714\n",
      "Epoch 22/100\n",
      "79/79 [==============================] - 8s 102ms/step - loss: 1.5295 - accuracy: 0.6715 - val_loss: 1.5262 - val_accuracy: 0.6662\n",
      "Epoch 23/100\n",
      "79/79 [==============================] - 8s 102ms/step - loss: 1.4907 - accuracy: 0.6815 - val_loss: 1.4878 - val_accuracy: 0.6714\n",
      "Epoch 24/100\n",
      "79/79 [==============================] - 8s 102ms/step - loss: 1.4504 - accuracy: 0.6896 - val_loss: 1.6171 - val_accuracy: 0.6170\n",
      "Epoch 25/100\n",
      "79/79 [==============================] - 8s 102ms/step - loss: 1.4672 - accuracy: 0.6845 - val_loss: 1.6932 - val_accuracy: 0.6094\n",
      "Epoch 26/100\n",
      "79/79 [==============================] - 8s 101ms/step - loss: 1.4523 - accuracy: 0.6805 - val_loss: 1.5023 - val_accuracy: 0.6638\n",
      "Epoch 27/100\n",
      "79/79 [==============================] - 8s 101ms/step - loss: 1.4366 - accuracy: 0.6884 - val_loss: 1.5047 - val_accuracy: 0.6668\n",
      "Epoch 28/100\n",
      "79/79 [==============================] - 8s 101ms/step - loss: 1.4316 - accuracy: 0.6890 - val_loss: 1.4069 - val_accuracy: 0.6886\n",
      "Epoch 29/100\n",
      "79/79 [==============================] - 8s 101ms/step - loss: 1.3709 - accuracy: 0.7054 - val_loss: 1.5592 - val_accuracy: 0.6332\n",
      "Epoch 30/100\n",
      "79/79 [==============================] - 8s 100ms/step - loss: 1.4013 - accuracy: 0.6949 - val_loss: 1.4446 - val_accuracy: 0.6720\n",
      "Epoch 31/100\n",
      "79/79 [==============================] - 8s 101ms/step - loss: 1.3973 - accuracy: 0.6922 - val_loss: 1.5352 - val_accuracy: 0.6506\n",
      "Epoch 32/100\n",
      "79/79 [==============================] - 8s 101ms/step - loss: 1.3683 - accuracy: 0.7048 - val_loss: 1.5275 - val_accuracy: 0.6428\n",
      "Epoch 33/100\n",
      "79/79 [==============================] - 8s 101ms/step - loss: 1.3722 - accuracy: 0.7010 - val_loss: 1.3964 - val_accuracy: 0.6954\n",
      "Epoch 34/100\n",
      "79/79 [==============================] - 8s 101ms/step - loss: 1.3384 - accuracy: 0.7097 - val_loss: 1.3671 - val_accuracy: 0.6924\n",
      "Epoch 35/100\n",
      "79/79 [==============================] - 8s 101ms/step - loss: 1.3270 - accuracy: 0.7141 - val_loss: 1.4757 - val_accuracy: 0.6550\n",
      "Epoch 36/100\n",
      "79/79 [==============================] - 8s 101ms/step - loss: 1.3570 - accuracy: 0.7027 - val_loss: 1.4586 - val_accuracy: 0.6670\n",
      "Epoch 37/100\n",
      "79/79 [==============================] - 8s 101ms/step - loss: 1.3309 - accuracy: 0.7122 - val_loss: 1.3929 - val_accuracy: 0.6778\n",
      "Epoch 38/100\n",
      "79/79 [==============================] - 8s 101ms/step - loss: 1.3216 - accuracy: 0.7104 - val_loss: 1.2994 - val_accuracy: 0.7194\n",
      "Epoch 39/100\n",
      "79/79 [==============================] - 8s 101ms/step - loss: 1.2908 - accuracy: 0.7235 - val_loss: 1.4244 - val_accuracy: 0.6844\n",
      "Epoch 40/100\n",
      "79/79 [==============================] - 8s 101ms/step - loss: 1.2986 - accuracy: 0.7207 - val_loss: 1.3708 - val_accuracy: 0.7010\n",
      "Epoch 41/100\n",
      "79/79 [==============================] - 8s 101ms/step - loss: 1.2805 - accuracy: 0.7254 - val_loss: 1.3154 - val_accuracy: 0.7086\n",
      "Epoch 42/100\n",
      "79/79 [==============================] - 8s 101ms/step - loss: 1.2697 - accuracy: 0.7324 - val_loss: 1.4012 - val_accuracy: 0.6844\n",
      "Epoch 43/100\n",
      "79/79 [==============================] - 8s 100ms/step - loss: 1.2703 - accuracy: 0.7326 - val_loss: 1.3897 - val_accuracy: 0.6892\n",
      "Epoch 44/100\n",
      "79/79 [==============================] - 8s 101ms/step - loss: 1.3199 - accuracy: 0.7179 - val_loss: 1.4307 - val_accuracy: 0.6774\n",
      "Epoch 45/100\n",
      "79/79 [==============================] - 8s 101ms/step - loss: 1.3181 - accuracy: 0.7206 - val_loss: 1.4681 - val_accuracy: 0.6750\n",
      "Epoch 46/100\n",
      "79/79 [==============================] - 8s 100ms/step - loss: 1.2600 - accuracy: 0.7355 - val_loss: 1.3388 - val_accuracy: 0.7014\n",
      "Epoch 47/100\n",
      "79/79 [==============================] - 8s 100ms/step - loss: 1.2589 - accuracy: 0.7344 - val_loss: 1.3542 - val_accuracy: 0.7056\n",
      "Epoch 48/100\n",
      "79/79 [==============================] - 8s 101ms/step - loss: 1.2595 - accuracy: 0.7330 - val_loss: 1.3949 - val_accuracy: 0.6928\n",
      "Epoch 49/100\n",
      "79/79 [==============================] - 8s 100ms/step - loss: 1.2523 - accuracy: 0.7358 - val_loss: 1.3245 - val_accuracy: 0.7166\n",
      "Epoch 50/100\n",
      "79/79 [==============================] - 8s 101ms/step - loss: 1.2722 - accuracy: 0.7314 - val_loss: 1.3447 - val_accuracy: 0.7042\n",
      "Epoch 51/100\n",
      "79/79 [==============================] - 8s 101ms/step - loss: 1.2283 - accuracy: 0.7424 - val_loss: 1.3577 - val_accuracy: 0.6880\n",
      "Epoch 52/100\n",
      "79/79 [==============================] - 8s 100ms/step - loss: 1.2342 - accuracy: 0.7474 - val_loss: 1.2826 - val_accuracy: 0.7196\n",
      "Epoch 53/100\n",
      "79/79 [==============================] - 8s 100ms/step - loss: 1.2368 - accuracy: 0.7451 - val_loss: 1.5552 - val_accuracy: 0.6600\n",
      "Epoch 54/100\n",
      "79/79 [==============================] - 8s 101ms/step - loss: 1.2761 - accuracy: 0.7378 - val_loss: 1.3369 - val_accuracy: 0.7064\n",
      "Epoch 55/100\n",
      "79/79 [==============================] - 8s 101ms/step - loss: 1.2329 - accuracy: 0.7447 - val_loss: 1.3222 - val_accuracy: 0.7158\n",
      "Epoch 56/100\n",
      "79/79 [==============================] - 8s 101ms/step - loss: 1.2490 - accuracy: 0.7441 - val_loss: 1.3764 - val_accuracy: 0.7014\n",
      "Epoch 57/100\n",
      "79/79 [==============================] - 8s 100ms/step - loss: 1.2145 - accuracy: 0.7498 - val_loss: 1.3327 - val_accuracy: 0.7084\n",
      "Epoch 58/100\n",
      "79/79 [==============================] - 8s 100ms/step - loss: 1.2239 - accuracy: 0.7523 - val_loss: 1.3057 - val_accuracy: 0.7250\n",
      "Epoch 59/100\n",
      "79/79 [==============================] - 8s 99ms/step - loss: 1.2132 - accuracy: 0.7542 - val_loss: 1.4894 - val_accuracy: 0.6696\n",
      "Epoch 60/100\n",
      "79/79 [==============================] - 8s 100ms/step - loss: 1.2257 - accuracy: 0.7509 - val_loss: 1.3184 - val_accuracy: 0.7086\n",
      "Epoch 61/100\n",
      "79/79 [==============================] - 8s 100ms/step - loss: 1.2211 - accuracy: 0.7532 - val_loss: 1.2985 - val_accuracy: 0.7230\n",
      "Epoch 62/100\n",
      "79/79 [==============================] - 8s 100ms/step - loss: 1.2353 - accuracy: 0.7481 - val_loss: 1.3106 - val_accuracy: 0.7164\n",
      "Epoch 63/100\n",
      "79/79 [==============================] - 8s 101ms/step - loss: 1.2333 - accuracy: 0.7501 - val_loss: 1.3901 - val_accuracy: 0.7010\n",
      "Epoch 64/100\n",
      "79/79 [==============================] - 8s 101ms/step - loss: 1.1996 - accuracy: 0.7592 - val_loss: 1.3621 - val_accuracy: 0.6970\n",
      "Epoch 65/100\n",
      "79/79 [==============================] - 8s 99ms/step - loss: 1.1809 - accuracy: 0.7624 - val_loss: 1.3450 - val_accuracy: 0.6990\n",
      "Epoch 66/100\n",
      "79/79 [==============================] - 8s 100ms/step - loss: 1.2029 - accuracy: 0.7534 - val_loss: 1.2245 - val_accuracy: 0.7534\n",
      "Epoch 67/100\n",
      "79/79 [==============================] - 8s 101ms/step - loss: 1.2079 - accuracy: 0.7551 - val_loss: 1.5578 - val_accuracy: 0.6392\n",
      "Epoch 68/100\n",
      "79/79 [==============================] - 8s 100ms/step - loss: 1.1999 - accuracy: 0.7591 - val_loss: 1.2731 - val_accuracy: 0.7304\n",
      "Epoch 69/100\n",
      "79/79 [==============================] - 8s 100ms/step - loss: 1.1866 - accuracy: 0.7621 - val_loss: 1.4053 - val_accuracy: 0.6890\n",
      "Epoch 70/100\n",
      "79/79 [==============================] - 8s 100ms/step - loss: 1.1765 - accuracy: 0.7619 - val_loss: 1.2487 - val_accuracy: 0.7380\n",
      "Epoch 71/100\n",
      "79/79 [==============================] - 8s 100ms/step - loss: 1.1882 - accuracy: 0.7606 - val_loss: 1.3259 - val_accuracy: 0.7112\n",
      "Epoch 72/100\n",
      "79/79 [==============================] - 8s 100ms/step - loss: 1.1844 - accuracy: 0.7627 - val_loss: 1.2586 - val_accuracy: 0.7408\n",
      "Epoch 73/100\n",
      "79/79 [==============================] - 8s 100ms/step - loss: 1.1901 - accuracy: 0.7648 - val_loss: 1.2364 - val_accuracy: 0.7438\n",
      "Epoch 74/100\n",
      "79/79 [==============================] - 8s 98ms/step - loss: 1.1749 - accuracy: 0.7662 - val_loss: 1.3232 - val_accuracy: 0.7182\n",
      "Epoch 75/100\n",
      "79/79 [==============================] - 8s 99ms/step - loss: 1.1901 - accuracy: 0.7635 - val_loss: 1.3137 - val_accuracy: 0.7226\n",
      "Epoch 76/100\n",
      "79/79 [==============================] - 8s 99ms/step - loss: 1.1713 - accuracy: 0.7674 - val_loss: 1.5054 - val_accuracy: 0.6690\n",
      "Epoch 77/100\n",
      "79/79 [==============================] - 8s 100ms/step - loss: 1.1992 - accuracy: 0.7648 - val_loss: 1.2760 - val_accuracy: 0.7352\n",
      "Epoch 78/100\n",
      "79/79 [==============================] - 8s 100ms/step - loss: 1.1536 - accuracy: 0.7752 - val_loss: 1.3748 - val_accuracy: 0.7002\n",
      "Epoch 79/100\n",
      "79/79 [==============================] - 8s 100ms/step - loss: 1.1711 - accuracy: 0.7675 - val_loss: 1.2991 - val_accuracy: 0.7274\n",
      "Epoch 80/100\n",
      "79/79 [==============================] - 8s 100ms/step - loss: 1.1758 - accuracy: 0.7700 - val_loss: 1.3492 - val_accuracy: 0.7210\n",
      "Epoch 81/100\n",
      "79/79 [==============================] - 8s 99ms/step - loss: 1.1524 - accuracy: 0.7785 - val_loss: 1.2696 - val_accuracy: 0.7396\n",
      "Epoch 82/100\n",
      "79/79 [==============================] - 8s 99ms/step - loss: 1.1655 - accuracy: 0.7710 - val_loss: 1.3566 - val_accuracy: 0.7006\n",
      "Epoch 83/100\n",
      "79/79 [==============================] - 8s 100ms/step - loss: 1.1650 - accuracy: 0.7732 - val_loss: 1.2877 - val_accuracy: 0.7342\n",
      "Epoch 84/100\n",
      "79/79 [==============================] - 8s 98ms/step - loss: 1.1852 - accuracy: 0.7672 - val_loss: 1.2515 - val_accuracy: 0.7420\n",
      "Epoch 85/100\n",
      "79/79 [==============================] - 8s 100ms/step - loss: 1.1584 - accuracy: 0.7765 - val_loss: 1.4929 - val_accuracy: 0.6870\n",
      "Epoch 86/100\n",
      "79/79 [==============================] - 8s 100ms/step - loss: 1.1765 - accuracy: 0.7686 - val_loss: 1.3373 - val_accuracy: 0.7192\n",
      "Epoch 87/100\n",
      "79/79 [==============================] - 8s 99ms/step - loss: 1.1416 - accuracy: 0.7802 - val_loss: 1.2614 - val_accuracy: 0.7412\n",
      "Epoch 88/100\n",
      "79/79 [==============================] - 8s 100ms/step - loss: 1.1408 - accuracy: 0.7785 - val_loss: 1.4030 - val_accuracy: 0.6864\n",
      "Epoch 89/100\n",
      "79/79 [==============================] - 8s 101ms/step - loss: 1.1793 - accuracy: 0.7678 - val_loss: 1.2915 - val_accuracy: 0.7250\n",
      "Epoch 90/100\n",
      "79/79 [==============================] - 8s 98ms/step - loss: 1.1746 - accuracy: 0.7718 - val_loss: 1.2916 - val_accuracy: 0.7336\n",
      "Epoch 91/100\n",
      "79/79 [==============================] - 8s 99ms/step - loss: 1.1263 - accuracy: 0.7858 - val_loss: 1.3447 - val_accuracy: 0.7108\n",
      "Epoch 92/100\n",
      "79/79 [==============================] - 8s 99ms/step - loss: 1.1531 - accuracy: 0.7760 - val_loss: 1.4234 - val_accuracy: 0.6972\n",
      "Epoch 93/100\n",
      "79/79 [==============================] - 8s 98ms/step - loss: 1.1457 - accuracy: 0.7847 - val_loss: 1.4032 - val_accuracy: 0.6952\n",
      "Epoch 94/100\n",
      "79/79 [==============================] - 8s 100ms/step - loss: 1.1517 - accuracy: 0.7758 - val_loss: 1.2888 - val_accuracy: 0.7224\n",
      "Epoch 95/100\n",
      "79/79 [==============================] - 8s 101ms/step - loss: 1.1405 - accuracy: 0.7809 - val_loss: 1.3210 - val_accuracy: 0.7232\n",
      "Epoch 96/100\n",
      "79/79 [==============================] - 8s 98ms/step - loss: 1.1201 - accuracy: 0.7865 - val_loss: 1.3051 - val_accuracy: 0.7148\n",
      "Epoch 97/100\n",
      "79/79 [==============================] - 8s 98ms/step - loss: 1.1349 - accuracy: 0.7804 - val_loss: 1.3790 - val_accuracy: 0.7072\n",
      "Epoch 98/100\n",
      "79/79 [==============================] - 8s 101ms/step - loss: 1.1705 - accuracy: 0.7745 - val_loss: 1.2858 - val_accuracy: 0.7340\n",
      "Epoch 99/100\n",
      "79/79 [==============================] - 8s 99ms/step - loss: 1.0999 - accuracy: 0.7965 - val_loss: 1.3647 - val_accuracy: 0.7166\n",
      "Epoch 100/100\n",
      "79/79 [==============================] - 8s 99ms/step - loss: 1.1346 - accuracy: 0.7796 - val_loss: 1.3938 - val_accuracy: 0.7012\n",
      "CPU times: total: 17min 5s\n",
      "Wall time: 13min 22s\n"
     ]
    }
   ],
   "source": [
    "%%time\n",
    "batch_size = 256 # Training data will be split in chunks of this size that will be passed through the network at the same time\n",
    "epochs = 100 # During one epoch the model 'sees' all of the training data, with this parameter we determine how many times the model will be allowed to see them\n",
    "validation_split = 0.2 # Determines what percentage of training data will be used to validate the model after each epoch\n",
    "history = model.fit(X_train, y_train_fixed, batch_size=batch_size, epochs=epochs, validation_data=(X_valid, y_valid_fixed), shuffle=True)"
   ]
  },
  {
   "cell_type": "code",
   "execution_count": 16,
   "metadata": {},
   "outputs": [
    {
     "name": "stdout",
     "output_type": "stream",
     "text": [
      "157/157 [==============================] - 1s 7ms/step - loss: 1.3771 - accuracy: 0.7188\n",
      "1.3770818710327148 0.7188000082969666\n"
     ]
    }
   ],
   "source": [
    "# Evaluate the model\n",
    "loss, score = model.evaluate(X_test, y_test_fixed)\n",
    "\n",
    "print(loss, score)"
   ]
  },
  {
   "cell_type": "code",
   "execution_count": 17,
   "metadata": {},
   "outputs": [
    {
     "data": {
      "text/plain": [
       "Text(0.5, 1.0, 'Loss Curves')"
      ]
     },
     "execution_count": 17,
     "metadata": {},
     "output_type": "execute_result"
    },
    {
     "data": {
      "image/png": "[encoded data removed]",
      "text/plain": [
       "<Figure size 600x400 with 1 Axes>"
      ]
     },
     "metadata": {},
     "output_type": "display_data"
    }
   ],
   "source": [
    "# Plotting the loss curve\n",
    "plt.figure(figsize=[6, 4])\n",
    "plt.plot(history.history['loss'], 'black', linewidth=2.0)\n",
    "plt.plot(history.history['val_loss'], 'blue', linewidth=2.0)\n",
    "plt.legend(['Training Loss', 'Validation Loss'], fontsize=12)\n",
    "plt.xlabel('Epochs', fontsize=10)\n",
    "plt.ylabel('Loss', fontsize=10)\n",
    "plt.title('Loss Curves', fontsize=12)"
   ]
  },
  {
   "cell_type": "code",
   "execution_count": 18,
   "metadata": {},
   "outputs": [
    {
     "data": {
      "text/plain": [
       "Text(0.5, 1.0, 'Accuracy Curves')"
      ]
     },
     "execution_count": 18,
     "metadata": {},
     "output_type": "execute_result"
    },
    {
     "data": {
      "image/png": "[encoded data removed]",
      "text/plain": [
       "<Figure size 600x400 with 1 Axes>"
      ]
     },
     "metadata": {},
     "output_type": "display_data"
    }
   ],
   "source": [
    "# Plotting the accuracy curve\n",
    "plt.figure(figsize=[6, 4])\n",
    "plt.plot(history.history['accuracy'], 'black', linewidth=2.0)\n",
    "plt.plot(history.history['val_accuracy'], 'blue', linewidth=2.0)\n",
    "plt.legend(['Training Accuracy', 'Validation Accuracy'], fontsize=12)\n",
    "plt.xlabel('Epochs', fontsize=10)\n",
    "plt.ylabel('Accuracy', fontsize=10)\n",
    "plt.title('Accuracy Curves', fontsize=12)"
   ]
  },
  {
   "cell_type": "markdown",
   "metadata": {},
   "source": [
    "### Saving model to file"
   ]
  },
  {
   "cell_type": "code",
   "execution_count": 19,
   "metadata": {},
   "outputs": [],
   "source": [
    "model.save(\"models/cifar10_test_model_L_v1.0.1.keras\")"
   ]
  }
 ],
 "metadata": {
  "kernelspec": {
   "display_name": "Python 3 (ipykernel)",
   "language": "python",
   "name": "python3"
  },
  "language_info": {
   "codemirror_mode": {
    "name": "ipython",
    "version": 3
   },
   "file_extension": ".py",
   "mimetype": "text/x-python",
   "name": "python",
   "nbconvert_exporter": "python",
   "pygments_lexer": "ipython3",
   "version": "3.10.13"
  }
 },
 "nbformat": 4,
 "nbformat_minor": 4
}
