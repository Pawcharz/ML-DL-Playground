{
 "cells": [
  {
   "cell_type": "code",
   "execution_count": null,
   "metadata": {},
   "outputs": [],
   "source": [
    "import joblib\n",
    "import numpy as np\n",
    "import tensorflow as tf\n",
    "\n",
    "from tensorflow import keras\n",
    "from keras.models import Sequential\n",
    "import optuna\n",
    "\n",
    "import matplotlib.pyplot as plt"
   ]
  },
  {
   "cell_type": "markdown",
   "metadata": {},
   "source": [
    "### Setting Up GPU as a training device"
   ]
  },
  {
   "cell_type": "code",
   "execution_count": null,
   "metadata": {},
   "outputs": [],
   "source": [
    "physical_devices = tf.config.list_physical_devices()\n",
    "\n",
    "print(physical_devices)"
   ]
  },
  {
   "cell_type": "code",
   "execution_count": null,
   "metadata": {},
   "outputs": [],
   "source": [
    "tf.config.set_visible_devices(physical_devices[1], 'GPU')"
   ]
  },
  {
   "cell_type": "markdown",
   "metadata": {
    "tags": []
   },
   "source": [
    "### Loading Data"
   ]
  },
  {
   "cell_type": "code",
   "execution_count": null,
   "metadata": {},
   "outputs": [],
   "source": [
    "N_TRAIN_EXAMPLES = 20000\n",
    "N_TEST_EXAMPLES = 5000\n",
    "\n",
    "CLASSES=10"
   ]
  },
  {
   "cell_type": "code",
   "execution_count": null,
   "metadata": {},
   "outputs": [],
   "source": [
    "import numpy as np\n",
    "from sklearn.model_selection import train_test_split\n",
    "\n",
    "(X_train, Y_train), (X_test, Y_test) = keras.datasets.cifar10.load_data()\n",
    "\n",
    "# Concatenate train and test images\n",
    "X = np.concatenate((X_train, X_test))\n",
    "y = np.concatenate((Y_train, Y_test))\n",
    "\n",
    "X_train, X_test, y_train, y_test = train_test_split(X, y, train_size=N_TRAIN_EXAMPLES, test_size=N_TEST_EXAMPLES, random_state=1)\n",
    "\n",
    "# Getting dummy variables\n",
    "y_train_fixed = np.zeros((y_train.shape[0], 10))\n",
    "y_test_fixed = np.zeros((y_test.shape[0], 10))\n",
    "\n",
    "i = 0\n",
    "for [val] in y_train:\n",
    "  y_train_fixed[i][val] = 1\n",
    "  i += 1\n",
    "  \n",
    "i = 0\n",
    "for [val] in y_test:\n",
    "  y_test_fixed[i][val] = 1\n",
    "  i += 1"
   ]
  },
  {
   "cell_type": "markdown",
   "metadata": {},
   "source": [
    "### Loading existing/Setting up study"
   ]
  },
  {
   "cell_type": "code",
   "execution_count": null,
   "metadata": {},
   "outputs": [],
   "source": [
    "study = joblib.load('studies/optuna_study_saving_test.pkl')\n",
    "\n",
    "# If no study is saved\n",
    "# study = optuna.create_study(direction=\"maximize\")\n",
    "\n",
    "study.best_params"
   ]
  },
  {
   "cell_type": "markdown",
   "metadata": {
    "tags": []
   },
   "source": [
    "### Setting up the optuna model options"
   ]
  },
  {
   "cell_type": "code",
   "execution_count": null,
   "metadata": {},
   "outputs": [],
   "source": [
    "import warnings\n",
    "import joblib\n",
    "from keras import layers\n",
    "\n",
    "N_TRAIN_EXAMPLES = 3000\n",
    "N_VALID_EXAMPLES = 1000\n",
    "BATCHSIZE = 128\n",
    "CLASSES = 10\n",
    "EPOCHS = 2\n",
    "\n",
    "input_shape = (32, 32, 3)"
   ]
  },
  {
   "cell_type": "code",
   "execution_count": null,
   "metadata": {},
   "outputs": [],
   "source": [
    "def objective(trial):\n",
    "  model = Sequential(\n",
    "    [\n",
    "      keras.Input(shape=(32, 32, 3)),\n",
    "      layers.Conv2D(\n",
    "        filters=trial.suggest_categorical('filters_1', [32, 64, 96, 128]),\n",
    "        kernel_size=trial.suggest_categorical('kernel_size_1', [3, 5]),\n",
    "        padding='same', activation=\"relu\"\n",
    "      ),\n",
    "      layers.Dropout(0.1),\n",
    "      layers.Conv2D(\n",
    "        filters=trial.suggest_categorical('filters_2', [32, 64, 96, 128]),\n",
    "        kernel_size=trial.suggest_categorical('kernel_size_2', [3, 5]),\n",
    "        strides=trial.suggest_categorical('strides_2', [1, 2]),\n",
    "        padding='same', activation=\"relu\"\n",
    "      ),\n",
    "      layers.Dropout(0.2),\n",
    "      layers.MaxPooling2D(pool_size=trial.suggest_categorical('max_pool_size_1', [2, 3])),\n",
    "      layers.Flatten(),\n",
    "      layers.Dense(trial.suggest_categorical('dense_size_1', [64, 128, 256]), activation=\"relu\"),\n",
    "      layers.Dropout(0.4),\n",
    "      layers.Dense(CLASSES, activation=\"softmax\"),\n",
    "    ]\n",
    "  )\n",
    "\n",
    "  # We compile our model with a sampled learning rate.\n",
    "  learning_rate = trial.suggest_float(\"learning_rate\", 1e-5, 1e-1, log=True)\n",
    "  \n",
    "  optimizer = keras.optimizers.Adam(learning_rate=learning_rate)\n",
    "  model.compile(loss='categorical_crossentropy', optimizer=optimizer, metrics=['accuracy'])\n",
    "\n",
    "  model.fit(\n",
    "    X_train,\n",
    "    y_train_fixed,\n",
    "    validation_split=0.1,\n",
    "    # validation_data=(x_valid, y_valid),\n",
    "    shuffle=True,\n",
    "    batch_size=BATCHSIZE,\n",
    "    epochs=EPOCHS,\n",
    "    verbose=False,\n",
    "  )\n",
    "\n",
    "  # Evaluate the model accuracy on the validation set.\n",
    "  score = model.evaluate(X_test, y_test_fixed, verbose=0)\n",
    "  return score[1]"
   ]
  },
  {
   "cell_type": "markdown",
   "metadata": {},
   "source": [
    "### Hyperparameter tunning"
   ]
  },
  {
   "cell_type": "code",
   "execution_count": null,
   "metadata": {},
   "outputs": [],
   "source": [
    "%%time\n",
    "warnings.warn(\n",
    "  \"Recent Keras release (2.4.0) simply redirects all APIs \"\n",
    "  \"in the standalone keras package to point to tf.keras. \"\n",
    "  \"There is now only one Keras: tf.keras. \"\n",
    "  \"There may be some breaking changes for some workflows by upgrading to keras 2.4.0. \"\n",
    "  \"Test before upgrading. \"\n",
    "  \"REF:https://github.com/keras-team/keras/releases/tag/2.4.0\"\n",
    ")\n",
    "study.optimize(objective, n_trials=100, timeout=3600)\n",
    "\n",
    "print(\"Number of finished trials: {}\".format(len(study.trials)))\n",
    "\n",
    "print(\"Best trial:\")\n",
    "trial = study.best_trial\n",
    "\n",
    "print(\"  Value: {}\".format(trial.value))\n",
    "\n",
    "print(\"  Params: \")\n",
    "for key, value in trial.params.items():\n",
    "  print(\"    {}: {}\".format(key, value))"
   ]
  },
  {
   "cell_type": "markdown",
   "metadata": {},
   "source": [
    "### Saving the study to the file"
   ]
  },
  {
   "cell_type": "code",
   "execution_count": null,
   "metadata": {},
   "outputs": [],
   "source": [
    "joblib.dump(study, \"studies/optuna_study_saving_test.pkl\")"
   ]
  }
 ],
 "metadata": {
  "kernelspec": {
   "display_name": "Python 3 (ipykernel)",
   "language": "python",
   "name": "python3"
  },
  "language_info": {
   "codemirror_mode": {
    "name": "ipython",
    "version": 3
   },
   "file_extension": ".py",
   "mimetype": "text/x-python",
   "name": "python",
   "nbconvert_exporter": "python",
   "pygments_lexer": "ipython3",
   "version": "3.10.13"
  }
 },
 "nbformat": 4,
 "nbformat_minor": 4
}
