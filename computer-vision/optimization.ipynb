{
 "cells": [
  {
   "cell_type": "code",
   "execution_count": 3,
   "metadata": {},
   "outputs": [
    {
     "name": "stderr",
     "output_type": "stream",
     "text": [
      "c:\\Users\\Pawel\\anaconda3\\envs\\tensorflow_gpu\\lib\\site-packages\\tqdm\\auto.py:21: TqdmWarning: IProgress not found. Please update jupyter and ipywidgets. See https://ipywidgets.readthedocs.io/en/stable/user_install.html\n",
      "  from .autonotebook import tqdm as notebook_tqdm\n"
     ]
    }
   ],
   "source": [
    "import numpy as np\n",
    "import tensorflow as tf\n",
    "\n",
    "from tensorflow import keras\n",
    "from keras.layers import Conv2D\n",
    "from keras.layers import Dense\n",
    "from keras.layers import Flatten\n",
    "from keras.models import Sequential\n",
    "import optuna\n",
    "\n",
    "import matplotlib.pyplot as plt"
   ]
  },
  {
   "cell_type": "markdown",
   "metadata": {},
   "source": [
    "### Setting Up GPU as a training device"
   ]
  },
  {
   "cell_type": "code",
   "execution_count": 4,
   "metadata": {},
   "outputs": [
    {
     "name": "stdout",
     "output_type": "stream",
     "text": [
      "[PhysicalDevice(name='/physical_device:CPU:0', device_type='CPU'), PhysicalDevice(name='/physical_device:GPU:0', device_type='GPU')]\n"
     ]
    }
   ],
   "source": [
    "physical_devices = tf.config.list_physical_devices()\n",
    "\n",
    "print(physical_devices)"
   ]
  },
  {
   "cell_type": "code",
   "execution_count": 5,
   "metadata": {},
   "outputs": [],
   "source": [
    "tf.config.set_visible_devices(physical_devices[1], 'GPU')"
   ]
  },
  {
   "cell_type": "markdown",
   "metadata": {
    "tags": []
   },
   "source": [
    "### Loading Data"
   ]
  },
  {
   "cell_type": "code",
   "execution_count": 6,
   "metadata": {},
   "outputs": [],
   "source": [
    "(X_train, Y_train), (X_test, Y_test) = keras.datasets.cifar10.load_data()\n",
    "\n",
    "import numpy as np\n",
    "from sklearn.model_selection import train_test_split\n",
    "\n",
    "# Concatenate train and test images\n",
    "X = np.concatenate((X_train, X_test))\n",
    "y = np.concatenate((Y_train, Y_test))\n",
    "\n",
    "X_train, X_test, y_train, y_test = train_test_split(X, y, train_size=20000, test_size=5000, random_state=1)\n",
    "\n",
    "# Getting dummy variables\n",
    "y_train_fixed = np.zeros((y_train.shape[0], 10))\n",
    "y_test_fixed = np.zeros((y_test.shape[0], 10))\n",
    "\n",
    "i = 0\n",
    "for [val] in y_train:\n",
    "  y_train_fixed[i][val] = 1\n",
    "  i += 1\n",
    "  \n",
    "i = 0\n",
    "for [val] in y_test:\n",
    "  y_test_fixed[i][val] = 1\n",
    "  i += 1"
   ]
  },
  {
   "cell_type": "markdown",
   "metadata": {
    "tags": []
   },
   "source": [
    "### Setting up the model"
   ]
  },
  {
   "cell_type": "code",
   "execution_count": 7,
   "metadata": {},
   "outputs": [],
   "source": [
    "import warnings\n",
    "from keras import layers\n",
    "\n",
    "N_TRAIN_EXAMPLES = 3000\n",
    "N_VALID_EXAMPLES = 1000\n",
    "BATCHSIZE = 128\n",
    "CLASSES = 10\n",
    "EPOCHS = 5\n",
    "\n",
    "input_shape = (32, 32, 3)"
   ]
  },
  {
   "cell_type": "code",
   "execution_count": 8,
   "metadata": {},
   "outputs": [],
   "source": [
    "def objective(trial):\n",
    "  model = Sequential(\n",
    "    [\n",
    "      keras.Input(shape=(32, 32, 3)),\n",
    "      layers.Conv2D(\n",
    "        filters=trial.suggest_categorical('filters_1', [32, 64, 96, 128]),\n",
    "        kernel_size=trial.suggest_categorical('kernel_size_1', [3, 5]),\n",
    "        padding='same', activation=\"relu\"\n",
    "      ),\n",
    "      layers.Dropout(0.1),\n",
    "      layers.Conv2D(\n",
    "        filters=trial.suggest_categorical('filters_2', [32, 64, 96, 128]),\n",
    "        kernel_size=trial.suggest_categorical('kernel_size_2', [3, 5]),\n",
    "        strides=trial.suggest_categorical('strides_2', [1, 2]),\n",
    "        padding='same', activation=\"relu\"\n",
    "      ),\n",
    "      layers.Dropout(0.2),\n",
    "      layers.MaxPooling2D(pool_size=trial.suggest_categorical('max_pool_size_1', [2, 3])),\n",
    "      layers.Flatten(),\n",
    "      layers.Dense(trial.suggest_categorical('dense_size_1', [64, 128, 256]), activation=\"relu\"),\n",
    "      layers.Dropout(0.4),\n",
    "      layers.Dense(CLASSES, activation=\"softmax\"),\n",
    "    ]\n",
    "  )\n",
    "\n",
    "  # We compile our model with a sampled learning rate.\n",
    "  learning_rate = trial.suggest_float(\"learning_rate\", 1e-5, 1e-1, log=True)\n",
    "  \n",
    "  optimizer = keras.optimizers.Adam(learning_rate=learning_rate)\n",
    "  model.compile(loss='categorical_crossentropy', optimizer=optimizer, metrics=['accuracy'])\n",
    "\n",
    "  model.fit(\n",
    "    X_train,\n",
    "    y_train_fixed,\n",
    "    validation_split=0.1,\n",
    "    # validation_data=(x_valid, y_valid),\n",
    "    shuffle=True,\n",
    "    batch_size=BATCHSIZE,\n",
    "    epochs=EPOCHS,\n",
    "    verbose=False,\n",
    "  )\n",
    "\n",
    "  # Evaluate the model accuracy on the validation set.\n",
    "  score = model.evaluate(X_test, y_test_fixed, verbose=0)\n",
    "  return score[1]"
   ]
  },
  {
   "cell_type": "code",
   "execution_count": 9,
   "metadata": {},
   "outputs": [
    {
     "name": "stderr",
     "output_type": "stream",
     "text": [
      "C:\\Users\\Pawel\\AppData\\Local\\Temp\\ipykernel_14096\\492831320.py:1: UserWarning: Recent Keras release (2.4.0) simply redirects all APIs in the standalone keras package to point to tf.keras. There is now only one Keras: tf.keras. There may be some breaking changes for some workflows by upgrading to keras 2.4.0. Test before upgrading. REF:https://github.com/keras-team/keras/releases/tag/2.4.0\n",
      "  warnings.warn(\n",
      "[I 2023-09-22 12:55:17,242] A new study created in memory with name: no-name-a776d1a1-6800-4759-8154-d023add993f1\n",
      "[I 2023-09-22 12:55:30,990] Trial 0 finished with value: 0.10000000149011612 and parameters: {'filters_1': 64, 'kernel_size_1': 3, 'filters_2': 64, 'kernel_size_2': 3, 'strides_2': 2, 'max_pool_size_1': 2, 'dense_size_1': 128, 'learning_rate': 3.9525060719877516e-05}. Best is trial 0 with value: 0.10000000149011612.\n",
      "[I 2023-09-22 12:56:03,611] Trial 1 finished with value: 0.16539999842643738 and parameters: {'filters_1': 64, 'kernel_size_1': 3, 'filters_2': 128, 'kernel_size_2': 5, 'strides_2': 1, 'max_pool_size_1': 3, 'dense_size_1': 256, 'learning_rate': 2.9876377873517243e-05}. Best is trial 1 with value: 0.16539999842643738.\n",
      "[I 2023-09-22 12:56:21,635] Trial 2 finished with value: 0.09260000288486481 and parameters: {'filters_1': 128, 'kernel_size_1': 5, 'filters_2': 32, 'kernel_size_2': 5, 'strides_2': 2, 'max_pool_size_1': 3, 'dense_size_1': 64, 'learning_rate': 0.0029974117483522363}. Best is trial 1 with value: 0.16539999842643738.\n",
      "[I 2023-09-22 12:56:53,859] Trial 3 finished with value: 0.2955999970436096 and parameters: {'filters_1': 96, 'kernel_size_1': 5, 'filters_2': 96, 'kernel_size_2': 5, 'strides_2': 1, 'max_pool_size_1': 3, 'dense_size_1': 128, 'learning_rate': 0.0007723017877585489}. Best is trial 3 with value: 0.2955999970436096.\n",
      "[I 2023-09-22 12:57:17,963] Trial 4 finished with value: 0.09359999746084213 and parameters: {'filters_1': 128, 'kernel_size_1': 3, 'filters_2': 96, 'kernel_size_2': 5, 'strides_2': 2, 'max_pool_size_1': 3, 'dense_size_1': 64, 'learning_rate': 0.0026203429563923407}. Best is trial 3 with value: 0.2955999970436096.\n",
      "[I 2023-09-22 12:57:31,965] Trial 5 finished with value: 0.3874000012874603 and parameters: {'filters_1': 64, 'kernel_size_1': 3, 'filters_2': 64, 'kernel_size_2': 3, 'strides_2': 1, 'max_pool_size_1': 2, 'dense_size_1': 128, 'learning_rate': 0.0016413480980072418}. Best is trial 5 with value: 0.3874000012874603.\n",
      "[I 2023-09-22 12:57:57,977] Trial 6 finished with value: 0.09359999746084213 and parameters: {'filters_1': 128, 'kernel_size_1': 5, 'filters_2': 32, 'kernel_size_2': 5, 'strides_2': 1, 'max_pool_size_1': 2, 'dense_size_1': 64, 'learning_rate': 0.021364574162096684}. Best is trial 5 with value: 0.3874000012874603.\n",
      "[I 2023-09-22 12:58:09,742] Trial 7 finished with value: 0.09359999746084213 and parameters: {'filters_1': 32, 'kernel_size_1': 5, 'filters_2': 96, 'kernel_size_2': 5, 'strides_2': 2, 'max_pool_size_1': 2, 'dense_size_1': 64, 'learning_rate': 0.0021140536188021504}. Best is trial 5 with value: 0.3874000012874603.\n",
      "[I 2023-09-22 12:58:21,393] Trial 8 finished with value: 0.09279999881982803 and parameters: {'filters_1': 32, 'kernel_size_1': 5, 'filters_2': 64, 'kernel_size_2': 3, 'strides_2': 1, 'max_pool_size_1': 3, 'dense_size_1': 128, 'learning_rate': 0.0008415374625329608}. Best is trial 5 with value: 0.3874000012874603.\n",
      "[I 2023-09-22 12:58:48,593] Trial 9 finished with value: 0.0982000008225441 and parameters: {'filters_1': 128, 'kernel_size_1': 3, 'filters_2': 128, 'kernel_size_2': 3, 'strides_2': 1, 'max_pool_size_1': 2, 'dense_size_1': 256, 'learning_rate': 4.138365491844517e-05}. Best is trial 5 with value: 0.3874000012874603.\n",
      "[I 2023-09-22 12:59:02,139] Trial 10 finished with value: 0.10639999806880951 and parameters: {'filters_1': 64, 'kernel_size_1': 3, 'filters_2': 64, 'kernel_size_2': 3, 'strides_2': 1, 'max_pool_size_1': 2, 'dense_size_1': 128, 'learning_rate': 0.07000545730773897}. Best is trial 5 with value: 0.3874000012874603.\n",
      "[I 2023-09-22 12:59:23,538] Trial 11 finished with value: 0.09279999881982803 and parameters: {'filters_1': 96, 'kernel_size_1': 5, 'filters_2': 96, 'kernel_size_2': 3, 'strides_2': 1, 'max_pool_size_1': 3, 'dense_size_1': 128, 'learning_rate': 0.00029826073800877633}. Best is trial 5 with value: 0.3874000012874603.\n",
      "[I 2023-09-22 12:59:44,258] Trial 12 finished with value: 0.09279999881982803 and parameters: {'filters_1': 96, 'kernel_size_1': 5, 'filters_2': 96, 'kernel_size_2': 3, 'strides_2': 1, 'max_pool_size_1': 2, 'dense_size_1': 128, 'learning_rate': 0.00031189584187356833}. Best is trial 5 with value: 0.3874000012874603.\n",
      "[I 2023-09-22 13:00:08,903] Trial 13 finished with value: 0.09939999878406525 and parameters: {'filters_1': 96, 'kernel_size_1': 3, 'filters_2': 64, 'kernel_size_2': 5, 'strides_2': 1, 'max_pool_size_1': 3, 'dense_size_1': 128, 'learning_rate': 0.01086935834042648}. Best is trial 5 with value: 0.3874000012874603.\n",
      "[I 2023-09-22 13:00:35,802] Trial 14 finished with value: 0.2734000086784363 and parameters: {'filters_1': 64, 'kernel_size_1': 3, 'filters_2': 96, 'kernel_size_2': 5, 'strides_2': 1, 'max_pool_size_1': 3, 'dense_size_1': 128, 'learning_rate': 0.00022943809537923134}. Best is trial 5 with value: 0.3874000012874603.\n",
      "[I 2023-09-22 13:00:53,276] Trial 15 finished with value: 0.2879999876022339 and parameters: {'filters_1': 96, 'kernel_size_1': 5, 'filters_2': 64, 'kernel_size_2': 3, 'strides_2': 1, 'max_pool_size_1': 2, 'dense_size_1': 128, 'learning_rate': 0.0008429466053810016}. Best is trial 5 with value: 0.3874000012874603.\n",
      "[I 2023-09-22 13:01:12,138] Trial 16 finished with value: 0.09279999881982803 and parameters: {'filters_1': 96, 'kernel_size_1': 3, 'filters_2': 32, 'kernel_size_2': 5, 'strides_2': 1, 'max_pool_size_1': 3, 'dense_size_1': 256, 'learning_rate': 0.007588397244313833}. Best is trial 5 with value: 0.3874000012874603.\n",
      "[I 2023-09-22 13:01:33,690] Trial 17 finished with value: 0.09459999948740005 and parameters: {'filters_1': 64, 'kernel_size_1': 5, 'filters_2': 128, 'kernel_size_2': 3, 'strides_2': 1, 'max_pool_size_1': 2, 'dense_size_1': 128, 'learning_rate': 7.507907858095178e-05}. Best is trial 5 with value: 0.3874000012874603.\n",
      "[I 2023-09-22 13:01:44,697] Trial 18 finished with value: 0.09279999881982803 and parameters: {'filters_1': 32, 'kernel_size_1': 3, 'filters_2': 96, 'kernel_size_2': 5, 'strides_2': 2, 'max_pool_size_1': 2, 'dense_size_1': 128, 'learning_rate': 0.0001089748014822487}. Best is trial 5 with value: 0.3874000012874603.\n",
      "[I 2023-09-22 13:02:01,399] Trial 19 finished with value: 0.1234000027179718 and parameters: {'filters_1': 96, 'kernel_size_1': 5, 'filters_2': 64, 'kernel_size_2': 3, 'strides_2': 1, 'max_pool_size_1': 3, 'dense_size_1': 256, 'learning_rate': 1.392229424529368e-05}. Best is trial 5 with value: 0.3874000012874603.\n",
      "[I 2023-09-22 13:02:21,994] Trial 20 finished with value: 0.38040000200271606 and parameters: {'filters_1': 64, 'kernel_size_1': 3, 'filters_2': 64, 'kernel_size_2': 5, 'strides_2': 1, 'max_pool_size_1': 3, 'dense_size_1': 128, 'learning_rate': 0.0006334086185128047}. Best is trial 5 with value: 0.3874000012874603.\n",
      "[I 2023-09-22 13:02:41,165] Trial 21 finished with value: 0.4438000023365021 and parameters: {'filters_1': 64, 'kernel_size_1': 3, 'filters_2': 64, 'kernel_size_2': 5, 'strides_2': 1, 'max_pool_size_1': 3, 'dense_size_1': 128, 'learning_rate': 0.0007257616843048962}. Best is trial 21 with value: 0.4438000023365021.\n",
      "[I 2023-09-22 13:03:00,120] Trial 22 finished with value: 0.4562000036239624 and parameters: {'filters_1': 64, 'kernel_size_1': 3, 'filters_2': 64, 'kernel_size_2': 5, 'strides_2': 1, 'max_pool_size_1': 3, 'dense_size_1': 128, 'learning_rate': 0.00048655304791014674}. Best is trial 22 with value: 0.4562000036239624.\n",
      "[I 2023-09-22 13:03:18,771] Trial 23 finished with value: 0.1128000020980835 and parameters: {'filters_1': 64, 'kernel_size_1': 3, 'filters_2': 64, 'kernel_size_2': 5, 'strides_2': 1, 'max_pool_size_1': 3, 'dense_size_1': 128, 'learning_rate': 0.0017205131186112503}. Best is trial 22 with value: 0.4562000036239624.\n",
      "[I 2023-09-22 13:03:37,756] Trial 24 finished with value: 0.4269999861717224 and parameters: {'filters_1': 64, 'kernel_size_1': 3, 'filters_2': 64, 'kernel_size_2': 5, 'strides_2': 1, 'max_pool_size_1': 3, 'dense_size_1': 128, 'learning_rate': 0.00043655165869953695}. Best is trial 22 with value: 0.4562000036239624.\n",
      "[I 2023-09-22 13:03:57,310] Trial 25 finished with value: 0.0934000015258789 and parameters: {'filters_1': 64, 'kernel_size_1': 3, 'filters_2': 64, 'kernel_size_2': 5, 'strides_2': 1, 'max_pool_size_1': 3, 'dense_size_1': 128, 'learning_rate': 0.0001783853110055836}. Best is trial 22 with value: 0.4562000036239624.\n",
      "[I 2023-09-22 13:04:09,806] Trial 26 finished with value: 0.33379998803138733 and parameters: {'filters_1': 64, 'kernel_size_1': 3, 'filters_2': 64, 'kernel_size_2': 5, 'strides_2': 2, 'max_pool_size_1': 3, 'dense_size_1': 128, 'learning_rate': 0.0004439391768010556}. Best is trial 22 with value: 0.4562000036239624.\n",
      "[I 2023-09-22 13:04:29,134] Trial 27 finished with value: 0.4180000126361847 and parameters: {'filters_1': 64, 'kernel_size_1': 3, 'filters_2': 64, 'kernel_size_2': 5, 'strides_2': 1, 'max_pool_size_1': 3, 'dense_size_1': 128, 'learning_rate': 0.0005089391177431101}. Best is trial 22 with value: 0.4562000036239624.\n",
      "[I 2023-09-22 13:04:48,542] Trial 28 finished with value: 0.3431999981403351 and parameters: {'filters_1': 64, 'kernel_size_1': 3, 'filters_2': 64, 'kernel_size_2': 5, 'strides_2': 1, 'max_pool_size_1': 3, 'dense_size_1': 256, 'learning_rate': 0.0001426910849431317}. Best is trial 22 with value: 0.4562000036239624.\n",
      "[I 2023-09-22 13:05:00,554] Trial 29 finished with value: 0.09279999881982803 and parameters: {'filters_1': 64, 'kernel_size_1': 3, 'filters_2': 64, 'kernel_size_2': 5, 'strides_2': 2, 'max_pool_size_1': 3, 'dense_size_1': 64, 'learning_rate': 0.00036712690083818303}. Best is trial 22 with value: 0.4562000036239624.\n",
      "[I 2023-09-22 13:05:19,763] Trial 30 finished with value: 0.19439999759197235 and parameters: {'filters_1': 64, 'kernel_size_1': 3, 'filters_2': 64, 'kernel_size_2': 5, 'strides_2': 1, 'max_pool_size_1': 3, 'dense_size_1': 128, 'learning_rate': 0.0010922058061213753}. Best is trial 22 with value: 0.4562000036239624.\n"
     ]
    },
    {
     "name": "stdout",
     "output_type": "stream",
     "text": [
      "Number of finished trials: 31\n",
      "Best trial:\n",
      "  Value: 0.4562000036239624\n",
      "  Params: \n",
      "    filters_1: 64\n",
      "    kernel_size_1: 3\n",
      "    filters_2: 64\n",
      "    kernel_size_2: 5\n",
      "    strides_2: 1\n",
      "    max_pool_size_1: 3\n",
      "    dense_size_1: 128\n",
      "    learning_rate: 0.00048655304791014674\n"
     ]
    }
   ],
   "source": [
    "warnings.warn(\n",
    "  \"Recent Keras release (2.4.0) simply redirects all APIs \"\n",
    "  \"in the standalone keras package to point to tf.keras. \"\n",
    "  \"There is now only one Keras: tf.keras. \"\n",
    "  \"There may be some breaking changes for some workflows by upgrading to keras 2.4.0. \"\n",
    "  \"Test before upgrading. \"\n",
    "  \"REF:https://github.com/keras-team/keras/releases/tag/2.4.0\"\n",
    ")\n",
    "study = optuna.create_study(direction=\"maximize\")\n",
    "study.optimize(objective, n_trials=100, timeout=600)\n",
    "\n",
    "print(\"Number of finished trials: {}\".format(len(study.trials)))\n",
    "\n",
    "print(\"Best trial:\")\n",
    "trial = study.best_trial\n",
    "\n",
    "print(\"  Value: {}\".format(trial.value))\n",
    "\n",
    "print(\"  Params: \")\n",
    "for key, value in trial.params.items():\n",
    "  print(\"    {}: {}\".format(key, value))"
   ]
  }
 ],
 "metadata": {
  "kernelspec": {
   "display_name": "Python 3 (ipykernel)",
   "language": "python",
   "name": "python3"
  },
  "language_info": {
   "codemirror_mode": {
    "name": "ipython",
    "version": 3
   },
   "file_extension": ".py",
   "mimetype": "text/x-python",
   "name": "python",
   "nbconvert_exporter": "python",
   "pygments_lexer": "ipython3",
   "version": "3.10.13"
  }
 },
 "nbformat": 4,
 "nbformat_minor": 4
}
