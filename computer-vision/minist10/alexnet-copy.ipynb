{
 "cells": [
  {
   "cell_type": "code",
   "execution_count": 57,
   "metadata": {},
   "outputs": [],
   "source": [
    "import numpy as np\n",
    "import tensorflow as tf\n",
    "from tensorflow import keras\n",
    "from keras import layers\n",
    "from keras import regularizers\n",
    "\n",
    "from keras import backend as K \n",
    "\n",
    "import matplotlib.pyplot as plt\n",
    "\n",
    "K.clear_session()"
   ]
  },
  {
   "cell_type": "code",
   "execution_count": 58,
   "metadata": {},
   "outputs": [],
   "source": [
    "from keras import backend as K\n",
    "K.clear_session()"
   ]
  },
  {
   "cell_type": "markdown",
   "metadata": {},
   "source": [
    "### Setting Up GPU as a training device"
   ]
  },
  {
   "cell_type": "code",
   "execution_count": 59,
   "metadata": {},
   "outputs": [
    {
     "name": "stdout",
     "output_type": "stream",
     "text": [
      "[PhysicalDevice(name='/physical_device:CPU:0', device_type='CPU'), PhysicalDevice(name='/physical_device:GPU:0', device_type='GPU')]\n"
     ]
    }
   ],
   "source": [
    "physical_devices = tf.config.list_physical_devices()\n",
    "\n",
    "print(physical_devices)"
   ]
  },
  {
   "cell_type": "code",
   "execution_count": 60,
   "metadata": {},
   "outputs": [],
   "source": [
    "tf.config.set_visible_devices(physical_devices[1], 'GPU')"
   ]
  },
  {
   "cell_type": "markdown",
   "metadata": {
    "tags": []
   },
   "source": [
    "### Loading Data"
   ]
  },
  {
   "cell_type": "code",
   "execution_count": 61,
   "metadata": {},
   "outputs": [],
   "source": [
    "N_TRAIN_EXAMPLES = 60000\n",
    "N_VALIDATION_EXAMPLES = 0\n",
    "N_TEST_EXAMPLES = 10000\n",
    "\n",
    "CLASSES=10"
   ]
  },
  {
   "cell_type": "code",
   "execution_count": 62,
   "metadata": {},
   "outputs": [],
   "source": [
    "\n",
    "from sklearn.model_selection import train_test_split\n",
    "\n",
    "(X_train, Y_train), (X_test, Y_test) = keras.datasets.mnist.load_data()\n",
    "\n",
    "X_train\n",
    "\n",
    "# Concatenate train and test images\n",
    "X = np.concatenate((X_train, X_test))\n",
    "y = np.concatenate((Y_train, Y_test))\n",
    "\n",
    "X_train, X_test, y_train, y_test = train_test_split(X, y, train_size=N_TRAIN_EXAMPLES+N_VALIDATION_EXAMPLES, test_size=N_TEST_EXAMPLES, random_state=1)\n",
    "\n",
    "# Getting dummy variables\n",
    "y_train_fixed = np.zeros((y_train.shape[0], CLASSES))\n",
    "y_test_fixed = np.zeros((y_test.shape[0], CLASSES))\n",
    "\n",
    "i = 0\n",
    "for val in y_train:\n",
    "  y_train_fixed[i][val] = 1\n",
    "  i += 1  \n",
    "  \n",
    "i = 0\n",
    "for val in y_test:\n",
    "  y_test_fixed[i][val] = 1\n",
    "  i += 1"
   ]
  },
  {
   "cell_type": "markdown",
   "metadata": {
    "tags": []
   },
   "source": [
    "### Setting up the model"
   ]
  },
  {
   "cell_type": "markdown",
   "metadata": {},
   "source": [
    "AlexNet implementation in keras:\n",
    "\n",
    "```py\n",
    "  keras.Input(shape=(227, 227, 3)),\n",
    "  layers.Conv2D(96, kernel_size=11, strides=4, padding='same', activation=\"relu\"),\n",
    "  layers.MaxPooling2D(pool_size=3, strides=2),\n",
    "  layers.Conv2D(256, kernel_size=5, padding='same', activation=\"relu\"),\n",
    "  layers.MaxPooling2D(pool_size=3, strides=2),\n",
    "  layers.Conv2D(384, kernel_size=3, padding='same', activation=\"relu\"),\n",
    "  layers.Conv2D(384, kernel_size=3, padding='same', activation=\"relu\"),\n",
    "  layers.Conv2D(256, kernel_size=3, padding='same', activation=\"relu\"),\n",
    "  layers.MaxPooling2D(pool_size=3, strides=2),\n",
    "  layers.Dropout(0.5),\n",
    "  layers.Dense(4096, activation=\"relu\"),\n",
    "  layers.Dropout(0.5),\n",
    "  layers.Dense(4096, activation=\"relu\"),\n",
    "  layers.Dense(CLASSES, activation=\"softmax\")\n",
    "```"
   ]
  },
  {
   "cell_type": "code",
   "execution_count": 63,
   "metadata": {},
   "outputs": [
    {
     "name": "stdout",
     "output_type": "stream",
     "text": [
      "Model: \"sequential\"\n",
      "_________________________________________________________________\n",
      " Layer (type)                Output Shape              Param #   \n",
      "=================================================================\n",
      " conv2d (Conv2D)             (None, 28, 28, 64)        320       \n",
      "                                                                 \n",
      " max_pooling2d (MaxPooling2D  (None, 14, 14, 64)       0         \n",
      " )                                                               \n",
      "                                                                 \n",
      " conv2d_1 (Conv2D)           (None, 14, 14, 64)        16448     \n",
      "                                                                 \n",
      " max_pooling2d_1 (MaxPooling  (None, 7, 7, 64)         0         \n",
      " 2D)                                                             \n",
      "                                                                 \n",
      " flatten (Flatten)           (None, 3136)              0         \n",
      "                                                                 \n",
      " dropout (Dropout)           (None, 3136)              0         \n",
      "                                                                 \n",
      " dense (Dense)               (None, 64)                200768    \n",
      "                                                                 \n",
      " dense_1 (Dense)             (None, 10)                650       \n",
      "                                                                 \n",
      "=================================================================\n",
      "Total params: 218,186\n",
      "Trainable params: 218,186\n",
      "Non-trainable params: 0\n",
      "_________________________________________________________________\n"
     ]
    }
   ],
   "source": [
    "conv_regularizer = regularizers.l2(l=0.01)\n",
    "dense_regularizer = regularizers.l2(l=0.01)\n",
    "\n",
    "model = keras.Sequential(\n",
    "  [\n",
    "    keras.Input(shape=(28, 28, 1)),\n",
    "    layers.Conv2D(64, kernel_size=2, strides=1, padding='same', activation=\"relu\", kernel_regularizer=conv_regularizer),\n",
    "    layers.MaxPooling2D(pool_size=2),\n",
    "    layers.Conv2D(64, kernel_size=2, strides=1, padding='same', activation=\"relu\", kernel_regularizer=conv_regularizer),\n",
    "    layers.MaxPooling2D(pool_size=2),\n",
    "    layers.Flatten(),\n",
    "    layers.Dropout(0.4),\n",
    "    layers.Dense(64, activation=\"relu\", kernel_regularizer=dense_regularizer),\n",
    "    layers.Dense(CLASSES, activation=\"softmax\"),    \n",
    "  ]\n",
    ")\n",
    "\n",
    "model.summary()"
   ]
  },
  {
   "cell_type": "code",
   "execution_count": 64,
   "metadata": {},
   "outputs": [],
   "source": [
    "from keras import optimizers\n",
    "\n",
    "opt_adam = optimizers.Adam()\n",
    "opt_sgd = optimizers.SGD(learning_rate=1e-3)\n",
    "\n",
    "model.compile(loss=\"categorical_crossentropy\", optimizer=opt_adam, metrics=[\"accuracy\"])"
   ]
  },
  {
   "cell_type": "markdown",
   "metadata": {},
   "source": [
    "### Training model"
   ]
  },
  {
   "cell_type": "code",
   "execution_count": 65,
   "metadata": {},
   "outputs": [],
   "source": [
    "CHECKPOINT_PATH = 'models/checkpoints/mnist_best.keras'\n",
    "\n",
    "model_checkpoint_callback = keras.callbacks.ModelCheckpoint(\n",
    "  filepath=CHECKPOINT_PATH,\n",
    "  save_weights_only=False,\n",
    "  monitor='val_accuracy',\n",
    "  mode='max',\n",
    "  save_best_only=True)"
   ]
  },
  {
   "cell_type": "code",
   "execution_count": 66,
   "metadata": {},
   "outputs": [
    {
     "name": "stdout",
     "output_type": "stream",
     "text": [
      "Epoch 1/40\n",
      "240/240 [==============================] - 4s 12ms/step - loss: 2.5548 - accuracy: 0.8441 - val_loss: 1.2059 - val_accuracy: 0.9700\n",
      "Epoch 2/40\n",
      "240/240 [==============================] - 3s 11ms/step - loss: 1.0740 - accuracy: 0.9565 - val_loss: 0.8637 - val_accuracy: 0.9781\n",
      "Epoch 3/40\n",
      "240/240 [==============================] - 3s 11ms/step - loss: 0.7989 - accuracy: 0.9659 - val_loss: 0.6653 - val_accuracy: 0.9799\n",
      "Epoch 4/40\n",
      "240/240 [==============================] - 3s 11ms/step - loss: 0.6274 - accuracy: 0.9699 - val_loss: 0.5297 - val_accuracy: 0.9806\n",
      "Epoch 5/40\n",
      "240/240 [==============================] - 3s 12ms/step - loss: 0.5065 - accuracy: 0.9725 - val_loss: 0.4328 - val_accuracy: 0.9815\n",
      "Epoch 6/40\n",
      "240/240 [==============================] - 3s 12ms/step - loss: 0.4219 - accuracy: 0.9736 - val_loss: 0.3641 - val_accuracy: 0.9826\n",
      "Epoch 7/40\n",
      "240/240 [==============================] - 3s 12ms/step - loss: 0.3574 - accuracy: 0.9752 - val_loss: 0.3050 - val_accuracy: 0.9848\n",
      "Epoch 8/40\n",
      "240/240 [==============================] - 3s 11ms/step - loss: 0.3036 - accuracy: 0.9770 - val_loss: 0.2748 - val_accuracy: 0.9807\n",
      "Epoch 9/40\n",
      "240/240 [==============================] - 3s 11ms/step - loss: 0.2760 - accuracy: 0.9754 - val_loss: 0.2383 - val_accuracy: 0.9831\n",
      "Epoch 10/40\n",
      "240/240 [==============================] - 3s 11ms/step - loss: 0.2435 - accuracy: 0.9779 - val_loss: 0.2172 - val_accuracy: 0.9815\n",
      "Epoch 11/40\n",
      "240/240 [==============================] - 3s 12ms/step - loss: 0.2207 - accuracy: 0.9779 - val_loss: 0.2010 - val_accuracy: 0.9800\n",
      "Epoch 12/40\n",
      "240/240 [==============================] - 3s 12ms/step - loss: 0.2002 - accuracy: 0.9786 - val_loss: 0.1876 - val_accuracy: 0.9820\n",
      "Epoch 13/40\n",
      "240/240 [==============================] - 3s 12ms/step - loss: 0.1925 - accuracy: 0.9779 - val_loss: 0.1682 - val_accuracy: 0.9850\n",
      "Epoch 14/40\n",
      "240/240 [==============================] - 3s 12ms/step - loss: 0.1860 - accuracy: 0.9772 - val_loss: 0.1718 - val_accuracy: 0.9818\n",
      "Epoch 15/40\n",
      "240/240 [==============================] - 3s 12ms/step - loss: 0.1746 - accuracy: 0.9791 - val_loss: 0.1510 - val_accuracy: 0.9843\n",
      "Epoch 16/40\n",
      "240/240 [==============================] - 3s 12ms/step - loss: 0.1675 - accuracy: 0.9792 - val_loss: 0.1550 - val_accuracy: 0.9827\n",
      "Epoch 17/40\n",
      "240/240 [==============================] - 3s 12ms/step - loss: 0.1681 - accuracy: 0.9784 - val_loss: 0.1560 - val_accuracy: 0.9819\n",
      "Epoch 18/40\n",
      "240/240 [==============================] - 3s 12ms/step - loss: 0.1669 - accuracy: 0.9779 - val_loss: 0.1565 - val_accuracy: 0.9822\n",
      "Epoch 19/40\n",
      "240/240 [==============================] - 3s 12ms/step - loss: 0.1650 - accuracy: 0.9781 - val_loss: 0.1480 - val_accuracy: 0.9833\n",
      "Epoch 20/40\n",
      "240/240 [==============================] - 3s 12ms/step - loss: 0.1633 - accuracy: 0.9778 - val_loss: 0.1499 - val_accuracy: 0.9833\n",
      "Epoch 21/40\n",
      "240/240 [==============================] - 3s 12ms/step - loss: 0.1592 - accuracy: 0.9785 - val_loss: 0.1486 - val_accuracy: 0.9832\n",
      "Epoch 22/40\n",
      "240/240 [==============================] - 3s 13ms/step - loss: 0.1626 - accuracy: 0.9780 - val_loss: 0.1442 - val_accuracy: 0.9853\n",
      "Epoch 23/40\n",
      "240/240 [==============================] - 3s 12ms/step - loss: 0.1573 - accuracy: 0.9792 - val_loss: 0.1385 - val_accuracy: 0.9857\n",
      "Epoch 24/40\n",
      "240/240 [==============================] - 3s 12ms/step - loss: 0.1627 - accuracy: 0.9773 - val_loss: 0.1534 - val_accuracy: 0.9827\n",
      "Epoch 25/40\n",
      "240/240 [==============================] - 3s 12ms/step - loss: 0.1599 - accuracy: 0.9785 - val_loss: 0.1420 - val_accuracy: 0.9848\n",
      "Epoch 26/40\n",
      "240/240 [==============================] - 3s 12ms/step - loss: 0.1592 - accuracy: 0.9786 - val_loss: 0.1419 - val_accuracy: 0.9842\n",
      "Epoch 27/40\n",
      "240/240 [==============================] - 3s 12ms/step - loss: 0.1586 - accuracy: 0.9791 - val_loss: 0.1462 - val_accuracy: 0.9817\n",
      "Epoch 28/40\n",
      "240/240 [==============================] - 3s 12ms/step - loss: 0.1599 - accuracy: 0.9773 - val_loss: 0.1526 - val_accuracy: 0.9823\n",
      "Epoch 29/40\n",
      "240/240 [==============================] - 3s 12ms/step - loss: 0.1558 - accuracy: 0.9791 - val_loss: 0.1336 - val_accuracy: 0.9867\n",
      "Epoch 30/40\n",
      "240/240 [==============================] - 3s 12ms/step - loss: 0.1560 - accuracy: 0.9793 - val_loss: 0.1476 - val_accuracy: 0.9828\n",
      "Epoch 31/40\n",
      "240/240 [==============================] - 3s 12ms/step - loss: 0.1574 - accuracy: 0.9790 - val_loss: 0.1415 - val_accuracy: 0.9852\n",
      "Epoch 32/40\n",
      "240/240 [==============================] - 3s 12ms/step - loss: 0.1571 - accuracy: 0.9787 - val_loss: 0.1463 - val_accuracy: 0.9835\n",
      "Epoch 33/40\n",
      "240/240 [==============================] - 3s 11ms/step - loss: 0.1542 - accuracy: 0.9791 - val_loss: 0.1361 - val_accuracy: 0.9853\n",
      "Epoch 34/40\n",
      "240/240 [==============================] - 3s 12ms/step - loss: 0.1618 - accuracy: 0.9778 - val_loss: 0.1550 - val_accuracy: 0.9808\n",
      "Epoch 35/40\n",
      "240/240 [==============================] - 3s 12ms/step - loss: 0.1575 - accuracy: 0.9789 - val_loss: 0.1386 - val_accuracy: 0.9843\n",
      "Epoch 36/40\n",
      "240/240 [==============================] - 3s 12ms/step - loss: 0.1576 - accuracy: 0.9793 - val_loss: 0.1372 - val_accuracy: 0.9858\n",
      "Epoch 37/40\n",
      "240/240 [==============================] - 3s 12ms/step - loss: 0.1560 - accuracy: 0.9787 - val_loss: 0.1388 - val_accuracy: 0.9848\n",
      "Epoch 38/40\n",
      "240/240 [==============================] - 3s 12ms/step - loss: 0.1569 - accuracy: 0.9786 - val_loss: 0.1440 - val_accuracy: 0.9829\n",
      "Epoch 39/40\n",
      "240/240 [==============================] - 3s 11ms/step - loss: 0.1508 - accuracy: 0.9801 - val_loss: 0.1426 - val_accuracy: 0.9837\n",
      "Epoch 40/40\n",
      "240/240 [==============================] - 3s 12ms/step - loss: 0.1554 - accuracy: 0.9791 - val_loss: 0.1328 - val_accuracy: 0.9859\n",
      "CPU times: total: 2min 33s\n",
      "Wall time: 1min 54s\n"
     ]
    }
   ],
   "source": [
    "%%time\n",
    "batch_size = 200\n",
    "epochs = 40\n",
    "validation_split = 0.2\n",
    "history = model.fit(X_train, y_train_fixed, batch_size=batch_size, epochs=epochs, validation_split=0.2, callbacks=[model_checkpoint_callback])"
   ]
  },
  {
   "cell_type": "code",
   "execution_count": 67,
   "metadata": {},
   "outputs": [
    {
     "name": "stdout",
     "output_type": "stream",
     "text": [
      "313/313 [==============================] - 1s 3ms/step - loss: 0.1395 - accuracy: 0.9858\n",
      "0.1395290344953537 0.98580002784729\n"
     ]
    }
   ],
   "source": [
    "# Evaluate the best checkpoint\n",
    "\n",
    "best_checkpoint = keras.models.load_model(CHECKPOINT_PATH)\n",
    "\n",
    "loss, score = best_checkpoint.evaluate(X_test, y_test_fixed)\n",
    "\n",
    "print(loss, score)"
   ]
  },
  {
   "cell_type": "code",
   "execution_count": 68,
   "metadata": {},
   "outputs": [
    {
     "data": {
      "text/plain": [
       "Text(0.5, 1.0, 'Loss Curves')"
      ]
     },
     "execution_count": 68,
     "metadata": {},
     "output_type": "execute_result"
    },
    {
     "data": {
      "image/png": "[encoded data removed]",
      "text/plain": [
       "<Figure size 600x400 with 1 Axes>"
      ]
     },
     "metadata": {},
     "output_type": "display_data"
    }
   ],
   "source": [
    "# Plotting the loss curve\n",
    "plt.figure(figsize=[6, 4])\n",
    "plt.plot(history.history['loss'], 'black', linewidth=2.0)\n",
    "plt.plot(history.history['val_loss'], 'blue', linewidth=2.0)\n",
    "plt.legend(['Training Loss', 'Validation Loss'], fontsize=12)\n",
    "plt.xlabel('Epochs', fontsize=10)\n",
    "plt.ylabel('Loss', fontsize=10)\n",
    "plt.title('Loss Curves', fontsize=12)"
   ]
  },
  {
   "cell_type": "code",
   "execution_count": 69,
   "metadata": {},
   "outputs": [
    {
     "data": {
      "text/plain": [
       "Text(0.5, 1.0, 'Accuracy Curves')"
      ]
     },
     "execution_count": 69,
     "metadata": {},
     "output_type": "execute_result"
    },
    {
     "data": {
      "image/png": "[encoded data removed]",
      "text/plain": [
       "<Figure size 600x400 with 1 Axes>"
      ]
     },
     "metadata": {},
     "output_type": "display_data"
    }
   ],
   "source": [
    "# Plotting the accuracy curve\n",
    "plt.figure(figsize=[6, 4])\n",
    "plt.plot(history.history['accuracy'], 'black', linewidth=2.0)\n",
    "plt.plot(history.history['val_accuracy'], 'blue', linewidth=2.0)\n",
    "plt.legend(['Training Accuracy', 'Validation Accuracy'], fontsize=12)\n",
    "plt.xlabel('Epochs', fontsize=10)\n",
    "plt.ylabel('Accuracy', fontsize=10)\n",
    "plt.title('Accuracy Curves', fontsize=12)"
   ]
  },
  {
   "cell_type": "markdown",
   "metadata": {},
   "source": [
    "### Saving model to file"
   ]
  },
  {
   "cell_type": "code",
   "execution_count": 70,
   "metadata": {},
   "outputs": [],
   "source": [
    "import json\n",
    "\n",
    "with open('models/checkpoints/mnist_model_best_history.json', 'w') as f:\n",
    "  json.dump(history.history, f)"
   ]
  }
 ],
 "metadata": {
  "kernelspec": {
   "display_name": "Python 3 (ipykernel)",
   "language": "python",
   "name": "python3"
  },
  "language_info": {
   "codemirror_mode": {
    "name": "ipython",
    "version": 3
   },
   "file_extension": ".py",
   "mimetype": "text/x-python",
   "name": "python",
   "nbconvert_exporter": "python",
   "pygments_lexer": "ipython3",
   "version": "3.10.13"
  }
 },
 "nbformat": 4,
 "nbformat_minor": 4
}
