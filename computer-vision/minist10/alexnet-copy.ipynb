{
 "cells": [
  {
   "cell_type": "code",
   "execution_count": 76,
   "metadata": {},
   "outputs": [],
   "source": [
    "import numpy as np\n",
    "import tensorflow as tf\n",
    "from tensorflow import keras\n",
    "from keras import layers\n",
    "from keras import regularizers\n",
    "\n",
    "from keras import backend as K \n",
    "\n",
    "import matplotlib.pyplot as plt\n",
    "\n",
    "K.clear_session()"
   ]
  },
  {
   "cell_type": "code",
   "execution_count": 77,
   "metadata": {},
   "outputs": [],
   "source": [
    "from keras import backend as K\n",
    "K.clear_session()"
   ]
  },
  {
   "cell_type": "markdown",
   "metadata": {},
   "source": [
    "### Setting Up GPU as a training device"
   ]
  },
  {
   "cell_type": "code",
   "execution_count": 78,
   "metadata": {},
   "outputs": [
    {
     "name": "stdout",
     "output_type": "stream",
     "text": [
      "[PhysicalDevice(name='/physical_device:CPU:0', device_type='CPU'), PhysicalDevice(name='/physical_device:GPU:0', device_type='GPU')]\n"
     ]
    }
   ],
   "source": [
    "physical_devices = tf.config.list_physical_devices()\n",
    "\n",
    "print(physical_devices)"
   ]
  },
  {
   "cell_type": "code",
   "execution_count": 79,
   "metadata": {},
   "outputs": [],
   "source": [
    "tf.config.set_visible_devices(physical_devices[1], 'GPU')"
   ]
  },
  {
   "cell_type": "markdown",
   "metadata": {
    "tags": []
   },
   "source": [
    "### Loading Data"
   ]
  },
  {
   "cell_type": "code",
   "execution_count": 80,
   "metadata": {},
   "outputs": [],
   "source": [
    "N_TRAIN_EXAMPLES = 60000\n",
    "N_VALIDATION_EXAMPLES = 0\n",
    "N_TEST_EXAMPLES = 10000\n",
    "\n",
    "CLASSES=10"
   ]
  },
  {
   "cell_type": "code",
   "execution_count": 81,
   "metadata": {},
   "outputs": [],
   "source": [
    "\n",
    "from sklearn.model_selection import train_test_split\n",
    "\n",
    "(X_train, Y_train), (X_test, Y_test) = keras.datasets.mnist.load_data()\n",
    "\n",
    "X_train\n",
    "\n",
    "# Concatenate train and test images\n",
    "X = np.concatenate((X_train, X_test))\n",
    "y = np.concatenate((Y_train, Y_test))\n",
    "\n",
    "X_train, X_test, y_train, y_test = train_test_split(X, y, train_size=N_TRAIN_EXAMPLES+N_VALIDATION_EXAMPLES, test_size=N_TEST_EXAMPLES, random_state=1)\n",
    "\n",
    "# Getting dummy variables\n",
    "y_train_fixed = np.zeros((y_train.shape[0], CLASSES))\n",
    "y_test_fixed = np.zeros((y_test.shape[0], CLASSES))\n",
    "\n",
    "i = 0\n",
    "for val in y_train:\n",
    "  y_train_fixed[i][val] = 1\n",
    "  i += 1  \n",
    "  \n",
    "i = 0\n",
    "for val in y_test:\n",
    "  y_test_fixed[i][val] = 1\n",
    "  i += 1"
   ]
  },
  {
   "cell_type": "markdown",
   "metadata": {
    "tags": []
   },
   "source": [
    "### Setting up the model"
   ]
  },
  {
   "cell_type": "markdown",
   "metadata": {},
   "source": [
    "AlexNet implementation in keras:\n",
    "\n",
    "```py\n",
    "  keras.Input(shape=(227, 227, 3)),\n",
    "  layers.Conv2D(96, kernel_size=11, strides=4, padding='same', activation=\"relu\"),\n",
    "  layers.MaxPooling2D(pool_size=3, strides=2),\n",
    "  layers.Conv2D(256, kernel_size=5, padding='same', activation=\"relu\"),\n",
    "  layers.MaxPooling2D(pool_size=3, strides=2),\n",
    "  layers.Conv2D(384, kernel_size=3, padding='same', activation=\"relu\"),\n",
    "  layers.Conv2D(384, kernel_size=3, padding='same', activation=\"relu\"),\n",
    "  layers.Conv2D(256, kernel_size=3, padding='same', activation=\"relu\"),\n",
    "  layers.MaxPooling2D(pool_size=3, strides=2),\n",
    "  layers.Dropout(0.5),\n",
    "  layers.Dense(4096, activation=\"relu\"),\n",
    "  layers.Dropout(0.5),\n",
    "  layers.Dense(4096, activation=\"relu\"),\n",
    "  layers.Dense(CLASSES, activation=\"softmax\")\n",
    "```"
   ]
  },
  {
   "cell_type": "code",
   "execution_count": 82,
   "metadata": {},
   "outputs": [
    {
     "name": "stdout",
     "output_type": "stream",
     "text": [
      "Model: \"sequential\"\n",
      "_________________________________________________________________\n",
      " Layer (type)                Output Shape              Param #   \n",
      "=================================================================\n",
      " batch_normalization (BatchN  (None, 28, 28, 1)        112       \n",
      " ormalization)                                                   \n",
      "                                                                 \n",
      " conv2d (Conv2D)             (None, 28, 28, 64)        320       \n",
      "                                                                 \n",
      " max_pooling2d (MaxPooling2D  (None, 14, 14, 64)       0         \n",
      " )                                                               \n",
      "                                                                 \n",
      " conv2d_1 (Conv2D)           (None, 14, 14, 64)        16448     \n",
      "                                                                 \n",
      " max_pooling2d_1 (MaxPooling  (None, 7, 7, 64)         0         \n",
      " 2D)                                                             \n",
      "                                                                 \n",
      " flatten (Flatten)           (None, 3136)              0         \n",
      "                                                                 \n",
      " dropout (Dropout)           (None, 3136)              0         \n",
      "                                                                 \n",
      " dense (Dense)               (None, 64)                200768    \n",
      "                                                                 \n",
      " dense_1 (Dense)             (None, 10)                650       \n",
      "                                                                 \n",
      "=================================================================\n",
      "Total params: 218,298\n",
      "Trainable params: 218,242\n",
      "Non-trainable params: 56\n",
      "_________________________________________________________________\n"
     ]
    }
   ],
   "source": [
    "conv_regularizer = regularizers.l2(l=0.01)\n",
    "dense_regularizer = regularizers.l2(l=0.01)\n",
    "normalization_momentum = 0.9\n",
    "\n",
    "model = keras.Sequential(\n",
    "  [\n",
    "    keras.Input(shape=(28, 28, 1)),\n",
    "    layers.BatchNormalization(axis=1, momentum=normalization_momentum),\n",
    "    layers.Conv2D(64, kernel_size=2, strides=1, padding='same', activation=\"relu\", kernel_regularizer=conv_regularizer),\n",
    "    layers.MaxPooling2D(pool_size=2),\n",
    "    layers.Conv2D(64, kernel_size=2, strides=1, padding='same', activation=\"relu\", kernel_regularizer=conv_regularizer),\n",
    "    layers.MaxPooling2D(pool_size=2),\n",
    "    layers.Flatten(),\n",
    "    layers.Dropout(0.4),\n",
    "    layers.Dense(64, activation=\"relu\", kernel_regularizer=dense_regularizer),\n",
    "    layers.Dense(CLASSES, activation=\"softmax\"),    \n",
    "  ]\n",
    ")\n",
    "\n",
    "model.summary()"
   ]
  },
  {
   "cell_type": "code",
   "execution_count": 83,
   "metadata": {},
   "outputs": [],
   "source": [
    "from keras import optimizers\n",
    "\n",
    "opt_adam = optimizers.Adam(beta_1=0.3, beta_2=0.4)\n",
    "opt_sgd = optimizers.SGD(learning_rate=1e-3)\n",
    "\n",
    "model.compile(loss=\"categorical_crossentropy\", optimizer=opt_adam, metrics=[\"accuracy\"])"
   ]
  },
  {
   "cell_type": "markdown",
   "metadata": {},
   "source": [
    "### Training model"
   ]
  },
  {
   "cell_type": "code",
   "execution_count": 84,
   "metadata": {},
   "outputs": [],
   "source": [
    "CHECKPOINT_PATH = 'models/checkpoints/mnist_best.keras'\n",
    "\n",
    "model_checkpoint_callback = keras.callbacks.ModelCheckpoint(\n",
    "  filepath=CHECKPOINT_PATH,\n",
    "  save_weights_only=False,\n",
    "  monitor='val_accuracy',\n",
    "  mode='max',\n",
    "  save_best_only=True)"
   ]
  },
  {
   "cell_type": "code",
   "execution_count": 85,
   "metadata": {},
   "outputs": [
    {
     "name": "stdout",
     "output_type": "stream",
     "text": [
      "Epoch 1/40\n",
      "120/120 [==============================] - 3s 22ms/step - loss: 1.3653 - accuracy: 0.8398 - val_loss: 0.6286 - val_accuracy: 0.9327\n",
      "Epoch 2/40\n",
      "120/120 [==============================] - 2s 21ms/step - loss: 0.4927 - accuracy: 0.9426 - val_loss: 0.3754 - val_accuracy: 0.9612\n",
      "Epoch 3/40\n",
      "120/120 [==============================] - 2s 20ms/step - loss: 0.3781 - accuracy: 0.9504 - val_loss: 0.3591 - val_accuracy: 0.9461\n",
      "Epoch 4/40\n",
      "120/120 [==============================] - 2s 20ms/step - loss: 0.3394 - accuracy: 0.9534 - val_loss: 0.3272 - val_accuracy: 0.9568\n",
      "Epoch 5/40\n",
      "120/120 [==============================] - 2s 19ms/step - loss: 0.3198 - accuracy: 0.9560 - val_loss: 0.2819 - val_accuracy: 0.9663\n",
      "Epoch 6/40\n",
      "120/120 [==============================] - 2s 19ms/step - loss: 0.3046 - accuracy: 0.9580 - val_loss: 0.2769 - val_accuracy: 0.9665\n",
      "Epoch 7/40\n",
      "120/120 [==============================] - 2s 20ms/step - loss: 0.2959 - accuracy: 0.9580 - val_loss: 0.2798 - val_accuracy: 0.9614\n",
      "Epoch 8/40\n",
      "120/120 [==============================] - 2s 19ms/step - loss: 0.2848 - accuracy: 0.9609 - val_loss: 0.2847 - val_accuracy: 0.9572\n",
      "Epoch 9/40\n",
      "120/120 [==============================] - 2s 19ms/step - loss: 0.2776 - accuracy: 0.9622 - val_loss: 0.2471 - val_accuracy: 0.9702\n",
      "Epoch 10/40\n",
      "120/120 [==============================] - 2s 19ms/step - loss: 0.2750 - accuracy: 0.9609 - val_loss: 0.2445 - val_accuracy: 0.9694\n",
      "Epoch 11/40\n",
      "120/120 [==============================] - 2s 19ms/step - loss: 0.2683 - accuracy: 0.9615 - val_loss: 0.2334 - val_accuracy: 0.9733\n",
      "Epoch 12/40\n",
      "120/120 [==============================] - 2s 18ms/step - loss: 0.2626 - accuracy: 0.9625 - val_loss: 0.2542 - val_accuracy: 0.9632\n",
      "Epoch 13/40\n",
      "120/120 [==============================] - 2s 18ms/step - loss: 0.2607 - accuracy: 0.9630 - val_loss: 0.2620 - val_accuracy: 0.9613\n",
      "Epoch 14/40\n",
      "120/120 [==============================] - 2s 19ms/step - loss: 0.2534 - accuracy: 0.9648 - val_loss: 0.2532 - val_accuracy: 0.9644\n",
      "Epoch 15/40\n",
      "120/120 [==============================] - 2s 18ms/step - loss: 0.2496 - accuracy: 0.9643 - val_loss: 0.2247 - val_accuracy: 0.9708\n",
      "Epoch 16/40\n",
      "120/120 [==============================] - 2s 19ms/step - loss: 0.2459 - accuracy: 0.9646 - val_loss: 0.2301 - val_accuracy: 0.9691\n",
      "Epoch 17/40\n",
      "120/120 [==============================] - 2s 19ms/step - loss: 0.2432 - accuracy: 0.9646 - val_loss: 0.2155 - val_accuracy: 0.9753\n",
      "Epoch 18/40\n",
      "120/120 [==============================] - 2s 19ms/step - loss: 0.2401 - accuracy: 0.9662 - val_loss: 0.2213 - val_accuracy: 0.9712\n",
      "Epoch 19/40\n",
      "120/120 [==============================] - 2s 18ms/step - loss: 0.2361 - accuracy: 0.9663 - val_loss: 0.2151 - val_accuracy: 0.9723\n",
      "Epoch 20/40\n",
      "120/120 [==============================] - 2s 19ms/step - loss: 0.2345 - accuracy: 0.9675 - val_loss: 0.2051 - val_accuracy: 0.9761\n",
      "Epoch 21/40\n",
      "120/120 [==============================] - 2s 19ms/step - loss: 0.2297 - accuracy: 0.9668 - val_loss: 0.2051 - val_accuracy: 0.9763\n",
      "Epoch 22/40\n",
      "120/120 [==============================] - 2s 18ms/step - loss: 0.2283 - accuracy: 0.9668 - val_loss: 0.2177 - val_accuracy: 0.9693\n",
      "Epoch 23/40\n",
      "120/120 [==============================] - 2s 19ms/step - loss: 0.2274 - accuracy: 0.9671 - val_loss: 0.2047 - val_accuracy: 0.9740\n",
      "Epoch 24/40\n",
      "120/120 [==============================] - 2s 21ms/step - loss: 0.2231 - accuracy: 0.9681 - val_loss: 0.1999 - val_accuracy: 0.9760\n",
      "Epoch 25/40\n",
      "120/120 [==============================] - 3s 21ms/step - loss: 0.2205 - accuracy: 0.9675 - val_loss: 0.2030 - val_accuracy: 0.9755\n",
      "Epoch 26/40\n",
      "120/120 [==============================] - 3s 23ms/step - loss: 0.2192 - accuracy: 0.9680 - val_loss: 0.1896 - val_accuracy: 0.9753\n",
      "Epoch 27/40\n",
      "120/120 [==============================] - 3s 23ms/step - loss: 0.2155 - accuracy: 0.9693 - val_loss: 0.2058 - val_accuracy: 0.9722\n",
      "Epoch 28/40\n",
      "120/120 [==============================] - 3s 21ms/step - loss: 0.2140 - accuracy: 0.9685 - val_loss: 0.2091 - val_accuracy: 0.9694\n",
      "Epoch 29/40\n",
      "120/120 [==============================] - 3s 21ms/step - loss: 0.2125 - accuracy: 0.9682 - val_loss: 0.1808 - val_accuracy: 0.9794\n",
      "Epoch 30/40\n",
      "120/120 [==============================] - 2s 21ms/step - loss: 0.2099 - accuracy: 0.9692 - val_loss: 0.1791 - val_accuracy: 0.9782\n",
      "Epoch 31/40\n",
      "120/120 [==============================] - 2s 21ms/step - loss: 0.2076 - accuracy: 0.9701 - val_loss: 0.1819 - val_accuracy: 0.9797\n",
      "Epoch 32/40\n",
      "120/120 [==============================] - 2s 21ms/step - loss: 0.2056 - accuracy: 0.9700 - val_loss: 0.1873 - val_accuracy: 0.9768\n",
      "Epoch 33/40\n",
      "120/120 [==============================] - 2s 20ms/step - loss: 0.2057 - accuracy: 0.9697 - val_loss: 0.1799 - val_accuracy: 0.9777\n",
      "Epoch 34/40\n",
      "120/120 [==============================] - 2s 20ms/step - loss: 0.2051 - accuracy: 0.9694 - val_loss: 0.1917 - val_accuracy: 0.9723\n",
      "Epoch 35/40\n",
      "120/120 [==============================] - 2s 21ms/step - loss: 0.2028 - accuracy: 0.9700 - val_loss: 0.1866 - val_accuracy: 0.9770\n",
      "Epoch 36/40\n",
      "120/120 [==============================] - 2s 21ms/step - loss: 0.2005 - accuracy: 0.9704 - val_loss: 0.1755 - val_accuracy: 0.9802\n",
      "Epoch 37/40\n",
      "120/120 [==============================] - 3s 21ms/step - loss: 0.2009 - accuracy: 0.9701 - val_loss: 0.1745 - val_accuracy: 0.9787\n",
      "Epoch 38/40\n",
      "120/120 [==============================] - 2s 20ms/step - loss: 0.1976 - accuracy: 0.9706 - val_loss: 0.1798 - val_accuracy: 0.9759\n",
      "Epoch 39/40\n",
      "120/120 [==============================] - 2s 20ms/step - loss: 0.1973 - accuracy: 0.9709 - val_loss: 0.1878 - val_accuracy: 0.9737\n",
      "Epoch 40/40\n",
      "120/120 [==============================] - 3s 21ms/step - loss: 0.1951 - accuracy: 0.9717 - val_loss: 0.1689 - val_accuracy: 0.9803\n",
      "CPU times: total: 2min 4s\n",
      "Wall time: 1min 36s\n"
     ]
    }
   ],
   "source": [
    "%%time\n",
    "batch_size = 400\n",
    "epochs = 40\n",
    "validation_split = 0.2\n",
    "history = model.fit(X_train, y_train_fixed, batch_size=batch_size, epochs=epochs, validation_split=0.2, callbacks=[model_checkpoint_callback])"
   ]
  },
  {
   "cell_type": "code",
   "execution_count": 86,
   "metadata": {},
   "outputs": [
    {
     "name": "stdout",
     "output_type": "stream",
     "text": [
      "313/313 [==============================] - 1s 4ms/step - loss: 0.1733 - accuracy: 0.9792\n",
      "0.17329315841197968 0.979200005531311\n"
     ]
    }
   ],
   "source": [
    "# Evaluate the best checkpoint\n",
    "\n",
    "best_checkpoint = keras.models.load_model(CHECKPOINT_PATH)\n",
    "\n",
    "loss, score = best_checkpoint.evaluate(X_test, y_test_fixed)\n",
    "\n",
    "print(loss, score)"
   ]
  },
  {
   "cell_type": "code",
   "execution_count": 87,
   "metadata": {},
   "outputs": [
    {
     "data": {
      "text/plain": [
       "Text(0.5, 1.0, 'Loss Curves')"
      ]
     },
     "execution_count": 87,
     "metadata": {},
     "output_type": "execute_result"
    },
    {
     "data": {
      "image/png": "[encoded data removed]",
      "text/plain": [
       "<Figure size 600x400 with 1 Axes>"
      ]
     },
     "metadata": {},
     "output_type": "display_data"
    }
   ],
   "source": [
    "# Plotting the loss curve\n",
    "plt.figure(figsize=[6, 4])\n",
    "plt.plot(history.history['loss'], 'black', linewidth=2.0)\n",
    "plt.plot(history.history['val_loss'], 'blue', linewidth=2.0)\n",
    "plt.legend(['Training Loss', 'Validation Loss'], fontsize=12)\n",
    "plt.xlabel('Epochs', fontsize=10)\n",
    "plt.ylabel('Loss', fontsize=10)\n",
    "plt.title('Loss Curves', fontsize=12)"
   ]
  },
  {
   "cell_type": "code",
   "execution_count": 88,
   "metadata": {},
   "outputs": [
    {
     "data": {
      "text/plain": [
       "Text(0.5, 1.0, 'Accuracy Curves')"
      ]
     },
     "execution_count": 88,
     "metadata": {},
     "output_type": "execute_result"
    },
    {
     "data": {
      "image/png": "[encoded data removed]",
      "text/plain": [
       "<Figure size 600x400 with 1 Axes>"
      ]
     },
     "metadata": {},
     "output_type": "display_data"
    }
   ],
   "source": [
    "# Plotting the accuracy curve\n",
    "plt.figure(figsize=[6, 4])\n",
    "plt.plot(history.history['accuracy'], 'black', linewidth=2.0)\n",
    "plt.plot(history.history['val_accuracy'], 'blue', linewidth=2.0)\n",
    "plt.legend(['Training Accuracy', 'Validation Accuracy'], fontsize=12)\n",
    "plt.xlabel('Epochs', fontsize=10)\n",
    "plt.ylabel('Accuracy', fontsize=10)\n",
    "plt.title('Accuracy Curves', fontsize=12)"
   ]
  },
  {
   "cell_type": "markdown",
   "metadata": {},
   "source": [
    "### Saving model to file"
   ]
  },
  {
   "cell_type": "code",
   "execution_count": 89,
   "metadata": {},
   "outputs": [],
   "source": [
    "import json\n",
    "\n",
    "with open('models/checkpoints/mnist_model_best_history.json', 'w') as f:\n",
    "  json.dump(history.history, f)"
   ]
  }
 ],
 "metadata": {
  "kernelspec": {
   "display_name": "Python 3 (ipykernel)",
   "language": "python",
   "name": "python3"
  },
  "language_info": {
   "codemirror_mode": {
    "name": "ipython",
    "version": 3
   },
   "file_extension": ".py",
   "mimetype": "text/x-python",
   "name": "python",
   "nbconvert_exporter": "python",
   "pygments_lexer": "ipython3",
   "version": "3.10.13"
  }
 },
 "nbformat": 4,
 "nbformat_minor": 4
}
