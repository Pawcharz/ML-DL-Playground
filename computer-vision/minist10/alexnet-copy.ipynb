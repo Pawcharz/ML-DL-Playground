{
 "cells": [
  {
   "cell_type": "code",
   "execution_count": 103,
   "metadata": {},
   "outputs": [],
   "source": [
    "import numpy as np\n",
    "import tensorflow as tf\n",
    "from tensorflow import keras\n",
    "from keras import layers\n",
    "from keras import regularizers\n",
    "\n",
    "from keras import backend as K \n",
    "\n",
    "import matplotlib.pyplot as plt\n",
    "\n",
    "K.clear_session()"
   ]
  },
  {
   "cell_type": "code",
   "execution_count": 104,
   "metadata": {},
   "outputs": [],
   "source": [
    "from keras import backend as K\n",
    "K.clear_session()"
   ]
  },
  {
   "cell_type": "markdown",
   "metadata": {},
   "source": [
    "### Setting Up GPU as a training device"
   ]
  },
  {
   "cell_type": "code",
   "execution_count": 105,
   "metadata": {},
   "outputs": [
    {
     "name": "stdout",
     "output_type": "stream",
     "text": [
      "[PhysicalDevice(name='/physical_device:CPU:0', device_type='CPU'), PhysicalDevice(name='/physical_device:GPU:0', device_type='GPU')]\n"
     ]
    }
   ],
   "source": [
    "physical_devices = tf.config.list_physical_devices()\n",
    "\n",
    "print(physical_devices)"
   ]
  },
  {
   "cell_type": "code",
   "execution_count": 106,
   "metadata": {},
   "outputs": [],
   "source": [
    "tf.config.set_visible_devices(physical_devices[1], 'GPU')"
   ]
  },
  {
   "cell_type": "markdown",
   "metadata": {
    "tags": []
   },
   "source": [
    "### Loading Data"
   ]
  },
  {
   "cell_type": "code",
   "execution_count": 107,
   "metadata": {},
   "outputs": [],
   "source": [
    "N_TRAIN_EXAMPLES = 60000\n",
    "N_VALIDATION_EXAMPLES = 0\n",
    "N_TEST_EXAMPLES = 10000\n",
    "\n",
    "CLASSES=10"
   ]
  },
  {
   "cell_type": "code",
   "execution_count": 108,
   "metadata": {},
   "outputs": [],
   "source": [
    "\n",
    "from sklearn.model_selection import train_test_split\n",
    "\n",
    "(X_train, Y_train), (X_test, Y_test) = keras.datasets.mnist.load_data()\n",
    "\n",
    "X_train\n",
    "\n",
    "# Concatenate train and test images\n",
    "X = np.concatenate((X_train, X_test))\n",
    "y = np.concatenate((Y_train, Y_test))\n",
    "\n",
    "X_train, X_test, y_train, y_test = train_test_split(X, y, train_size=N_TRAIN_EXAMPLES+N_VALIDATION_EXAMPLES, test_size=N_TEST_EXAMPLES, random_state=1)\n",
    "\n",
    "# Getting dummy variables\n",
    "y_train_fixed = np.zeros((y_train.shape[0], CLASSES))\n",
    "y_test_fixed = np.zeros((y_test.shape[0], CLASSES))\n",
    "\n",
    "i = 0\n",
    "for val in y_train:\n",
    "  y_train_fixed[i][val] = 1\n",
    "  i += 1  \n",
    "  \n",
    "i = 0\n",
    "for val in y_test:\n",
    "  y_test_fixed[i][val] = 1\n",
    "  i += 1"
   ]
  },
  {
   "cell_type": "markdown",
   "metadata": {
    "tags": []
   },
   "source": [
    "### Setting up the model"
   ]
  },
  {
   "cell_type": "markdown",
   "metadata": {},
   "source": [
    "AlexNet implementation in keras:\n",
    "\n",
    "```py\n",
    "  keras.Input(shape=(227, 227, 3)),\n",
    "  layers.Conv2D(96, kernel_size=11, strides=4, padding='same', activation=\"relu\"),\n",
    "  layers.MaxPooling2D(pool_size=3, strides=2),\n",
    "  layers.Conv2D(256, kernel_size=5, padding='same', activation=\"relu\"),\n",
    "  layers.MaxPooling2D(pool_size=3, strides=2),\n",
    "  layers.Conv2D(384, kernel_size=3, padding='same', activation=\"relu\"),\n",
    "  layers.Conv2D(384, kernel_size=3, padding='same', activation=\"relu\"),\n",
    "  layers.Conv2D(256, kernel_size=3, padding='same', activation=\"relu\"),\n",
    "  layers.MaxPooling2D(pool_size=3, strides=2),\n",
    "  layers.Dropout(0.5),\n",
    "  layers.Dense(4096, activation=\"relu\"),\n",
    "  layers.Dropout(0.5),\n",
    "  layers.Dense(4096, activation=\"relu\"),\n",
    "  layers.Dense(CLASSES, activation=\"softmax\")\n",
    "```"
   ]
  },
  {
   "cell_type": "code",
   "execution_count": 109,
   "metadata": {},
   "outputs": [
    {
     "name": "stdout",
     "output_type": "stream",
     "text": [
      "Model: \"sequential\"\n",
      "_________________________________________________________________\n",
      " Layer (type)                Output Shape              Param #   \n",
      "=================================================================\n",
      " batch_normalization (BatchN  (None, 28, 28, 1)        112       \n",
      " ormalization)                                                   \n",
      "                                                                 \n",
      " conv2d (Conv2D)             (None, 28, 28, 64)        320       \n",
      "                                                                 \n",
      " max_pooling2d (MaxPooling2D  (None, 14, 14, 64)       0         \n",
      " )                                                               \n",
      "                                                                 \n",
      " conv2d_1 (Conv2D)           (None, 14, 14, 64)        16448     \n",
      "                                                                 \n",
      " max_pooling2d_1 (MaxPooling  (None, 7, 7, 64)         0         \n",
      " 2D)                                                             \n",
      "                                                                 \n",
      " flatten (Flatten)           (None, 3136)              0         \n",
      "                                                                 \n",
      " dropout (Dropout)           (None, 3136)              0         \n",
      "                                                                 \n",
      " dense (Dense)               (None, 64)                200768    \n",
      "                                                                 \n",
      " dense_1 (Dense)             (None, 10)                650       \n",
      "                                                                 \n",
      "=================================================================\n",
      "Total params: 218,298\n",
      "Trainable params: 218,242\n",
      "Non-trainable params: 56\n",
      "_________________________________________________________________\n"
     ]
    }
   ],
   "source": [
    "conv_regularizer = regularizers.l2(l=0.01)\n",
    "dense_regularizer = regularizers.l2(l=0.01)\n",
    "normalization_momentum = 0.9\n",
    "\n",
    "model = keras.Sequential(\n",
    "  [\n",
    "    keras.Input(shape=(28, 28, 1)),\n",
    "    layers.BatchNormalization(axis=1, momentum=normalization_momentum),\n",
    "    layers.Conv2D(64, kernel_size=2, strides=1, padding='same', activation=\"relu\", kernel_regularizer=conv_regularizer),\n",
    "    layers.MaxPooling2D(pool_size=2),\n",
    "    layers.Conv2D(64, kernel_size=2, strides=1, padding='same', activation=\"relu\", kernel_regularizer=conv_regularizer),\n",
    "    layers.MaxPooling2D(pool_size=2),\n",
    "    layers.Flatten(),\n",
    "    layers.Dropout(0.4),\n",
    "    layers.Dense(64, activation=\"relu\", kernel_regularizer=dense_regularizer),\n",
    "    layers.Dense(CLASSES, activation=\"softmax\"),    \n",
    "  ]\n",
    ")\n",
    "\n",
    "model.summary()"
   ]
  },
  {
   "cell_type": "code",
   "execution_count": 110,
   "metadata": {},
   "outputs": [],
   "source": [
    "from keras import optimizers\n",
    "\n",
    "opt_adam = optimizers.Adam()\n",
    "opt_sgd = optimizers.SGD(learning_rate=1e-3)\n",
    "\n",
    "model.compile(loss=\"categorical_crossentropy\", optimizer=opt_sgd, metrics=[\"accuracy\"])"
   ]
  },
  {
   "cell_type": "markdown",
   "metadata": {},
   "source": [
    "### Training model"
   ]
  },
  {
   "cell_type": "code",
   "execution_count": 111,
   "metadata": {},
   "outputs": [],
   "source": [
    "CHECKPOINT_PATH = 'models/checkpoints/mnist_best.keras'\n",
    "\n",
    "model_checkpoint_callback = keras.callbacks.ModelCheckpoint(\n",
    "  filepath=CHECKPOINT_PATH,\n",
    "  save_weights_only=False,\n",
    "  monitor='val_accuracy',\n",
    "  mode='max',\n",
    "  save_best_only=True)"
   ]
  },
  {
   "cell_type": "code",
   "execution_count": 112,
   "metadata": {},
   "outputs": [
    {
     "name": "stdout",
     "output_type": "stream",
     "text": [
      "Epoch 1/40\n",
      "240/240 [==============================] - 5s 18ms/step - loss: 4.1310 - accuracy: 0.1968 - val_loss: 4.0266 - val_accuracy: 0.2957\n",
      "Epoch 2/40\n",
      "240/240 [==============================] - 4s 18ms/step - loss: 3.9640 - accuracy: 0.2902 - val_loss: 3.8076 - val_accuracy: 0.4739\n",
      "Epoch 3/40\n",
      "240/240 [==============================] - 4s 17ms/step - loss: 3.7261 - accuracy: 0.4165 - val_loss: 3.4952 - val_accuracy: 0.6057\n",
      "Epoch 4/40\n",
      "240/240 [==============================] - 4s 17ms/step - loss: 3.4159 - accuracy: 0.5477 - val_loss: 3.1387 - val_accuracy: 0.7152\n",
      "Epoch 5/40\n",
      "240/240 [==============================] - 4s 16ms/step - loss: 3.1033 - accuracy: 0.6461 - val_loss: 2.8444 - val_accuracy: 0.7584\n",
      "Epoch 6/40\n",
      "240/240 [==============================] - 4s 17ms/step - loss: 2.8648 - accuracy: 0.6948 - val_loss: 2.6481 - val_accuracy: 0.7878\n",
      "Epoch 7/40\n",
      "240/240 [==============================] - 4s 17ms/step - loss: 2.7128 - accuracy: 0.7246 - val_loss: 2.5187 - val_accuracy: 0.8076\n",
      "Epoch 8/40\n",
      "240/240 [==============================] - 4s 17ms/step - loss: 2.6065 - accuracy: 0.7521 - val_loss: 2.4295 - val_accuracy: 0.8238\n",
      "Epoch 9/40\n",
      "240/240 [==============================] - 4s 18ms/step - loss: 2.5273 - accuracy: 0.7697 - val_loss: 2.3684 - val_accuracy: 0.8338\n",
      "Epoch 10/40\n",
      "240/240 [==============================] - 4s 18ms/step - loss: 2.4616 - accuracy: 0.7853 - val_loss: 2.3103 - val_accuracy: 0.8456\n",
      "Epoch 11/40\n",
      "240/240 [==============================] - 4s 17ms/step - loss: 2.4120 - accuracy: 0.7962 - val_loss: 2.2649 - val_accuracy: 0.8548\n",
      "Epoch 12/40\n",
      "240/240 [==============================] - 4s 18ms/step - loss: 2.3622 - accuracy: 0.8079 - val_loss: 2.2265 - val_accuracy: 0.8595\n",
      "Epoch 13/40\n",
      "240/240 [==============================] - 4s 17ms/step - loss: 2.3268 - accuracy: 0.8136 - val_loss: 2.1906 - val_accuracy: 0.8660\n",
      "Epoch 14/40\n",
      "240/240 [==============================] - 4s 17ms/step - loss: 2.2836 - accuracy: 0.8214 - val_loss: 2.1568 - val_accuracy: 0.8717\n",
      "Epoch 15/40\n",
      "240/240 [==============================] - 4s 17ms/step - loss: 2.2542 - accuracy: 0.8259 - val_loss: 2.1264 - val_accuracy: 0.8768\n",
      "Epoch 16/40\n",
      "240/240 [==============================] - 4s 18ms/step - loss: 2.2220 - accuracy: 0.8331 - val_loss: 2.0980 - val_accuracy: 0.8802\n",
      "Epoch 17/40\n",
      "240/240 [==============================] - 4s 18ms/step - loss: 2.1875 - accuracy: 0.8401 - val_loss: 2.0716 - val_accuracy: 0.8823\n",
      "Epoch 18/40\n",
      "240/240 [==============================] - 4s 19ms/step - loss: 2.1573 - accuracy: 0.8431 - val_loss: 2.0453 - val_accuracy: 0.8843\n",
      "Epoch 19/40\n",
      "240/240 [==============================] - 4s 17ms/step - loss: 2.1288 - accuracy: 0.8488 - val_loss: 2.0209 - val_accuracy: 0.8882\n",
      "Epoch 20/40\n",
      "240/240 [==============================] - 4s 17ms/step - loss: 2.1043 - accuracy: 0.8525 - val_loss: 1.9964 - val_accuracy: 0.8924\n",
      "Epoch 21/40\n",
      "240/240 [==============================] - 4s 17ms/step - loss: 2.0757 - accuracy: 0.8577 - val_loss: 1.9742 - val_accuracy: 0.8944\n",
      "Epoch 22/40\n",
      "240/240 [==============================] - 4s 17ms/step - loss: 2.0565 - accuracy: 0.8600 - val_loss: 1.9530 - val_accuracy: 0.8967\n",
      "Epoch 23/40\n",
      "240/240 [==============================] - 4s 17ms/step - loss: 2.0293 - accuracy: 0.8653 - val_loss: 1.9303 - val_accuracy: 0.8989\n",
      "Epoch 24/40\n",
      "240/240 [==============================] - 4s 17ms/step - loss: 2.0086 - accuracy: 0.8664 - val_loss: 1.9091 - val_accuracy: 0.9022\n",
      "Epoch 25/40\n",
      "240/240 [==============================] - 4s 17ms/step - loss: 1.9848 - accuracy: 0.8699 - val_loss: 1.8877 - val_accuracy: 0.9057\n",
      "Epoch 26/40\n",
      "240/240 [==============================] - 4s 17ms/step - loss: 1.9584 - accuracy: 0.8746 - val_loss: 1.8680 - val_accuracy: 0.9070\n",
      "Epoch 27/40\n",
      "240/240 [==============================] - 4s 17ms/step - loss: 1.9367 - accuracy: 0.8776 - val_loss: 1.8490 - val_accuracy: 0.9084\n",
      "Epoch 28/40\n",
      "240/240 [==============================] - 4s 17ms/step - loss: 1.9191 - accuracy: 0.8781 - val_loss: 1.8305 - val_accuracy: 0.9082\n",
      "Epoch 29/40\n",
      "240/240 [==============================] - 4s 17ms/step - loss: 1.8964 - accuracy: 0.8809 - val_loss: 1.8101 - val_accuracy: 0.9107\n",
      "Epoch 30/40\n",
      "240/240 [==============================] - 4s 17ms/step - loss: 1.8798 - accuracy: 0.8833 - val_loss: 1.7903 - val_accuracy: 0.9135\n",
      "Epoch 31/40\n",
      "240/240 [==============================] - 4s 17ms/step - loss: 1.8575 - accuracy: 0.8844 - val_loss: 1.7737 - val_accuracy: 0.9139\n",
      "Epoch 32/40\n",
      "240/240 [==============================] - 4s 18ms/step - loss: 1.8372 - accuracy: 0.8873 - val_loss: 1.7562 - val_accuracy: 0.9159\n",
      "Epoch 33/40\n",
      "240/240 [==============================] - 4s 18ms/step - loss: 1.8181 - accuracy: 0.8911 - val_loss: 1.7388 - val_accuracy: 0.9160\n",
      "Epoch 34/40\n",
      "240/240 [==============================] - 4s 18ms/step - loss: 1.8006 - accuracy: 0.8922 - val_loss: 1.7200 - val_accuracy: 0.9178\n",
      "Epoch 35/40\n",
      "240/240 [==============================] - 4s 18ms/step - loss: 1.7827 - accuracy: 0.8936 - val_loss: 1.7040 - val_accuracy: 0.9196\n",
      "Epoch 36/40\n",
      "240/240 [==============================] - 4s 18ms/step - loss: 1.7621 - accuracy: 0.8953 - val_loss: 1.6868 - val_accuracy: 0.9225\n",
      "Epoch 37/40\n",
      "240/240 [==============================] - 4s 19ms/step - loss: 1.7423 - accuracy: 0.8996 - val_loss: 1.6696 - val_accuracy: 0.9251\n",
      "Epoch 38/40\n",
      "240/240 [==============================] - 4s 17ms/step - loss: 1.7253 - accuracy: 0.9003 - val_loss: 1.6524 - val_accuracy: 0.9267\n",
      "Epoch 39/40\n",
      "240/240 [==============================] - 4s 17ms/step - loss: 1.7078 - accuracy: 0.9035 - val_loss: 1.6376 - val_accuracy: 0.9270\n",
      "Epoch 40/40\n",
      "240/240 [==============================] - 4s 17ms/step - loss: 1.6925 - accuracy: 0.9037 - val_loss: 1.6230 - val_accuracy: 0.9269\n",
      "CPU times: total: 3min 29s\n",
      "Wall time: 2min 48s\n"
     ]
    }
   ],
   "source": [
    "%%time\n",
    "batch_size = 200\n",
    "epochs = 40\n",
    "validation_split = 0.2\n",
    "history = model.fit(X_train, y_train_fixed, batch_size=batch_size, epochs=epochs, validation_split=0.2, callbacks=[model_checkpoint_callback])"
   ]
  },
  {
   "cell_type": "code",
   "execution_count": 113,
   "metadata": {},
   "outputs": [
    {
     "name": "stdout",
     "output_type": "stream",
     "text": [
      "313/313 [==============================] - 3s 7ms/step - loss: 1.6452 - accuracy: 0.9203\n",
      "1.6451953649520874 0.9203000068664551\n"
     ]
    }
   ],
   "source": [
    "# Evaluate the best checkpoint\n",
    "\n",
    "best_checkpoint = keras.models.load_model(CHECKPOINT_PATH)\n",
    "\n",
    "loss, score = best_checkpoint.evaluate(X_test, y_test_fixed)\n",
    "\n",
    "print(loss, score)"
   ]
  },
  {
   "cell_type": "code",
   "execution_count": 114,
   "metadata": {},
   "outputs": [
    {
     "data": {
      "text/plain": [
       "Text(0.5, 1.0, 'Loss Curves')"
      ]
     },
     "execution_count": 114,
     "metadata": {},
     "output_type": "execute_result"
    },
    {
     "data": {
      "image/png": "[encoded data removed]",
      "text/plain": [
       "<Figure size 600x400 with 1 Axes>"
      ]
     },
     "metadata": {},
     "output_type": "display_data"
    }
   ],
   "source": [
    "# Plotting the loss curve\n",
    "plt.figure(figsize=[6, 4])\n",
    "plt.plot(history.history['loss'], 'black', linewidth=2.0)\n",
    "plt.plot(history.history['val_loss'], 'blue', linewidth=2.0)\n",
    "plt.legend(['Training Loss', 'Validation Loss'], fontsize=12)\n",
    "plt.xlabel('Epochs', fontsize=10)\n",
    "plt.ylabel('Loss', fontsize=10)\n",
    "plt.title('Loss Curves', fontsize=12)"
   ]
  },
  {
   "cell_type": "code",
   "execution_count": 115,
   "metadata": {},
   "outputs": [
    {
     "data": {
      "text/plain": [
       "Text(0.5, 1.0, 'Accuracy Curves')"
      ]
     },
     "execution_count": 115,
     "metadata": {},
     "output_type": "execute_result"
    },
    {
     "data": {
      "image/png": "[encoded data removed]",
      "text/plain": [
       "<Figure size 600x400 with 1 Axes>"
      ]
     },
     "metadata": {},
     "output_type": "display_data"
    }
   ],
   "source": [
    "# Plotting the accuracy curve\n",
    "plt.figure(figsize=[6, 4])\n",
    "plt.plot(history.history['accuracy'], 'black', linewidth=2.0)\n",
    "plt.plot(history.history['val_accuracy'], 'blue', linewidth=2.0)\n",
    "plt.legend(['Training Accuracy', 'Validation Accuracy'], fontsize=12)\n",
    "plt.xlabel('Epochs', fontsize=10)\n",
    "plt.ylabel('Accuracy', fontsize=10)\n",
    "plt.title('Accuracy Curves', fontsize=12)"
   ]
  },
  {
   "cell_type": "markdown",
   "metadata": {},
   "source": [
    "### Saving model to file"
   ]
  },
  {
   "cell_type": "code",
   "execution_count": 116,
   "metadata": {},
   "outputs": [],
   "source": [
    "import json\n",
    "\n",
    "with open('models/checkpoints/mnist_model_best_history.json', 'w') as f:\n",
    "  json.dump(history.history, f)"
   ]
  }
 ],
 "metadata": {
  "kernelspec": {
   "display_name": "Python 3 (ipykernel)",
   "language": "python",
   "name": "python3"
  },
  "language_info": {
   "codemirror_mode": {
    "name": "ipython",
    "version": 3
   },
   "file_extension": ".py",
   "mimetype": "text/x-python",
   "name": "python",
   "nbconvert_exporter": "python",
   "pygments_lexer": "ipython3",
   "version": "3.10.13"
  }
 },
 "nbformat": 4,
 "nbformat_minor": 4
}
