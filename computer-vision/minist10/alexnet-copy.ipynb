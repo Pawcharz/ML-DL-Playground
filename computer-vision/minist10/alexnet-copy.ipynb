{
 "cells": [
  {
   "cell_type": "code",
   "execution_count": 62,
   "metadata": {},
   "outputs": [],
   "source": [
    "import numpy as np\n",
    "import tensorflow as tf\n",
    "from tensorflow import keras\n",
    "from keras import layers\n",
    "from keras import regularizers\n",
    "\n",
    "from keras import backend as K \n",
    "\n",
    "import matplotlib.pyplot as plt\n",
    "\n",
    "K.clear_session()"
   ]
  },
  {
   "cell_type": "code",
   "execution_count": 63,
   "metadata": {},
   "outputs": [],
   "source": [
    "from keras import backend as K\n",
    "K.clear_session()"
   ]
  },
  {
   "cell_type": "markdown",
   "metadata": {},
   "source": [
    "### Setting Up GPU as a training device"
   ]
  },
  {
   "cell_type": "code",
   "execution_count": 64,
   "metadata": {},
   "outputs": [
    {
     "name": "stdout",
     "output_type": "stream",
     "text": [
      "[PhysicalDevice(name='/physical_device:CPU:0', device_type='CPU'), PhysicalDevice(name='/physical_device:GPU:0', device_type='GPU')]\n"
     ]
    }
   ],
   "source": [
    "physical_devices = tf.config.list_physical_devices()\n",
    "\n",
    "print(physical_devices)"
   ]
  },
  {
   "cell_type": "code",
   "execution_count": 65,
   "metadata": {},
   "outputs": [],
   "source": [
    "tf.config.set_visible_devices(physical_devices[1], 'GPU')"
   ]
  },
  {
   "cell_type": "markdown",
   "metadata": {
    "tags": []
   },
   "source": [
    "### Loading Data"
   ]
  },
  {
   "cell_type": "code",
   "execution_count": 66,
   "metadata": {},
   "outputs": [],
   "source": [
    "N_TRAIN_EXAMPLES = 60000\n",
    "N_VALIDATION_EXAMPLES = 0\n",
    "N_TEST_EXAMPLES = 10000\n",
    "\n",
    "CLASSES=10"
   ]
  },
  {
   "cell_type": "code",
   "execution_count": 67,
   "metadata": {},
   "outputs": [],
   "source": [
    "\n",
    "from sklearn.model_selection import train_test_split\n",
    "\n",
    "(X_train, Y_train), (X_test, Y_test) = keras.datasets.mnist.load_data()\n",
    "\n",
    "X_train\n",
    "\n",
    "# Concatenate train and test images\n",
    "X = np.concatenate((X_train, X_test))\n",
    "y = np.concatenate((Y_train, Y_test))\n",
    "\n",
    "X_train, X_test, y_train, y_test = train_test_split(X, y, train_size=N_TRAIN_EXAMPLES+N_VALIDATION_EXAMPLES, test_size=N_TEST_EXAMPLES, random_state=1)\n",
    "\n",
    "# Getting dummy variables\n",
    "y_train_fixed = np.zeros((y_train.shape[0], CLASSES))\n",
    "y_test_fixed = np.zeros((y_test.shape[0], CLASSES))\n",
    "\n",
    "i = 0\n",
    "for val in y_train:\n",
    "  y_train_fixed[i][val] = 1\n",
    "  i += 1  \n",
    "  \n",
    "i = 0\n",
    "for val in y_test:\n",
    "  y_test_fixed[i][val] = 1\n",
    "  i += 1"
   ]
  },
  {
   "cell_type": "markdown",
   "metadata": {
    "tags": []
   },
   "source": [
    "### Setting up the model"
   ]
  },
  {
   "cell_type": "markdown",
   "metadata": {},
   "source": [
    "AlexNet implementation in keras:\n",
    "\n",
    "```py\n",
    "  keras.Input(shape=(227, 227, 3)),\n",
    "  layers.Conv2D(96, kernel_size=11, strides=4, padding='same', activation=\"relu\"),\n",
    "  layers.MaxPooling2D(pool_size=3, strides=2),\n",
    "  layers.Conv2D(256, kernel_size=5, padding='same', activation=\"relu\"),\n",
    "  layers.MaxPooling2D(pool_size=3, strides=2),\n",
    "  layers.Conv2D(384, kernel_size=3, padding='same', activation=\"relu\"),\n",
    "  layers.Conv2D(384, kernel_size=3, padding='same', activation=\"relu\"),\n",
    "  layers.Conv2D(256, kernel_size=3, padding='same', activation=\"relu\"),\n",
    "  layers.MaxPooling2D(pool_size=3, strides=2),\n",
    "  layers.Dropout(0.5),\n",
    "  layers.Dense(4096, activation=\"relu\"),\n",
    "  layers.Dropout(0.5),\n",
    "  layers.Dense(4096, activation=\"relu\"),\n",
    "  layers.Dense(CLASSES, activation=\"softmax\")\n",
    "```"
   ]
  },
  {
   "cell_type": "code",
   "execution_count": 68,
   "metadata": {},
   "outputs": [
    {
     "name": "stdout",
     "output_type": "stream",
     "text": [
      "Model: \"sequential\"\n",
      "_________________________________________________________________\n",
      " Layer (type)                Output Shape              Param #   \n",
      "=================================================================\n",
      " batch_normalization (BatchN  (None, 28, 28, 1)        112       \n",
      " ormalization)                                                   \n",
      "                                                                 \n",
      " conv2d (Conv2D)             (None, 28, 28, 64)        320       \n",
      "                                                                 \n",
      " max_pooling2d (MaxPooling2D  (None, 14, 14, 64)       0         \n",
      " )                                                               \n",
      "                                                                 \n",
      " conv2d_1 (Conv2D)           (None, 14, 14, 64)        16448     \n",
      "                                                                 \n",
      " max_pooling2d_1 (MaxPooling  (None, 7, 7, 64)         0         \n",
      " 2D)                                                             \n",
      "                                                                 \n",
      " flatten (Flatten)           (None, 3136)              0         \n",
      "                                                                 \n",
      " dropout (Dropout)           (None, 3136)              0         \n",
      "                                                                 \n",
      " dense (Dense)               (None, 64)                200768    \n",
      "                                                                 \n",
      " dense_1 (Dense)             (None, 10)                650       \n",
      "                                                                 \n",
      "=================================================================\n",
      "Total params: 218,298\n",
      "Trainable params: 218,242\n",
      "Non-trainable params: 56\n",
      "_________________________________________________________________\n"
     ]
    }
   ],
   "source": [
    "conv_regularizer = regularizers.l2(l=0.01)\n",
    "dense_regularizer = regularizers.l2(l=0.01)\n",
    "normalization_momentum = 0.9\n",
    "\n",
    "model = keras.Sequential(\n",
    "  [\n",
    "    keras.Input(shape=(28, 28, 1)),\n",
    "    layers.BatchNormalization(axis=1, momentum=normalization_momentum),\n",
    "    layers.Conv2D(64, kernel_size=2, strides=1, padding='same', activation=\"relu\", kernel_regularizer=conv_regularizer),\n",
    "    layers.MaxPooling2D(pool_size=2),\n",
    "    layers.Conv2D(64, kernel_size=2, strides=1, padding='same', activation=\"relu\", kernel_regularizer=conv_regularizer),\n",
    "    layers.MaxPooling2D(pool_size=2),\n",
    "    layers.Flatten(),\n",
    "    layers.Dropout(0.4),\n",
    "    layers.Dense(64, activation=\"relu\", kernel_regularizer=dense_regularizer),\n",
    "    layers.Dense(CLASSES, activation=\"softmax\"),    \n",
    "  ]\n",
    ")\n",
    "\n",
    "model.summary()"
   ]
  },
  {
   "cell_type": "code",
   "execution_count": 69,
   "metadata": {},
   "outputs": [],
   "source": [
    "from keras import optimizers\n",
    "\n",
    "opt_adam = optimizers.Adam(beta_1=0.5, beta_2=0.6)\n",
    "opt_sgd = optimizers.SGD(learning_rate=1e-3)\n",
    "\n",
    "model.compile(loss=\"categorical_crossentropy\", optimizer=opt_adam, metrics=[\"accuracy\"])"
   ]
  },
  {
   "cell_type": "markdown",
   "metadata": {},
   "source": [
    "### Training model"
   ]
  },
  {
   "cell_type": "code",
   "execution_count": 70,
   "metadata": {},
   "outputs": [],
   "source": [
    "CHECKPOINT_PATH = 'models/checkpoints/mnist_best.keras'\n",
    "\n",
    "model_checkpoint_callback = keras.callbacks.ModelCheckpoint(\n",
    "  filepath=CHECKPOINT_PATH,\n",
    "  save_weights_only=False,\n",
    "  monitor='val_accuracy',\n",
    "  mode='max',\n",
    "  save_best_only=True)"
   ]
  },
  {
   "cell_type": "code",
   "execution_count": 71,
   "metadata": {},
   "outputs": [
    {
     "name": "stdout",
     "output_type": "stream",
     "text": [
      "Epoch 1/40\n",
      "120/120 [==============================] - 3s 22ms/step - loss: 1.3124 - accuracy: 0.8432 - val_loss: 0.5954 - val_accuracy: 0.9391\n",
      "Epoch 2/40\n",
      "120/120 [==============================] - 2s 20ms/step - loss: 0.4871 - accuracy: 0.9415 - val_loss: 0.3751 - val_accuracy: 0.9569\n",
      "Epoch 3/40\n",
      "120/120 [==============================] - 2s 20ms/step - loss: 0.3748 - accuracy: 0.9488 - val_loss: 0.3206 - val_accuracy: 0.9599\n",
      "Epoch 4/40\n",
      "120/120 [==============================] - 2s 20ms/step - loss: 0.3329 - accuracy: 0.9527 - val_loss: 0.2909 - val_accuracy: 0.9631\n",
      "Epoch 5/40\n",
      "120/120 [==============================] - 2s 18ms/step - loss: 0.3119 - accuracy: 0.9555 - val_loss: 0.2863 - val_accuracy: 0.9620\n",
      "Epoch 6/40\n",
      "120/120 [==============================] - 2s 19ms/step - loss: 0.2993 - accuracy: 0.9564 - val_loss: 0.2643 - val_accuracy: 0.9645\n",
      "Epoch 7/40\n",
      "120/120 [==============================] - 2s 18ms/step - loss: 0.2896 - accuracy: 0.9568 - val_loss: 0.2569 - val_accuracy: 0.9655\n",
      "Epoch 8/40\n",
      "120/120 [==============================] - 2s 19ms/step - loss: 0.2789 - accuracy: 0.9584 - val_loss: 0.2569 - val_accuracy: 0.9648\n",
      "Epoch 9/40\n",
      "120/120 [==============================] - 2s 19ms/step - loss: 0.2713 - accuracy: 0.9597 - val_loss: 0.2431 - val_accuracy: 0.9675\n",
      "Epoch 10/40\n",
      "120/120 [==============================] - 2s 19ms/step - loss: 0.2677 - accuracy: 0.9597 - val_loss: 0.2325 - val_accuracy: 0.9709\n",
      "Epoch 11/40\n",
      "120/120 [==============================] - 2s 19ms/step - loss: 0.2593 - accuracy: 0.9619 - val_loss: 0.2505 - val_accuracy: 0.9623\n",
      "Epoch 12/40\n",
      "120/120 [==============================] - 2s 17ms/step - loss: 0.2546 - accuracy: 0.9622 - val_loss: 0.2263 - val_accuracy: 0.9687\n",
      "Epoch 13/40\n",
      "120/120 [==============================] - 2s 18ms/step - loss: 0.2506 - accuracy: 0.9623 - val_loss: 0.2336 - val_accuracy: 0.9655\n",
      "Epoch 14/40\n",
      "120/120 [==============================] - 2s 19ms/step - loss: 0.2465 - accuracy: 0.9628 - val_loss: 0.2237 - val_accuracy: 0.9710\n",
      "Epoch 15/40\n",
      "120/120 [==============================] - 2s 18ms/step - loss: 0.2448 - accuracy: 0.9631 - val_loss: 0.2310 - val_accuracy: 0.9661\n",
      "Epoch 16/40\n",
      "120/120 [==============================] - 2s 20ms/step - loss: 0.2418 - accuracy: 0.9634 - val_loss: 0.2229 - val_accuracy: 0.9684\n",
      "Epoch 17/40\n",
      "120/120 [==============================] - 2s 20ms/step - loss: 0.2364 - accuracy: 0.9644 - val_loss: 0.2417 - val_accuracy: 0.9613\n",
      "Epoch 18/40\n",
      "120/120 [==============================] - 2s 20ms/step - loss: 0.2357 - accuracy: 0.9630 - val_loss: 0.2029 - val_accuracy: 0.9735\n",
      "Epoch 19/40\n",
      "120/120 [==============================] - 2s 19ms/step - loss: 0.2322 - accuracy: 0.9642 - val_loss: 0.2013 - val_accuracy: 0.9735\n",
      "Epoch 20/40\n",
      "120/120 [==============================] - 2s 19ms/step - loss: 0.2316 - accuracy: 0.9630 - val_loss: 0.2004 - val_accuracy: 0.9743\n",
      "Epoch 21/40\n",
      "120/120 [==============================] - 2s 19ms/step - loss: 0.2281 - accuracy: 0.9646 - val_loss: 0.1987 - val_accuracy: 0.9725\n",
      "Epoch 22/40\n",
      "120/120 [==============================] - 2s 20ms/step - loss: 0.2265 - accuracy: 0.9650 - val_loss: 0.2262 - val_accuracy: 0.9643\n",
      "Epoch 23/40\n",
      "120/120 [==============================] - 2s 20ms/step - loss: 0.2246 - accuracy: 0.9654 - val_loss: 0.1955 - val_accuracy: 0.9755\n",
      "Epoch 24/40\n",
      "120/120 [==============================] - 2s 20ms/step - loss: 0.2206 - accuracy: 0.9663 - val_loss: 0.2093 - val_accuracy: 0.9702\n",
      "Epoch 25/40\n",
      "120/120 [==============================] - 3s 21ms/step - loss: 0.2199 - accuracy: 0.9659 - val_loss: 0.2028 - val_accuracy: 0.9718\n",
      "Epoch 26/40\n",
      "120/120 [==============================] - 2s 21ms/step - loss: 0.2181 - accuracy: 0.9656 - val_loss: 0.1843 - val_accuracy: 0.9774\n",
      "Epoch 27/40\n",
      "120/120 [==============================] - 2s 20ms/step - loss: 0.2151 - accuracy: 0.9665 - val_loss: 0.1890 - val_accuracy: 0.9754\n",
      "Epoch 28/40\n",
      "120/120 [==============================] - 2s 20ms/step - loss: 0.2156 - accuracy: 0.9665 - val_loss: 0.1901 - val_accuracy: 0.9734\n",
      "Epoch 29/40\n",
      "120/120 [==============================] - 2s 20ms/step - loss: 0.2138 - accuracy: 0.9667 - val_loss: 0.1856 - val_accuracy: 0.9763\n",
      "Epoch 30/40\n",
      "120/120 [==============================] - 2s 20ms/step - loss: 0.2104 - accuracy: 0.9674 - val_loss: 0.1908 - val_accuracy: 0.9728\n",
      "Epoch 31/40\n",
      "120/120 [==============================] - 2s 20ms/step - loss: 0.2087 - accuracy: 0.9684 - val_loss: 0.2184 - val_accuracy: 0.9648\n",
      "Epoch 32/40\n",
      "120/120 [==============================] - 2s 20ms/step - loss: 0.2088 - accuracy: 0.9677 - val_loss: 0.1796 - val_accuracy: 0.9768\n",
      "Epoch 33/40\n",
      "120/120 [==============================] - 2s 21ms/step - loss: 0.2092 - accuracy: 0.9672 - val_loss: 0.1873 - val_accuracy: 0.9730\n",
      "Epoch 34/40\n",
      "120/120 [==============================] - 2s 20ms/step - loss: 0.2054 - accuracy: 0.9679 - val_loss: 0.1834 - val_accuracy: 0.9740\n",
      "Epoch 35/40\n",
      "120/120 [==============================] - 2s 20ms/step - loss: 0.2063 - accuracy: 0.9668 - val_loss: 0.1937 - val_accuracy: 0.9705\n",
      "Epoch 36/40\n",
      "120/120 [==============================] - 2s 21ms/step - loss: 0.2018 - accuracy: 0.9691 - val_loss: 0.1738 - val_accuracy: 0.9777\n",
      "Epoch 37/40\n",
      "120/120 [==============================] - 2s 20ms/step - loss: 0.2016 - accuracy: 0.9683 - val_loss: 0.1819 - val_accuracy: 0.9737\n",
      "Epoch 38/40\n",
      "120/120 [==============================] - 2s 20ms/step - loss: 0.2006 - accuracy: 0.9688 - val_loss: 0.1687 - val_accuracy: 0.9784\n",
      "Epoch 39/40\n",
      "120/120 [==============================] - 2s 20ms/step - loss: 0.2008 - accuracy: 0.9684 - val_loss: 0.1758 - val_accuracy: 0.9760\n",
      "Epoch 40/40\n",
      "120/120 [==============================] - 2s 20ms/step - loss: 0.1986 - accuracy: 0.9696 - val_loss: 0.1801 - val_accuracy: 0.9735\n",
      "CPU times: total: 2min 4s\n",
      "Wall time: 1min 35s\n"
     ]
    }
   ],
   "source": [
    "%%time\n",
    "batch_size = 400\n",
    "epochs = 40\n",
    "validation_split = 0.2\n",
    "history = model.fit(X_train, y_train_fixed, batch_size=batch_size, epochs=epochs, validation_split=0.2, callbacks=[model_checkpoint_callback])"
   ]
  },
  {
   "cell_type": "code",
   "execution_count": 72,
   "metadata": {},
   "outputs": [
    {
     "name": "stdout",
     "output_type": "stream",
     "text": [
      "313/313 [==============================] - 2s 5ms/step - loss: 0.1777 - accuracy: 0.9787\n",
      "0.1776989996433258 0.9786999821662903\n"
     ]
    }
   ],
   "source": [
    "# Evaluate the best checkpoint\n",
    "\n",
    "best_checkpoint = keras.models.load_model(CHECKPOINT_PATH)\n",
    "\n",
    "loss, score = best_checkpoint.evaluate(X_test, y_test_fixed)\n",
    "\n",
    "print(loss, score)"
   ]
  },
  {
   "cell_type": "code",
   "execution_count": 73,
   "metadata": {},
   "outputs": [
    {
     "data": {
      "text/plain": [
       "Text(0.5, 1.0, 'Loss Curves')"
      ]
     },
     "execution_count": 73,
     "metadata": {},
     "output_type": "execute_result"
    },
    {
     "data": {
      "image/png": "[encoded data removed]",
      "text/plain": [
       "<Figure size 600x400 with 1 Axes>"
      ]
     },
     "metadata": {},
     "output_type": "display_data"
    }
   ],
   "source": [
    "# Plotting the loss curve\n",
    "plt.figure(figsize=[6, 4])\n",
    "plt.plot(history.history['loss'], 'black', linewidth=2.0)\n",
    "plt.plot(history.history['val_loss'], 'blue', linewidth=2.0)\n",
    "plt.legend(['Training Loss', 'Validation Loss'], fontsize=12)\n",
    "plt.xlabel('Epochs', fontsize=10)\n",
    "plt.ylabel('Loss', fontsize=10)\n",
    "plt.title('Loss Curves', fontsize=12)"
   ]
  },
  {
   "cell_type": "code",
   "execution_count": 74,
   "metadata": {},
   "outputs": [
    {
     "data": {
      "text/plain": [
       "Text(0.5, 1.0, 'Accuracy Curves')"
      ]
     },
     "execution_count": 74,
     "metadata": {},
     "output_type": "execute_result"
    },
    {
     "data": {
      "image/png": "[encoded data removed]",
      "text/plain": [
       "<Figure size 600x400 with 1 Axes>"
      ]
     },
     "metadata": {},
     "output_type": "display_data"
    }
   ],
   "source": [
    "# Plotting the accuracy curve\n",
    "plt.figure(figsize=[6, 4])\n",
    "plt.plot(history.history['accuracy'], 'black', linewidth=2.0)\n",
    "plt.plot(history.history['val_accuracy'], 'blue', linewidth=2.0)\n",
    "plt.legend(['Training Accuracy', 'Validation Accuracy'], fontsize=12)\n",
    "plt.xlabel('Epochs', fontsize=10)\n",
    "plt.ylabel('Accuracy', fontsize=10)\n",
    "plt.title('Accuracy Curves', fontsize=12)"
   ]
  },
  {
   "cell_type": "markdown",
   "metadata": {},
   "source": [
    "### Saving model to file"
   ]
  },
  {
   "cell_type": "code",
   "execution_count": 75,
   "metadata": {},
   "outputs": [],
   "source": [
    "import json\n",
    "\n",
    "with open('models/checkpoints/mnist_model_best_history.json', 'w') as f:\n",
    "  json.dump(history.history, f)"
   ]
  }
 ],
 "metadata": {
  "kernelspec": {
   "display_name": "Python 3 (ipykernel)",
   "language": "python",
   "name": "python3"
  },
  "language_info": {
   "codemirror_mode": {
    "name": "ipython",
    "version": 3
   },
   "file_extension": ".py",
   "mimetype": "text/x-python",
   "name": "python",
   "nbconvert_exporter": "python",
   "pygments_lexer": "ipython3",
   "version": "3.10.13"
  }
 },
 "nbformat": 4,
 "nbformat_minor": 4
}
