{
 "cells": [
  {
   "cell_type": "code",
   "execution_count": 90,
   "metadata": {},
   "outputs": [],
   "source": [
    "import numpy as np\n",
    "import tensorflow as tf\n",
    "from tensorflow import keras\n",
    "from keras import layers\n",
    "from keras import regularizers\n",
    "\n",
    "from keras import backend as K \n",
    "\n",
    "import matplotlib.pyplot as plt\n",
    "\n",
    "K.clear_session()"
   ]
  },
  {
   "cell_type": "code",
   "execution_count": 91,
   "metadata": {},
   "outputs": [],
   "source": [
    "from keras import backend as K\n",
    "K.clear_session()"
   ]
  },
  {
   "cell_type": "markdown",
   "metadata": {},
   "source": [
    "### Setting Up GPU as a training device"
   ]
  },
  {
   "cell_type": "code",
   "execution_count": 92,
   "metadata": {},
   "outputs": [
    {
     "name": "stdout",
     "output_type": "stream",
     "text": [
      "[PhysicalDevice(name='/physical_device:CPU:0', device_type='CPU'), PhysicalDevice(name='/physical_device:GPU:0', device_type='GPU')]\n"
     ]
    }
   ],
   "source": [
    "physical_devices = tf.config.list_physical_devices()\n",
    "\n",
    "print(physical_devices)"
   ]
  },
  {
   "cell_type": "code",
   "execution_count": 93,
   "metadata": {},
   "outputs": [],
   "source": [
    "tf.config.set_visible_devices(physical_devices[1], 'GPU')"
   ]
  },
  {
   "cell_type": "markdown",
   "metadata": {
    "tags": []
   },
   "source": [
    "### Loading Data"
   ]
  },
  {
   "cell_type": "code",
   "execution_count": 94,
   "metadata": {},
   "outputs": [],
   "source": [
    "N_TRAIN_EXAMPLES = 60000\n",
    "N_VALIDATION_EXAMPLES = 0\n",
    "N_TEST_EXAMPLES = 10000\n",
    "\n",
    "CLASSES=10"
   ]
  },
  {
   "cell_type": "code",
   "execution_count": 95,
   "metadata": {},
   "outputs": [],
   "source": [
    "\n",
    "from sklearn.model_selection import train_test_split\n",
    "\n",
    "(X_train, Y_train), (X_test, Y_test) = keras.datasets.mnist.load_data()\n",
    "\n",
    "X_train\n",
    "\n",
    "# Concatenate train and test images\n",
    "X = np.concatenate((X_train, X_test))\n",
    "y = np.concatenate((Y_train, Y_test))\n",
    "\n",
    "X_train, X_test, y_train, y_test = train_test_split(X, y, train_size=N_TRAIN_EXAMPLES+N_VALIDATION_EXAMPLES, test_size=N_TEST_EXAMPLES, random_state=1)\n",
    "\n",
    "# Getting dummy variables\n",
    "y_train_fixed = np.zeros((y_train.shape[0], CLASSES))\n",
    "y_test_fixed = np.zeros((y_test.shape[0], CLASSES))\n",
    "\n",
    "i = 0\n",
    "for val in y_train:\n",
    "  y_train_fixed[i][val] = 1\n",
    "  i += 1  \n",
    "  \n",
    "i = 0\n",
    "for val in y_test:\n",
    "  y_test_fixed[i][val] = 1\n",
    "  i += 1"
   ]
  },
  {
   "cell_type": "markdown",
   "metadata": {
    "tags": []
   },
   "source": [
    "### Setting up the model"
   ]
  },
  {
   "cell_type": "markdown",
   "metadata": {},
   "source": [
    "AlexNet implementation in keras:\n",
    "\n",
    "```py\n",
    "  keras.Input(shape=(227, 227, 3)),\n",
    "  layers.Conv2D(96, kernel_size=11, strides=4, padding='same', activation=\"relu\"),\n",
    "  layers.MaxPooling2D(pool_size=3, strides=2),\n",
    "  layers.Conv2D(256, kernel_size=5, padding='same', activation=\"relu\"),\n",
    "  layers.MaxPooling2D(pool_size=3, strides=2),\n",
    "  layers.Conv2D(384, kernel_size=3, padding='same', activation=\"relu\"),\n",
    "  layers.Conv2D(384, kernel_size=3, padding='same', activation=\"relu\"),\n",
    "  layers.Conv2D(256, kernel_size=3, padding='same', activation=\"relu\"),\n",
    "  layers.MaxPooling2D(pool_size=3, strides=2),\n",
    "  layers.Dropout(0.5),\n",
    "  layers.Dense(4096, activation=\"relu\"),\n",
    "  layers.Dropout(0.5),\n",
    "  layers.Dense(4096, activation=\"relu\"),\n",
    "  layers.Dense(CLASSES, activation=\"softmax\")\n",
    "```"
   ]
  },
  {
   "cell_type": "code",
   "execution_count": 96,
   "metadata": {},
   "outputs": [
    {
     "name": "stdout",
     "output_type": "stream",
     "text": [
      "Model: \"sequential\"\n",
      "_________________________________________________________________\n",
      " Layer (type)                Output Shape              Param #   \n",
      "=================================================================\n",
      " batch_normalization (BatchN  (None, 28, 28, 1)        112       \n",
      " ormalization)                                                   \n",
      "                                                                 \n",
      " conv2d (Conv2D)             (None, 28, 28, 64)        320       \n",
      "                                                                 \n",
      " max_pooling2d (MaxPooling2D  (None, 14, 14, 64)       0         \n",
      " )                                                               \n",
      "                                                                 \n",
      " conv2d_1 (Conv2D)           (None, 14, 14, 64)        16448     \n",
      "                                                                 \n",
      " max_pooling2d_1 (MaxPooling  (None, 7, 7, 64)         0         \n",
      " 2D)                                                             \n",
      "                                                                 \n",
      " flatten (Flatten)           (None, 3136)              0         \n",
      "                                                                 \n",
      " dropout (Dropout)           (None, 3136)              0         \n",
      "                                                                 \n",
      " dense (Dense)               (None, 64)                200768    \n",
      "                                                                 \n",
      " dense_1 (Dense)             (None, 10)                650       \n",
      "                                                                 \n",
      "=================================================================\n",
      "Total params: 218,298\n",
      "Trainable params: 218,242\n",
      "Non-trainable params: 56\n",
      "_________________________________________________________________\n"
     ]
    }
   ],
   "source": [
    "conv_regularizer = regularizers.l2(l=0.01)\n",
    "dense_regularizer = regularizers.l2(l=0.01)\n",
    "normalization_momentum = 0.9\n",
    "\n",
    "model = keras.Sequential(\n",
    "  [\n",
    "    keras.Input(shape=(28, 28, 1)),\n",
    "    layers.BatchNormalization(axis=1, momentum=normalization_momentum),\n",
    "    layers.Conv2D(64, kernel_size=2, strides=1, padding='same', activation=\"relu\", kernel_regularizer=conv_regularizer),\n",
    "    layers.MaxPooling2D(pool_size=2),\n",
    "    layers.Conv2D(64, kernel_size=2, strides=1, padding='same', activation=\"relu\", kernel_regularizer=conv_regularizer),\n",
    "    layers.MaxPooling2D(pool_size=2),\n",
    "    layers.Flatten(),\n",
    "    layers.Dropout(0.4),\n",
    "    layers.Dense(64, activation=\"relu\", kernel_regularizer=dense_regularizer),\n",
    "    layers.Dense(CLASSES, activation=\"softmax\"),    \n",
    "  ]\n",
    ")\n",
    "\n",
    "model.summary()"
   ]
  },
  {
   "cell_type": "code",
   "execution_count": 97,
   "metadata": {},
   "outputs": [],
   "source": [
    "from keras import optimizers\n",
    "\n",
    "opt_adam = optimizers.Adam(beta_1=0.2, beta_2=0.3)\n",
    "opt_sgd = optimizers.SGD(learning_rate=1e-3)\n",
    "\n",
    "model.compile(loss=\"categorical_crossentropy\", optimizer=opt_adam, metrics=[\"accuracy\"])"
   ]
  },
  {
   "cell_type": "markdown",
   "metadata": {},
   "source": [
    "### Training model"
   ]
  },
  {
   "cell_type": "code",
   "execution_count": 98,
   "metadata": {},
   "outputs": [],
   "source": [
    "CHECKPOINT_PATH = 'models/checkpoints/mnist_best.keras'\n",
    "\n",
    "model_checkpoint_callback = keras.callbacks.ModelCheckpoint(\n",
    "  filepath=CHECKPOINT_PATH,\n",
    "  save_weights_only=False,\n",
    "  monitor='val_accuracy',\n",
    "  mode='max',\n",
    "  save_best_only=True)"
   ]
  },
  {
   "cell_type": "code",
   "execution_count": 99,
   "metadata": {},
   "outputs": [
    {
     "name": "stdout",
     "output_type": "stream",
     "text": [
      "Epoch 1/80\n",
      "120/120 [==============================] - 3s 21ms/step - loss: 1.3687 - accuracy: 0.8339 - val_loss: 0.6115 - val_accuracy: 0.9413\n",
      "Epoch 2/80\n",
      "120/120 [==============================] - 2s 20ms/step - loss: 0.5160 - accuracy: 0.9351 - val_loss: 0.4259 - val_accuracy: 0.9448\n",
      "Epoch 3/80\n",
      "120/120 [==============================] - 2s 21ms/step - loss: 0.3973 - accuracy: 0.9450 - val_loss: 0.3538 - val_accuracy: 0.9532\n",
      "Epoch 4/80\n",
      "120/120 [==============================] - 2s 21ms/step - loss: 0.3550 - accuracy: 0.9491 - val_loss: 0.3267 - val_accuracy: 0.9553\n",
      "Epoch 5/80\n",
      "120/120 [==============================] - 2s 19ms/step - loss: 0.3377 - accuracy: 0.9510 - val_loss: 0.3024 - val_accuracy: 0.9612\n",
      "Epoch 6/80\n",
      "120/120 [==============================] - 2s 19ms/step - loss: 0.3199 - accuracy: 0.9527 - val_loss: 0.3304 - val_accuracy: 0.9457\n",
      "Epoch 7/80\n",
      "120/120 [==============================] - 2s 19ms/step - loss: 0.3085 - accuracy: 0.9539 - val_loss: 0.3072 - val_accuracy: 0.9517\n",
      "Epoch 8/80\n",
      "120/120 [==============================] - 2s 19ms/step - loss: 0.3008 - accuracy: 0.9553 - val_loss: 0.2685 - val_accuracy: 0.9650\n",
      "Epoch 9/80\n",
      "120/120 [==============================] - 2s 18ms/step - loss: 0.2911 - accuracy: 0.9561 - val_loss: 0.2728 - val_accuracy: 0.9634\n",
      "Epoch 10/80\n",
      "120/120 [==============================] - 2s 18ms/step - loss: 0.2856 - accuracy: 0.9575 - val_loss: 0.2896 - val_accuracy: 0.9553\n",
      "Epoch 11/80\n",
      "120/120 [==============================] - 2s 19ms/step - loss: 0.2777 - accuracy: 0.9590 - val_loss: 0.2608 - val_accuracy: 0.9625\n",
      "Epoch 12/80\n",
      "120/120 [==============================] - 2s 19ms/step - loss: 0.2740 - accuracy: 0.9589 - val_loss: 0.3090 - val_accuracy: 0.9434\n",
      "Epoch 13/80\n",
      "120/120 [==============================] - 2s 19ms/step - loss: 0.2700 - accuracy: 0.9596 - val_loss: 0.2324 - val_accuracy: 0.9712\n",
      "Epoch 14/80\n",
      "120/120 [==============================] - 2s 19ms/step - loss: 0.2644 - accuracy: 0.9604 - val_loss: 0.2612 - val_accuracy: 0.9624\n",
      "Epoch 15/80\n",
      "120/120 [==============================] - 2s 19ms/step - loss: 0.2588 - accuracy: 0.9621 - val_loss: 0.2508 - val_accuracy: 0.9622\n",
      "Epoch 16/80\n",
      "120/120 [==============================] - 3s 21ms/step - loss: 0.2550 - accuracy: 0.9616 - val_loss: 0.2163 - val_accuracy: 0.9742\n",
      "Epoch 17/80\n",
      "120/120 [==============================] - 2s 20ms/step - loss: 0.2539 - accuracy: 0.9617 - val_loss: 0.2341 - val_accuracy: 0.9658\n",
      "Epoch 18/80\n",
      "120/120 [==============================] - 2s 19ms/step - loss: 0.2509 - accuracy: 0.9621 - val_loss: 0.2259 - val_accuracy: 0.9700\n",
      "Epoch 19/80\n",
      "120/120 [==============================] - 2s 20ms/step - loss: 0.2468 - accuracy: 0.9625 - val_loss: 0.2249 - val_accuracy: 0.9695\n",
      "Epoch 20/80\n",
      "120/120 [==============================] - 2s 20ms/step - loss: 0.2455 - accuracy: 0.9625 - val_loss: 0.2210 - val_accuracy: 0.9721\n",
      "Epoch 21/80\n",
      "120/120 [==============================] - 2s 20ms/step - loss: 0.2425 - accuracy: 0.9634 - val_loss: 0.2272 - val_accuracy: 0.9679\n",
      "Epoch 22/80\n",
      "120/120 [==============================] - 3s 23ms/step - loss: 0.2374 - accuracy: 0.9634 - val_loss: 0.2046 - val_accuracy: 0.9747\n",
      "Epoch 23/80\n",
      "120/120 [==============================] - 3s 21ms/step - loss: 0.2354 - accuracy: 0.9646 - val_loss: 0.2416 - val_accuracy: 0.9617\n",
      "Epoch 24/80\n",
      "120/120 [==============================] - 2s 18ms/step - loss: 0.2334 - accuracy: 0.9653 - val_loss: 0.2139 - val_accuracy: 0.9719\n",
      "Epoch 25/80\n",
      "120/120 [==============================] - 2s 18ms/step - loss: 0.2300 - accuracy: 0.9653 - val_loss: 0.2004 - val_accuracy: 0.9752\n",
      "Epoch 26/80\n",
      "120/120 [==============================] - 2s 18ms/step - loss: 0.2279 - accuracy: 0.9656 - val_loss: 0.2045 - val_accuracy: 0.9724\n",
      "Epoch 27/80\n",
      "120/120 [==============================] - 2s 18ms/step - loss: 0.2268 - accuracy: 0.9659 - val_loss: 0.1983 - val_accuracy: 0.9754\n",
      "Epoch 28/80\n",
      "120/120 [==============================] - 2s 18ms/step - loss: 0.2237 - accuracy: 0.9660 - val_loss: 0.2221 - val_accuracy: 0.9668\n",
      "Epoch 29/80\n",
      "120/120 [==============================] - 2s 18ms/step - loss: 0.2236 - accuracy: 0.9669 - val_loss: 0.1889 - val_accuracy: 0.9777\n",
      "Epoch 30/80\n",
      "120/120 [==============================] - 2s 18ms/step - loss: 0.2197 - accuracy: 0.9669 - val_loss: 0.2435 - val_accuracy: 0.9598\n",
      "Epoch 31/80\n",
      "120/120 [==============================] - 2s 18ms/step - loss: 0.2178 - accuracy: 0.9672 - val_loss: 0.2226 - val_accuracy: 0.9621\n",
      "Epoch 32/80\n",
      "120/120 [==============================] - 2s 19ms/step - loss: 0.2181 - accuracy: 0.9672 - val_loss: 0.1967 - val_accuracy: 0.9743\n",
      "Epoch 33/80\n",
      "120/120 [==============================] - 2s 19ms/step - loss: 0.2139 - accuracy: 0.9686 - val_loss: 0.2042 - val_accuracy: 0.9717\n",
      "Epoch 34/80\n",
      "120/120 [==============================] - 2s 18ms/step - loss: 0.2105 - accuracy: 0.9688 - val_loss: 0.1924 - val_accuracy: 0.9747\n",
      "Epoch 35/80\n",
      "120/120 [==============================] - 2s 18ms/step - loss: 0.2116 - accuracy: 0.9677 - val_loss: 0.1789 - val_accuracy: 0.9795\n",
      "Epoch 36/80\n",
      "120/120 [==============================] - 2s 19ms/step - loss: 0.2086 - accuracy: 0.9681 - val_loss: 0.2011 - val_accuracy: 0.9700\n",
      "Epoch 37/80\n",
      "120/120 [==============================] - 2s 21ms/step - loss: 0.2091 - accuracy: 0.9688 - val_loss: 0.1947 - val_accuracy: 0.9726\n",
      "Epoch 38/80\n",
      "120/120 [==============================] - 2s 19ms/step - loss: 0.2079 - accuracy: 0.9692 - val_loss: 0.1787 - val_accuracy: 0.9786\n",
      "Epoch 39/80\n",
      "120/120 [==============================] - 2s 19ms/step - loss: 0.2048 - accuracy: 0.9682 - val_loss: 0.1993 - val_accuracy: 0.9697\n",
      "Epoch 40/80\n",
      "120/120 [==============================] - 2s 20ms/step - loss: 0.2022 - accuracy: 0.9697 - val_loss: 0.1809 - val_accuracy: 0.9778\n",
      "Epoch 41/80\n",
      "120/120 [==============================] - 2s 19ms/step - loss: 0.2012 - accuracy: 0.9700 - val_loss: 0.1724 - val_accuracy: 0.9798\n",
      "Epoch 42/80\n",
      "120/120 [==============================] - 2s 20ms/step - loss: 0.2017 - accuracy: 0.9690 - val_loss: 0.1806 - val_accuracy: 0.9747\n",
      "Epoch 43/80\n",
      "120/120 [==============================] - 3s 21ms/step - loss: 0.1995 - accuracy: 0.9692 - val_loss: 0.1705 - val_accuracy: 0.9792\n",
      "Epoch 44/80\n",
      "120/120 [==============================] - 3s 21ms/step - loss: 0.1997 - accuracy: 0.9693 - val_loss: 0.1794 - val_accuracy: 0.9768\n",
      "Epoch 45/80\n",
      "120/120 [==============================] - 3s 21ms/step - loss: 0.1976 - accuracy: 0.9695 - val_loss: 0.1781 - val_accuracy: 0.9764\n",
      "Epoch 46/80\n",
      "120/120 [==============================] - 3s 23ms/step - loss: 0.1945 - accuracy: 0.9706 - val_loss: 0.1715 - val_accuracy: 0.9787\n",
      "Epoch 47/80\n",
      "120/120 [==============================] - 3s 23ms/step - loss: 0.1935 - accuracy: 0.9714 - val_loss: 0.1661 - val_accuracy: 0.9803\n",
      "Epoch 48/80\n",
      "120/120 [==============================] - 3s 21ms/step - loss: 0.1914 - accuracy: 0.9710 - val_loss: 0.1619 - val_accuracy: 0.9808\n",
      "Epoch 49/80\n",
      "120/120 [==============================] - 2s 19ms/step - loss: 0.1928 - accuracy: 0.9710 - val_loss: 0.1769 - val_accuracy: 0.9762\n",
      "Epoch 50/80\n",
      "120/120 [==============================] - 2s 19ms/step - loss: 0.1948 - accuracy: 0.9694 - val_loss: 0.1709 - val_accuracy: 0.9771\n",
      "Epoch 51/80\n",
      "120/120 [==============================] - 2s 20ms/step - loss: 0.1906 - accuracy: 0.9709 - val_loss: 0.1607 - val_accuracy: 0.9816\n",
      "Epoch 52/80\n",
      "120/120 [==============================] - 2s 19ms/step - loss: 0.1890 - accuracy: 0.9711 - val_loss: 0.1815 - val_accuracy: 0.9724\n",
      "Epoch 53/80\n",
      "120/120 [==============================] - 2s 20ms/step - loss: 0.1895 - accuracy: 0.9705 - val_loss: 0.1597 - val_accuracy: 0.9812\n",
      "Epoch 54/80\n",
      "120/120 [==============================] - 3s 23ms/step - loss: 0.1870 - accuracy: 0.9716 - val_loss: 0.1674 - val_accuracy: 0.9781\n",
      "Epoch 55/80\n",
      "120/120 [==============================] - 3s 21ms/step - loss: 0.1877 - accuracy: 0.9714 - val_loss: 0.1610 - val_accuracy: 0.9802\n",
      "Epoch 56/80\n",
      "120/120 [==============================] - 2s 20ms/step - loss: 0.1866 - accuracy: 0.9716 - val_loss: 0.1760 - val_accuracy: 0.9761\n",
      "Epoch 57/80\n",
      "120/120 [==============================] - 2s 20ms/step - loss: 0.1860 - accuracy: 0.9712 - val_loss: 0.1557 - val_accuracy: 0.9812\n",
      "Epoch 58/80\n",
      "120/120 [==============================] - 2s 20ms/step - loss: 0.1833 - accuracy: 0.9714 - val_loss: 0.1602 - val_accuracy: 0.9809\n",
      "Epoch 59/80\n",
      "120/120 [==============================] - 2s 20ms/step - loss: 0.1817 - accuracy: 0.9725 - val_loss: 0.1586 - val_accuracy: 0.9796\n",
      "Epoch 60/80\n",
      "120/120 [==============================] - 2s 20ms/step - loss: 0.1813 - accuracy: 0.9722 - val_loss: 0.1576 - val_accuracy: 0.9806\n",
      "Epoch 61/80\n",
      "120/120 [==============================] - 3s 21ms/step - loss: 0.1815 - accuracy: 0.9720 - val_loss: 0.1618 - val_accuracy: 0.9789\n",
      "Epoch 62/80\n",
      "120/120 [==============================] - 2s 21ms/step - loss: 0.1814 - accuracy: 0.9724 - val_loss: 0.1600 - val_accuracy: 0.9789\n",
      "Epoch 63/80\n",
      "120/120 [==============================] - 3s 21ms/step - loss: 0.1787 - accuracy: 0.9725 - val_loss: 0.1755 - val_accuracy: 0.9742\n",
      "Epoch 64/80\n",
      "120/120 [==============================] - 2s 20ms/step - loss: 0.1782 - accuracy: 0.9727 - val_loss: 0.1549 - val_accuracy: 0.9810\n",
      "Epoch 65/80\n",
      "120/120 [==============================] - 2s 21ms/step - loss: 0.1788 - accuracy: 0.9728 - val_loss: 0.1528 - val_accuracy: 0.9806\n",
      "Epoch 66/80\n",
      "120/120 [==============================] - 2s 20ms/step - loss: 0.1759 - accuracy: 0.9735 - val_loss: 0.1575 - val_accuracy: 0.9787\n",
      "Epoch 67/80\n",
      "120/120 [==============================] - 2s 20ms/step - loss: 0.1787 - accuracy: 0.9715 - val_loss: 0.1547 - val_accuracy: 0.9806\n",
      "Epoch 68/80\n",
      "120/120 [==============================] - 2s 21ms/step - loss: 0.1765 - accuracy: 0.9727 - val_loss: 0.1498 - val_accuracy: 0.9822\n",
      "Epoch 69/80\n",
      "120/120 [==============================] - 2s 21ms/step - loss: 0.1764 - accuracy: 0.9726 - val_loss: 0.1488 - val_accuracy: 0.9823\n",
      "Epoch 70/80\n",
      "120/120 [==============================] - 2s 20ms/step - loss: 0.1752 - accuracy: 0.9721 - val_loss: 0.1546 - val_accuracy: 0.9807\n",
      "Epoch 71/80\n",
      "120/120 [==============================] - 2s 20ms/step - loss: 0.1741 - accuracy: 0.9726 - val_loss: 0.1623 - val_accuracy: 0.9773\n",
      "Epoch 72/80\n",
      "120/120 [==============================] - 2s 20ms/step - loss: 0.1724 - accuracy: 0.9733 - val_loss: 0.1823 - val_accuracy: 0.9698\n",
      "Epoch 73/80\n",
      "120/120 [==============================] - 3s 22ms/step - loss: 0.1733 - accuracy: 0.9730 - val_loss: 0.1571 - val_accuracy: 0.9789\n",
      "Epoch 74/80\n",
      "120/120 [==============================] - 3s 21ms/step - loss: 0.1706 - accuracy: 0.9732 - val_loss: 0.1721 - val_accuracy: 0.9753\n",
      "Epoch 75/80\n",
      "120/120 [==============================] - 2s 21ms/step - loss: 0.1707 - accuracy: 0.9735 - val_loss: 0.1571 - val_accuracy: 0.9779\n",
      "Epoch 76/80\n",
      "120/120 [==============================] - 2s 20ms/step - loss: 0.1679 - accuracy: 0.9739 - val_loss: 0.1621 - val_accuracy: 0.9759\n",
      "Epoch 77/80\n",
      "120/120 [==============================] - 2s 21ms/step - loss: 0.1710 - accuracy: 0.9728 - val_loss: 0.1804 - val_accuracy: 0.9700\n",
      "Epoch 78/80\n",
      "120/120 [==============================] - 2s 20ms/step - loss: 0.1707 - accuracy: 0.9733 - val_loss: 0.1698 - val_accuracy: 0.9742\n",
      "Epoch 79/80\n",
      "120/120 [==============================] - 2s 21ms/step - loss: 0.1677 - accuracy: 0.9744 - val_loss: 0.1453 - val_accuracy: 0.9824\n",
      "Epoch 80/80\n",
      "120/120 [==============================] - 2s 20ms/step - loss: 0.1692 - accuracy: 0.9729 - val_loss: 0.1618 - val_accuracy: 0.9765\n",
      "CPU times: total: 4min 7s\n",
      "Wall time: 3min 11s\n"
     ]
    }
   ],
   "source": [
    "%%time\n",
    "batch_size = 400\n",
    "epochs = 80\n",
    "validation_split = 0.2\n",
    "history = model.fit(X_train, y_train_fixed, batch_size=batch_size, epochs=epochs, validation_split=0.2, callbacks=[model_checkpoint_callback])"
   ]
  },
  {
   "cell_type": "code",
   "execution_count": 100,
   "metadata": {},
   "outputs": [
    {
     "name": "stdout",
     "output_type": "stream",
     "text": [
      "313/313 [==============================] - 1s 3ms/step - loss: 0.1505 - accuracy: 0.9807\n",
      "0.15047399699687958 0.9807000160217285\n"
     ]
    }
   ],
   "source": [
    "# Evaluate the best checkpoint\n",
    "\n",
    "best_checkpoint = keras.models.load_model(CHECKPOINT_PATH)\n",
    "\n",
    "loss, score = best_checkpoint.evaluate(X_test, y_test_fixed)\n",
    "\n",
    "print(loss, score)"
   ]
  },
  {
   "cell_type": "code",
   "execution_count": 101,
   "metadata": {},
   "outputs": [
    {
     "data": {
      "text/plain": [
       "Text(0.5, 1.0, 'Loss Curves')"
      ]
     },
     "execution_count": 101,
     "metadata": {},
     "output_type": "execute_result"
    },
    {
     "data": {
      "image/png": "[encoded data removed]",
      "text/plain": [
       "<Figure size 600x400 with 1 Axes>"
      ]
     },
     "metadata": {},
     "output_type": "display_data"
    }
   ],
   "source": [
    "# Plotting the loss curve\n",
    "plt.figure(figsize=[6, 4])\n",
    "plt.plot(history.history['loss'], 'black', linewidth=2.0)\n",
    "plt.plot(history.history['val_loss'], 'blue', linewidth=2.0)\n",
    "plt.legend(['Training Loss', 'Validation Loss'], fontsize=12)\n",
    "plt.xlabel('Epochs', fontsize=10)\n",
    "plt.ylabel('Loss', fontsize=10)\n",
    "plt.title('Loss Curves', fontsize=12)"
   ]
  },
  {
   "cell_type": "code",
   "execution_count": 102,
   "metadata": {},
   "outputs": [
    {
     "data": {
      "text/plain": [
       "Text(0.5, 1.0, 'Accuracy Curves')"
      ]
     },
     "execution_count": 102,
     "metadata": {},
     "output_type": "execute_result"
    },
    {
     "data": {
      "image/png": "[encoded data removed]",
      "text/plain": [
       "<Figure size 600x400 with 1 Axes>"
      ]
     },
     "metadata": {},
     "output_type": "display_data"
    }
   ],
   "source": [
    "# Plotting the accuracy curve\n",
    "plt.figure(figsize=[6, 4])\n",
    "plt.plot(history.history['accuracy'], 'black', linewidth=2.0)\n",
    "plt.plot(history.history['val_accuracy'], 'blue', linewidth=2.0)\n",
    "plt.legend(['Training Accuracy', 'Validation Accuracy'], fontsize=12)\n",
    "plt.xlabel('Epochs', fontsize=10)\n",
    "plt.ylabel('Accuracy', fontsize=10)\n",
    "plt.title('Accuracy Curves', fontsize=12)"
   ]
  },
  {
   "cell_type": "markdown",
   "metadata": {},
   "source": [
    "### Saving model to file"
   ]
  },
  {
   "cell_type": "code",
   "execution_count": 103,
   "metadata": {},
   "outputs": [],
   "source": [
    "import json\n",
    "\n",
    "with open('models/checkpoints/mnist_model_best_history.json', 'w') as f:\n",
    "  json.dump(history.history, f)"
   ]
  }
 ],
 "metadata": {
  "kernelspec": {
   "display_name": "Python 3 (ipykernel)",
   "language": "python",
   "name": "python3"
  },
  "language_info": {
   "codemirror_mode": {
    "name": "ipython",
    "version": 3
   },
   "file_extension": ".py",
   "mimetype": "text/x-python",
   "name": "python",
   "nbconvert_exporter": "python",
   "pygments_lexer": "ipython3",
   "version": "3.10.13"
  }
 },
 "nbformat": 4,
 "nbformat_minor": 4
}
