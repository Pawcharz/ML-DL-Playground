{
 "cells": [
  {
   "cell_type": "code",
   "execution_count": 103,
   "metadata": {},
   "outputs": [],
   "source": [
    "import numpy as np\n",
    "from tensorflow import keras\n",
    "from tensorflow.keras import layers"
   ]
  },
  {
   "cell_type": "markdown",
   "metadata": {},
   "source": [
    "### Loading Data"
   ]
  },
  {
   "cell_type": "code",
   "execution_count": 104,
   "metadata": {},
   "outputs": [
    {
     "data": {
      "text/plain": [
       "(50000, 10)"
      ]
     },
     "execution_count": 104,
     "metadata": {},
     "output_type": "execute_result"
    }
   ],
   "source": [
    "(x_train, y_train), (x_test, y_test) = keras.datasets.cifar10.load_data()\n",
    "\n",
    "# Getting dummy variables\n",
    "y_train_fixed = np.zeros((x_train.shape[0], 10))\n",
    "\n",
    "i = 0\n",
    "for [val] in y_train:\n",
    "  y_train_fixed[i][val] = 1\n",
    "  i += 1\n",
    "  \n",
    "y_train_fixed.shape"
   ]
  },
  {
   "cell_type": "markdown",
   "metadata": {},
   "source": [
    "### Setting up the model"
   ]
  },
  {
   "cell_type": "code",
   "execution_count": 105,
   "metadata": {},
   "outputs": [
    {
     "name": "stdout",
     "output_type": "stream",
     "text": [
      "Model: \"sequential_37\"\n",
      "_________________________________________________________________\n",
      " Layer (type)                Output Shape              Param #   \n",
      "=================================================================\n",
      " conv2d_82 (Conv2D)          (None, 32, 32, 32)        896       \n",
      "                                                                 \n",
      " max_pooling2d_77 (MaxPoolin  (None, 16, 16, 32)       0         \n",
      " g2D)                                                            \n",
      "                                                                 \n",
      " conv2d_83 (Conv2D)          (None, 16, 16, 64)        18496     \n",
      "                                                                 \n",
      " max_pooling2d_78 (MaxPoolin  (None, 8, 8, 64)         0         \n",
      " g2D)                                                            \n",
      "                                                                 \n",
      " conv2d_84 (Conv2D)          (None, 8, 8, 64)          36928     \n",
      "                                                                 \n",
      " flatten_37 (Flatten)        (None, 4096)              0         \n",
      "                                                                 \n",
      " dense_37 (Dense)            (None, 10)                40970     \n",
      "                                                                 \n",
      "=================================================================\n",
      "Total params: 97,290\n",
      "Trainable params: 97,290\n",
      "Non-trainable params: 0\n",
      "_________________________________________________________________\n"
     ]
    }
   ],
   "source": [
    "num_classes = 10\n",
    "\n",
    "model = keras.Sequential(\n",
    "  [\n",
    "    keras.Input(shape=(32, 32, 3)),\n",
    "    layers.Conv2D(32, kernel_size=(3, 3), padding='same', activation=\"relu\"),\n",
    "    layers.MaxPooling2D(pool_size=(2, 2)),\n",
    "    layers.Conv2D(64, kernel_size=(3, 3), padding='same', activation=\"relu\"),\n",
    "    layers.MaxPooling2D(pool_size=(2, 2)),\n",
    "    layers.Conv2D(64, kernel_size=(3, 3), padding='same', activation=\"relu\"),\n",
    "    layers.Flatten(),\n",
    "    # layers.Dropout(0.5), # This layer randomly disabled some of the neurons\n",
    "    layers.Dense(num_classes, activation=\"softmax\"),\n",
    "  ]\n",
    ")\n",
    "\n",
    "model.summary()\n"
   ]
  },
  {
   "cell_type": "code",
   "execution_count": 106,
   "metadata": {},
   "outputs": [],
   "source": [
    "model.compile(loss=\"categorical_crossentropy\", optimizer=\"adam\", metrics=[\"accuracy\"])"
   ]
  },
  {
   "cell_type": "markdown",
   "metadata": {},
   "source": [
    "### Training model"
   ]
  },
  {
   "cell_type": "code",
   "execution_count": 107,
   "metadata": {},
   "outputs": [
    {
     "name": "stdout",
     "output_type": "stream",
     "text": [
      "Epoch 1/30\n",
      "36/36 [==============================] - 4s 75ms/step - loss: 13.1315 - accuracy: 0.1424 - val_loss: 2.1475 - val_accuracy: 0.2260\n",
      "Epoch 2/30\n",
      "36/36 [==============================] - 2s 60ms/step - loss: 1.9671 - accuracy: 0.2844 - val_loss: 1.8674 - val_accuracy: 0.3440\n",
      "Epoch 3/30\n",
      "36/36 [==============================] - 2s 54ms/step - loss: 1.6944 - accuracy: 0.3960 - val_loss: 1.7124 - val_accuracy: 0.3960\n",
      "Epoch 4/30\n",
      "36/36 [==============================] - 2s 54ms/step - loss: 1.4973 - accuracy: 0.4731 - val_loss: 1.6912 - val_accuracy: 0.4120\n",
      "Epoch 5/30\n",
      "36/36 [==============================] - 2s 55ms/step - loss: 1.3392 - accuracy: 0.5302 - val_loss: 1.5974 - val_accuracy: 0.4360\n",
      "Epoch 6/30\n",
      "36/36 [==============================] - 2s 57ms/step - loss: 1.1950 - accuracy: 0.5798 - val_loss: 1.5797 - val_accuracy: 0.4700\n",
      "Epoch 7/30\n",
      "36/36 [==============================] - 2s 58ms/step - loss: 1.0798 - accuracy: 0.6298 - val_loss: 1.6206 - val_accuracy: 0.4740\n",
      "Epoch 8/30\n",
      "36/36 [==============================] - 2s 59ms/step - loss: 0.9609 - accuracy: 0.6724 - val_loss: 1.6082 - val_accuracy: 0.5000\n",
      "Epoch 9/30\n",
      "36/36 [==============================] - 2s 61ms/step - loss: 0.8768 - accuracy: 0.6989 - val_loss: 1.7590 - val_accuracy: 0.4580\n",
      "Epoch 10/30\n",
      "36/36 [==============================] - 2s 64ms/step - loss: 0.7720 - accuracy: 0.7444 - val_loss: 1.7245 - val_accuracy: 0.4800\n",
      "Epoch 11/30\n",
      "36/36 [==============================] - 2s 59ms/step - loss: 0.6834 - accuracy: 0.7653 - val_loss: 1.7849 - val_accuracy: 0.4820\n",
      "Epoch 12/30\n",
      "36/36 [==============================] - 2s 56ms/step - loss: 0.6080 - accuracy: 0.7951 - val_loss: 1.7947 - val_accuracy: 0.4960\n",
      "Epoch 13/30\n",
      "36/36 [==============================] - 2s 57ms/step - loss: 0.5438 - accuracy: 0.8218 - val_loss: 2.0564 - val_accuracy: 0.4720\n",
      "Epoch 14/30\n",
      "36/36 [==============================] - 2s 55ms/step - loss: 0.5063 - accuracy: 0.8304 - val_loss: 1.9845 - val_accuracy: 0.4840\n",
      "Epoch 15/30\n",
      "36/36 [==============================] - 2s 57ms/step - loss: 0.4147 - accuracy: 0.8618 - val_loss: 2.0407 - val_accuracy: 0.5000\n",
      "Epoch 16/30\n",
      "36/36 [==============================] - 2s 61ms/step - loss: 0.3412 - accuracy: 0.8900 - val_loss: 2.1948 - val_accuracy: 0.4860\n",
      "Epoch 17/30\n",
      "36/36 [==============================] - 2s 64ms/step - loss: 0.2760 - accuracy: 0.9167 - val_loss: 2.2932 - val_accuracy: 0.5020\n",
      "Epoch 18/30\n",
      "36/36 [==============================] - 2s 60ms/step - loss: 0.2496 - accuracy: 0.9287 - val_loss: 2.3031 - val_accuracy: 0.5060\n",
      "Epoch 19/30\n",
      "36/36 [==============================] - 2s 54ms/step - loss: 0.2043 - accuracy: 0.9460 - val_loss: 2.5546 - val_accuracy: 0.4740\n",
      "Epoch 20/30\n",
      "36/36 [==============================] - 2s 58ms/step - loss: 0.1868 - accuracy: 0.9480 - val_loss: 2.7689 - val_accuracy: 0.5060\n",
      "Epoch 21/30\n",
      "36/36 [==============================] - 2s 56ms/step - loss: 0.1575 - accuracy: 0.9596 - val_loss: 2.7079 - val_accuracy: 0.5080\n",
      "Epoch 22/30\n",
      "36/36 [==============================] - 2s 61ms/step - loss: 0.1209 - accuracy: 0.9744 - val_loss: 2.9590 - val_accuracy: 0.4760\n",
      "Epoch 23/30\n",
      "36/36 [==============================] - 3s 70ms/step - loss: 0.1294 - accuracy: 0.9682 - val_loss: 2.8280 - val_accuracy: 0.4940\n",
      "Epoch 24/30\n",
      "36/36 [==============================] - 2s 66ms/step - loss: 0.0862 - accuracy: 0.9853 - val_loss: 2.9070 - val_accuracy: 0.5180\n",
      "Epoch 25/30\n",
      "36/36 [==============================] - 2s 60ms/step - loss: 0.0819 - accuracy: 0.9851 - val_loss: 3.0951 - val_accuracy: 0.4840\n",
      "Epoch 26/30\n",
      "36/36 [==============================] - 2s 64ms/step - loss: 0.0602 - accuracy: 0.9909 - val_loss: 3.2250 - val_accuracy: 0.5020\n",
      "Epoch 27/30\n",
      "36/36 [==============================] - 2s 58ms/step - loss: 0.0737 - accuracy: 0.9822 - val_loss: 3.4038 - val_accuracy: 0.5100\n",
      "Epoch 28/30\n",
      "36/36 [==============================] - 2s 60ms/step - loss: 0.0439 - accuracy: 0.9958 - val_loss: 3.3479 - val_accuracy: 0.5020\n",
      "Epoch 29/30\n",
      "36/36 [==============================] - 2s 56ms/step - loss: 0.0431 - accuracy: 0.9947 - val_loss: 3.4592 - val_accuracy: 0.4800\n",
      "Epoch 30/30\n",
      "36/36 [==============================] - 2s 57ms/step - loss: 0.0266 - accuracy: 0.9982 - val_loss: 3.5658 - val_accuracy: 0.4900\n"
     ]
    }
   ],
   "source": [
    "batch_size = 128 # Training data will be split in chunks of this size that will be passed through the network at the same time\n",
    "epochs = 30 # During one epoch the model 'sees' all of the training data, with this parameter we determine how many times the model will be allowed to see them\n",
    "validation_split = 0.1 # Determines what percentage of training data will be used to validate the model after each epoch\n",
    "history = model.fit(x_train[:5000], y_train_fixed[:5000], batch_size=batch_size, epochs=epochs, validation_split=validation_split)"
   ]
  }
 ],
 "metadata": {
  "kernelspec": {
   "display_name": "base",
   "language": "python",
   "name": "python3"
  },
  "language_info": {
   "codemirror_mode": {
    "name": "ipython",
    "version": 3
   },
   "file_extension": ".py",
   "mimetype": "text/x-python",
   "name": "python",
   "nbconvert_exporter": "python",
   "pygments_lexer": "ipython3",
   "version": "3.10.9"
  },
  "orig_nbformat": 4
 },
 "nbformat": 4,
 "nbformat_minor": 2
}
