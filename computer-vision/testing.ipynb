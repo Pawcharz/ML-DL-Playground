{
 "cells": [
  {
   "cell_type": "code",
   "execution_count": 58,
   "metadata": {},
   "outputs": [],
   "source": [
    "import numpy as np\n",
    "from tensorflow import keras\n",
    "from tensorflow.keras import layers"
   ]
  },
  {
   "cell_type": "markdown",
   "metadata": {},
   "source": [
    "### Loading Data"
   ]
  },
  {
   "cell_type": "code",
   "execution_count": 59,
   "metadata": {},
   "outputs": [
    {
     "data": {
      "text/plain": [
       "array([[0., 0., 0., ..., 0., 0., 0.],\n",
       "       [0., 0., 0., ..., 0., 0., 1.],\n",
       "       [0., 0., 0., ..., 0., 0., 1.],\n",
       "       ...,\n",
       "       [0., 0., 0., ..., 0., 0., 1.],\n",
       "       [0., 1., 0., ..., 0., 0., 0.],\n",
       "       [0., 1., 0., ..., 0., 0., 0.]])"
      ]
     },
     "execution_count": 59,
     "metadata": {},
     "output_type": "execute_result"
    }
   ],
   "source": [
    "(x_train, y_train), (x_test, y_test) = keras.datasets.cifar10.load_data()\n",
    "\n",
    "# Getting dummy variables\n",
    "y_train_fixed = np.zeros((x_train.shape[0], 10))\n",
    "\n",
    "i = 0\n",
    "for [val] in y_train:\n",
    "  y_train_fixed[i][val] = 1\n",
    "  i += 1\n",
    "  \n",
    "y_train_fixed"
   ]
  },
  {
   "cell_type": "markdown",
   "metadata": {},
   "source": [
    "### Setting up the model"
   ]
  },
  {
   "cell_type": "code",
   "execution_count": 60,
   "metadata": {},
   "outputs": [
    {
     "name": "stdout",
     "output_type": "stream",
     "text": [
      "Model: \"sequential_15\"\n",
      "_________________________________________________________________\n",
      " Layer (type)                Output Shape              Param #   \n",
      "=================================================================\n",
      " conv2d_30 (Conv2D)          (None, 32, 32, 32)        896       \n",
      "                                                                 \n",
      " max_pooling2d_30 (MaxPoolin  (None, 16, 16, 32)       0         \n",
      " g2D)                                                            \n",
      "                                                                 \n",
      " conv2d_31 (Conv2D)          (None, 16, 16, 64)        18496     \n",
      "                                                                 \n",
      " max_pooling2d_31 (MaxPoolin  (None, 8, 8, 64)         0         \n",
      " g2D)                                                            \n",
      "                                                                 \n",
      " flatten_15 (Flatten)        (None, 4096)              0         \n",
      "                                                                 \n",
      " dense_15 (Dense)            (None, 10)                40970     \n",
      "                                                                 \n",
      "=================================================================\n",
      "Total params: 60,362\n",
      "Trainable params: 60,362\n",
      "Non-trainable params: 0\n",
      "_________________________________________________________________\n"
     ]
    }
   ],
   "source": [
    "num_classes = 10\n",
    "\n",
    "model = keras.Sequential(\n",
    "  [\n",
    "    keras.Input(shape=(32, 32, 3)),\n",
    "    layers.Conv2D(32, kernel_size=(3, 3), padding='same', activation=\"relu\"), # This is the convolution layer that was described on the meeting, it has relu activation function\n",
    "    layers.MaxPooling2D(pool_size=(2, 2)), # This is the pooling layer, it \n",
    "    layers.Conv2D(64, kernel_size=(3, 3), padding='same', activation=\"relu\"),\n",
    "    layers.MaxPooling2D(pool_size=(2, 2)),\n",
    "    layers.Flatten(),\n",
    "    # layers.Dropout(0.5), # This layer randomly disabled some of the neurons\n",
    "    layers.Dense(num_classes, activation=\"softmax\"),\n",
    "  ]\n",
    ")\n",
    "\n",
    "model.summary()\n"
   ]
  },
  {
   "cell_type": "code",
   "execution_count": 61,
   "metadata": {},
   "outputs": [],
   "source": [
    "model.compile(loss=\"categorical_crossentropy\", optimizer=\"adam\", metrics=[\"accuracy\"])"
   ]
  },
  {
   "cell_type": "markdown",
   "metadata": {},
   "source": [
    "### Training model"
   ]
  },
  {
   "cell_type": "code",
   "execution_count": 62,
   "metadata": {},
   "outputs": [
    {
     "name": "stdout",
     "output_type": "stream",
     "text": [
      "Epoch 1/10\n",
      "352/352 [==============================] - 19s 51ms/step - loss: 4.1040 - accuracy: 0.3367 - val_loss: 1.5064 - val_accuracy: 0.4626\n",
      "Epoch 2/10\n",
      "352/352 [==============================] - 17s 47ms/step - loss: 1.4531 - accuracy: 0.4807 - val_loss: 1.5051 - val_accuracy: 0.4654\n",
      "Epoch 3/10\n",
      "352/352 [==============================] - 17s 50ms/step - loss: 1.3297 - accuracy: 0.5274 - val_loss: 1.3061 - val_accuracy: 0.5404\n",
      "Epoch 4/10\n",
      "352/352 [==============================] - 17s 47ms/step - loss: 1.2329 - accuracy: 0.5640 - val_loss: 1.2529 - val_accuracy: 0.5634\n",
      "Epoch 5/10\n",
      "352/352 [==============================] - 18s 52ms/step - loss: 1.1466 - accuracy: 0.5951 - val_loss: 1.1863 - val_accuracy: 0.5830\n",
      "Epoch 6/10\n",
      "352/352 [==============================] - 17s 49ms/step - loss: 1.0857 - accuracy: 0.6200 - val_loss: 1.1642 - val_accuracy: 0.6004\n",
      "Epoch 7/10\n",
      "352/352 [==============================] - 17s 48ms/step - loss: 1.0308 - accuracy: 0.6415 - val_loss: 1.1549 - val_accuracy: 0.6018\n",
      "Epoch 8/10\n",
      "352/352 [==============================] - 16s 46ms/step - loss: 0.9822 - accuracy: 0.6572 - val_loss: 1.1285 - val_accuracy: 0.6112\n",
      "Epoch 9/10\n",
      "352/352 [==============================] - 17s 49ms/step - loss: 0.9449 - accuracy: 0.6704 - val_loss: 1.1125 - val_accuracy: 0.6242\n",
      "Epoch 10/10\n",
      "352/352 [==============================] - 18s 50ms/step - loss: 0.9084 - accuracy: 0.6855 - val_loss: 1.1152 - val_accuracy: 0.6312\n"
     ]
    }
   ],
   "source": [
    "batch_size = 128 # Training data will be split in chunks of this size that will be passed through the network at the same time\n",
    "epochs = 10 # During one epoch the model 'sees' all of the training data, with this parameter we determine how many times the model will be allowed to see them\n",
    "validation_split = 0.1 # Determines what percentage of training data will be used to validate the model after each epoch\n",
    "history = model.fit(x_train, y_train_fixed, batch_size=batch_size, epochs=epochs, validation_split=validation_split)"
   ]
  }
 ],
 "metadata": {
  "kernelspec": {
   "display_name": "base",
   "language": "python",
   "name": "python3"
  },
  "language_info": {
   "codemirror_mode": {
    "name": "ipython",
    "version": 3
   },
   "file_extension": ".py",
   "mimetype": "text/x-python",
   "name": "python",
   "nbconvert_exporter": "python",
   "pygments_lexer": "ipython3",
   "version": "3.10.9"
  },
  "orig_nbformat": 4
 },
 "nbformat": 4,
 "nbformat_minor": 2
}
